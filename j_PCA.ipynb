{
 "cells": [
  {
   "cell_type": "markdown",
   "id": "24fa4570",
   "metadata": {},
   "source": [
    "주성분 분석(PCA) : 차원 축소 응용"
   ]
  },
  {
   "cell_type": "markdown",
   "id": "4fb1888b",
   "metadata": {},
   "source": [
    "목표: 데이터의 차원을 축소하여 이해하기 쉽게 시각화"
   ]
  },
  {
   "cell_type": "markdown",
   "id": "1072b88e",
   "metadata": {},
   "source": [
    "via 최효원's Jupyter Notebook"
   ]
  },
  {
   "cell_type": "markdown",
   "id": "e815e90e",
   "metadata": {},
   "source": []
  },
  {
   "cell_type": "markdown",
   "id": "e3bcdd70",
   "metadata": {},
   "source": [
    "첫번째 작업은 K-means clustering 작업에서 예측 결과가 포함된 최종 고객 분석 데이터셋을 활용했습니다.\n",
    "두번째 작업은 독립변수가 1000개가 넘지만 변수명이 없는 데이터셋을 활용했습니다.\n",
    "\n",
    "수많은 독립변수의 갯수를 줄이면서, 가능한 그 특성을 보존해낼 수 있고\n",
    "기존 변수 중 일부를 그대로 선택하는 방식이 아닌, 기존 변수 정보를 모두 반영하는\n",
    "새로운 변수를 만드는 차원 축소 작업을 PCA 를 활용해 진행했습니다.\n",
    "\n",
    "두번째 작업에서는 PCA 전과 후, 모델 학습 시간이 얼마나 단축되는지 확인했습니다."
   ]
  },
  {
   "cell_type": "markdown",
   "id": "d33489e7",
   "metadata": {},
   "source": []
  },
  {
   "cell_type": "code",
   "execution_count": 1,
   "id": "5091c1a0",
   "metadata": {},
   "outputs": [
    {
     "data": {
      "text/html": [
       "<div>\n",
       "<style scoped>\n",
       "    .dataframe tbody tr th:only-of-type {\n",
       "        vertical-align: middle;\n",
       "    }\n",
       "\n",
       "    .dataframe tbody tr th {\n",
       "        vertical-align: top;\n",
       "    }\n",
       "\n",
       "    .dataframe thead th {\n",
       "        text-align: right;\n",
       "    }\n",
       "</style>\n",
       "<table border=\"1\" class=\"dataframe\">\n",
       "  <thead>\n",
       "    <tr style=\"text-align: right;\">\n",
       "      <th></th>\n",
       "      <th>amt</th>\n",
       "      <th>category_entertainment</th>\n",
       "      <th>category_food_dining</th>\n",
       "      <th>category_gas_transport</th>\n",
       "      <th>category_grocery</th>\n",
       "      <th>category_health_fitness</th>\n",
       "      <th>category_home</th>\n",
       "      <th>category_kids_pets</th>\n",
       "      <th>category_misc</th>\n",
       "      <th>category_personal_care</th>\n",
       "      <th>category_shopping</th>\n",
       "      <th>category_travel</th>\n",
       "      <th>label</th>\n",
       "    </tr>\n",
       "  </thead>\n",
       "  <tbody>\n",
       "    <tr>\n",
       "      <th>0</th>\n",
       "      <td>-1.402327</td>\n",
       "      <td>-1.135617</td>\n",
       "      <td>-0.971069</td>\n",
       "      <td>-1.000180</td>\n",
       "      <td>-1.118217</td>\n",
       "      <td>-1.561756</td>\n",
       "      <td>-1.145051</td>\n",
       "      <td>-1.276913</td>\n",
       "      <td>-1.124693</td>\n",
       "      <td>-1.070260</td>\n",
       "      <td>-1.141424</td>\n",
       "      <td>-0.619930</td>\n",
       "      <td>0</td>\n",
       "    </tr>\n",
       "    <tr>\n",
       "      <th>1</th>\n",
       "      <td>1.079407</td>\n",
       "      <td>0.414075</td>\n",
       "      <td>0.168880</td>\n",
       "      <td>2.090013</td>\n",
       "      <td>0.767268</td>\n",
       "      <td>1.040236</td>\n",
       "      <td>0.844969</td>\n",
       "      <td>1.127922</td>\n",
       "      <td>1.210503</td>\n",
       "      <td>1.807350</td>\n",
       "      <td>0.659967</td>\n",
       "      <td>-0.222587</td>\n",
       "      <td>3</td>\n",
       "    </tr>\n",
       "    <tr>\n",
       "      <th>2</th>\n",
       "      <td>1.200151</td>\n",
       "      <td>0.747127</td>\n",
       "      <td>1.622968</td>\n",
       "      <td>-0.606627</td>\n",
       "      <td>0.439476</td>\n",
       "      <td>1.376630</td>\n",
       "      <td>2.126364</td>\n",
       "      <td>0.378610</td>\n",
       "      <td>-0.196523</td>\n",
       "      <td>0.127825</td>\n",
       "      <td>1.299938</td>\n",
       "      <td>2.766891</td>\n",
       "      <td>1</td>\n",
       "    </tr>\n",
       "    <tr>\n",
       "      <th>3</th>\n",
       "      <td>-1.474915</td>\n",
       "      <td>-1.129427</td>\n",
       "      <td>-1.539741</td>\n",
       "      <td>-0.930355</td>\n",
       "      <td>-1.079803</td>\n",
       "      <td>-1.222903</td>\n",
       "      <td>-1.572733</td>\n",
       "      <td>-1.516610</td>\n",
       "      <td>-1.274986</td>\n",
       "      <td>-1.185705</td>\n",
       "      <td>-1.166127</td>\n",
       "      <td>-0.601675</td>\n",
       "      <td>0</td>\n",
       "    </tr>\n",
       "    <tr>\n",
       "      <th>4</th>\n",
       "      <td>0.901491</td>\n",
       "      <td>0.257905</td>\n",
       "      <td>-0.320220</td>\n",
       "      <td>2.083588</td>\n",
       "      <td>0.540547</td>\n",
       "      <td>0.705908</td>\n",
       "      <td>1.097814</td>\n",
       "      <td>0.955178</td>\n",
       "      <td>1.198524</td>\n",
       "      <td>1.640103</td>\n",
       "      <td>0.578781</td>\n",
       "      <td>-0.484796</td>\n",
       "      <td>3</td>\n",
       "    </tr>\n",
       "  </tbody>\n",
       "</table>\n",
       "</div>"
      ],
      "text/plain": [
       "        amt  category_entertainment  category_food_dining  \\\n",
       "0 -1.402327               -1.135617             -0.971069   \n",
       "1  1.079407                0.414075              0.168880   \n",
       "2  1.200151                0.747127              1.622968   \n",
       "3 -1.474915               -1.129427             -1.539741   \n",
       "4  0.901491                0.257905             -0.320220   \n",
       "\n",
       "   category_gas_transport  category_grocery  category_health_fitness  \\\n",
       "0               -1.000180         -1.118217                -1.561756   \n",
       "1                2.090013          0.767268                 1.040236   \n",
       "2               -0.606627          0.439476                 1.376630   \n",
       "3               -0.930355         -1.079803                -1.222903   \n",
       "4                2.083588          0.540547                 0.705908   \n",
       "\n",
       "   category_home  category_kids_pets  category_misc  category_personal_care  \\\n",
       "0      -1.145051           -1.276913      -1.124693               -1.070260   \n",
       "1       0.844969            1.127922       1.210503                1.807350   \n",
       "2       2.126364            0.378610      -0.196523                0.127825   \n",
       "3      -1.572733           -1.516610      -1.274986               -1.185705   \n",
       "4       1.097814            0.955178       1.198524                1.640103   \n",
       "\n",
       "   category_shopping  category_travel  label  \n",
       "0          -1.141424        -0.619930      0  \n",
       "1           0.659967        -0.222587      3  \n",
       "2           1.299938         2.766891      1  \n",
       "3          -1.166127        -0.601675      0  \n",
       "4           0.578781        -0.484796      3  "
      ]
     },
     "execution_count": 1,
     "metadata": {},
     "output_type": "execute_result"
    }
   ],
   "source": [
    "import pandas as pd\n",
    "import numpy as np\n",
    "import seaborn as sns\n",
    "import matplotlib.pyplot as plt\n",
    "\n",
    "#Data 1 (K-means clustering 작업 결과물 데이터셋)\n",
    "\n",
    "df = pd.read_csv('https://raw.githubusercontent.com/snkn1959/data_source/main/customer_pca.csv')\n",
    "#데이터 출처 : https://raw.githubusercontent.com/snkn1959/data_source\n",
    "df.head()\n",
    "#amt(거래금액) ~ category_travel : 독립변수\n",
    "#label - 고객 군집(종속변수, target)"
   ]
  },
  {
   "cell_type": "code",
   "execution_count": 2,
   "id": "d353e9bc",
   "metadata": {},
   "outputs": [],
   "source": [
    "X = df.drop('label', axis = 1)\n",
    "#독립변수 지정\n",
    "y = df['label']\n",
    "#종속변수 지정"
   ]
  },
  {
   "cell_type": "code",
   "execution_count": 4,
   "id": "b5d960aa",
   "metadata": {},
   "outputs": [
    {
     "data": {
      "text/html": [
       "<div>\n",
       "<style scoped>\n",
       "    .dataframe tbody tr th:only-of-type {\n",
       "        vertical-align: middle;\n",
       "    }\n",
       "\n",
       "    .dataframe tbody tr th {\n",
       "        vertical-align: top;\n",
       "    }\n",
       "\n",
       "    .dataframe thead th {\n",
       "        text-align: right;\n",
       "    }\n",
       "</style>\n",
       "<table border=\"1\" class=\"dataframe\">\n",
       "  <thead>\n",
       "    <tr style=\"text-align: right;\">\n",
       "      <th></th>\n",
       "      <th>PC1</th>\n",
       "      <th>PC2</th>\n",
       "    </tr>\n",
       "  </thead>\n",
       "  <tbody>\n",
       "    <tr>\n",
       "      <th>0</th>\n",
       "      <td>-3.929061</td>\n",
       "      <td>0.102604</td>\n",
       "    </tr>\n",
       "    <tr>\n",
       "      <th>1</th>\n",
       "      <td>3.107583</td>\n",
       "      <td>-1.748879</td>\n",
       "    </tr>\n",
       "    <tr>\n",
       "      <th>2</th>\n",
       "      <td>3.023793</td>\n",
       "      <td>3.212212</td>\n",
       "    </tr>\n",
       "    <tr>\n",
       "      <th>3</th>\n",
       "      <td>-4.282418</td>\n",
       "      <td>0.011378</td>\n",
       "    </tr>\n",
       "    <tr>\n",
       "      <th>4</th>\n",
       "      <td>2.590658</td>\n",
       "      <td>-1.906121</td>\n",
       "    </tr>\n",
       "  </tbody>\n",
       "</table>\n",
       "</div>"
      ],
      "text/plain": [
       "        PC1       PC2\n",
       "0 -3.929061  0.102604\n",
       "1  3.107583 -1.748879\n",
       "2  3.023793  3.212212\n",
       "3 -4.282418  0.011378\n",
       "4  2.590658 -1.906121"
      ]
     },
     "execution_count": 4,
     "metadata": {},
     "output_type": "execute_result"
    }
   ],
   "source": [
    "from sklearn.decomposition import PCA\n",
    "#import\n",
    "pca = PCA(n_components = 2)\n",
    "#객체 생성, 주성분 갯수 지정\n",
    "X = pd.DataFrame(pca.fit_transform(X), columns = ['PC1','PC2'])\n",
    "#PCA 객체 학습 및 변환 후, 넘파이 형태 결과물을 판다스 데이터프레임 형태로,\n",
    "X.head()"
   ]
  },
  {
   "cell_type": "code",
   "execution_count": 5,
   "id": "bfae3e20",
   "metadata": {},
   "outputs": [
    {
     "data": {
      "text/html": [
       "<div>\n",
       "<style scoped>\n",
       "    .dataframe tbody tr th:only-of-type {\n",
       "        vertical-align: middle;\n",
       "    }\n",
       "\n",
       "    .dataframe tbody tr th {\n",
       "        vertical-align: top;\n",
       "    }\n",
       "\n",
       "    .dataframe thead th {\n",
       "        text-align: right;\n",
       "    }\n",
       "</style>\n",
       "<table border=\"1\" class=\"dataframe\">\n",
       "  <thead>\n",
       "    <tr style=\"text-align: right;\">\n",
       "      <th></th>\n",
       "      <th>PC1</th>\n",
       "      <th>PC2</th>\n",
       "      <th>label</th>\n",
       "    </tr>\n",
       "  </thead>\n",
       "  <tbody>\n",
       "    <tr>\n",
       "      <th>0</th>\n",
       "      <td>-3.929061</td>\n",
       "      <td>0.102604</td>\n",
       "      <td>0</td>\n",
       "    </tr>\n",
       "    <tr>\n",
       "      <th>1</th>\n",
       "      <td>3.107583</td>\n",
       "      <td>-1.748879</td>\n",
       "      <td>3</td>\n",
       "    </tr>\n",
       "    <tr>\n",
       "      <th>2</th>\n",
       "      <td>3.023793</td>\n",
       "      <td>3.212212</td>\n",
       "      <td>1</td>\n",
       "    </tr>\n",
       "    <tr>\n",
       "      <th>3</th>\n",
       "      <td>-4.282418</td>\n",
       "      <td>0.011378</td>\n",
       "      <td>0</td>\n",
       "    </tr>\n",
       "    <tr>\n",
       "      <th>4</th>\n",
       "      <td>2.590658</td>\n",
       "      <td>-1.906121</td>\n",
       "      <td>3</td>\n",
       "    </tr>\n",
       "  </tbody>\n",
       "</table>\n",
       "</div>"
      ],
      "text/plain": [
       "        PC1       PC2  label\n",
       "0 -3.929061  0.102604      0\n",
       "1  3.107583 -1.748879      3\n",
       "2  3.023793  3.212212      1\n",
       "3 -4.282418  0.011378      0\n",
       "4  2.590658 -1.906121      3"
      ]
     },
     "execution_count": 5,
     "metadata": {},
     "output_type": "execute_result"
    }
   ],
   "source": [
    "X = X.join(y)\n",
    "#종속변수 데이터 join\n",
    "X.head()"
   ]
  },
  {
   "cell_type": "code",
   "execution_count": 6,
   "id": "ea4c496d",
   "metadata": {},
   "outputs": [
    {
     "data": {
      "image/png": "[encoded data removed]",
      "text/plain": [
       "<Figure size 432x288 with 1 Axes>"
      ]
     },
     "metadata": {
      "needs_background": "light"
     },
     "output_type": "display_data"
    }
   ],
   "source": [
    "sns.scatterplot(x = 'PC1', y = 'PC2', data = X, hue = 'label',\\\n",
    "               palette = 'rainbow')\n",
    "plt.show()\n",
    "#산점도 시각화"
   ]
  },
  {
   "cell_type": "code",
   "execution_count": 10,
   "id": "adb02f5c",
   "metadata": {},
   "outputs": [],
   "source": [
    "df_comp = pd.DataFrame(pca.components_, columns = df.drop('label', axis = 1).columns)\n",
    "#pca.components_ : 각 주성분과 변수의 관계 확인, 데이터프레임 형태로 변환"
   ]
  },
  {
   "cell_type": "code",
   "execution_count": 11,
   "id": "a01a64cd",
   "metadata": {
    "scrolled": true
   },
   "outputs": [
    {
     "data": {
      "text/html": [
       "<div>\n",
       "<style scoped>\n",
       "    .dataframe tbody tr th:only-of-type {\n",
       "        vertical-align: middle;\n",
       "    }\n",
       "\n",
       "    .dataframe tbody tr th {\n",
       "        vertical-align: top;\n",
       "    }\n",
       "\n",
       "    .dataframe thead th {\n",
       "        text-align: right;\n",
       "    }\n",
       "</style>\n",
       "<table border=\"1\" class=\"dataframe\">\n",
       "  <thead>\n",
       "    <tr style=\"text-align: right;\">\n",
       "      <th></th>\n",
       "      <th>amt</th>\n",
       "      <th>category_entertainment</th>\n",
       "      <th>category_food_dining</th>\n",
       "      <th>category_gas_transport</th>\n",
       "      <th>category_grocery</th>\n",
       "      <th>category_health_fitness</th>\n",
       "      <th>category_home</th>\n",
       "      <th>category_kids_pets</th>\n",
       "      <th>category_misc</th>\n",
       "      <th>category_personal_care</th>\n",
       "      <th>category_shopping</th>\n",
       "      <th>category_travel</th>\n",
       "    </tr>\n",
       "  </thead>\n",
       "  <tbody>\n",
       "    <tr>\n",
       "      <th>0</th>\n",
       "      <td>0.348468</td>\n",
       "      <td>0.324472</td>\n",
       "      <td>0.303037</td>\n",
       "      <td>0.141869</td>\n",
       "      <td>0.306183</td>\n",
       "      <td>0.312973</td>\n",
       "      <td>0.297189</td>\n",
       "      <td>0.304582</td>\n",
       "      <td>0.293413</td>\n",
       "      <td>0.302877</td>\n",
       "      <td>0.320534</td>\n",
       "      <td>0.089275</td>\n",
       "    </tr>\n",
       "    <tr>\n",
       "      <th>1</th>\n",
       "      <td>0.058276</td>\n",
       "      <td>0.060343</td>\n",
       "      <td>0.152647</td>\n",
       "      <td>-0.544356</td>\n",
       "      <td>0.031095</td>\n",
       "      <td>0.037906</td>\n",
       "      <td>0.238096</td>\n",
       "      <td>-0.231528</td>\n",
       "      <td>-0.247193</td>\n",
       "      <td>-0.208983</td>\n",
       "      <td>0.144790</td>\n",
       "      <td>0.659468</td>\n",
       "    </tr>\n",
       "  </tbody>\n",
       "</table>\n",
       "</div>"
      ],
      "text/plain": [
       "        amt  category_entertainment  category_food_dining  \\\n",
       "0  0.348468                0.324472              0.303037   \n",
       "1  0.058276                0.060343              0.152647   \n",
       "\n",
       "   category_gas_transport  category_grocery  category_health_fitness  \\\n",
       "0                0.141869          0.306183                 0.312973   \n",
       "1               -0.544356          0.031095                 0.037906   \n",
       "\n",
       "   category_home  category_kids_pets  category_misc  category_personal_care  \\\n",
       "0       0.297189            0.304582       0.293413                0.302877   \n",
       "1       0.238096           -0.231528      -0.247193               -0.208983   \n",
       "\n",
       "   category_shopping  category_travel  \n",
       "0           0.320534         0.089275  \n",
       "1           0.144790         0.659468  "
      ]
     },
     "execution_count": 11,
     "metadata": {},
     "output_type": "execute_result"
    }
   ],
   "source": [
    "df_comp"
   ]
  },
  {
   "cell_type": "markdown",
   "id": "851de3a1",
   "metadata": {},
   "source": []
  },
  {
   "cell_type": "markdown",
   "id": "17b5e56f",
   "metadata": {},
   "source": [
    "*index 0 : PC1"
   ]
  },
  {
   "cell_type": "markdown",
   "id": "50659690",
   "metadata": {},
   "source": [
    "*index 1 : PC2"
   ]
  },
  {
   "cell_type": "markdown",
   "id": "56293f53",
   "metadata": {},
   "source": []
  },
  {
   "cell_type": "code",
   "execution_count": 12,
   "id": "0742cf0e",
   "metadata": {
    "scrolled": false
   },
   "outputs": [
    {
     "data": {
      "image/png": "[encoded data removed]",
      "text/plain": [
       "<Figure size 432x288 with 2 Axes>"
      ]
     },
     "metadata": {
      "needs_background": "light"
     },
     "output_type": "display_data"
    }
   ],
   "source": [
    "#데이터프레임을 히트맵으로 시각화\n",
    "sns.heatmap(df_comp, cmap = 'coolwarm')\n",
    "plt.show()"
   ]
  },
  {
   "cell_type": "markdown",
   "id": "a3ce5f66",
   "metadata": {},
   "source": []
  },
  {
   "cell_type": "markdown",
   "id": "aaf52ffa",
   "metadata": {},
   "source": [
    "*양수이면 빨간색, 음수이면 파란색으로 표시됩니다."
   ]
  },
  {
   "cell_type": "markdown",
   "id": "430166a3",
   "metadata": {},
   "source": [
    "*직관적으로 index 1(PC2) 성분이 gas_transport 변수와 비교적 강한 음의 상관 관계, travel 변수와 비교적 강한 양의 상관 관계를 띕니다."
   ]
  },
  {
   "cell_type": "markdown",
   "id": "2b13ffc2",
   "metadata": {},
   "source": [
    "*이는 PC2 성분이 클수록 gas_transport 에 해당되는 값은 낮고, travel 에 해당되는 값은 높다는 의미라 할 수 있습니다."
   ]
  },
  {
   "cell_type": "markdown",
   "id": "99c3550a",
   "metadata": {},
   "source": []
  },
  {
   "cell_type": "code",
   "execution_count": 2,
   "id": "9356a6da",
   "metadata": {},
   "outputs": [
    {
     "data": {
      "text/html": [
       "<div>\n",
       "<style scoped>\n",
       "    .dataframe tbody tr th:only-of-type {\n",
       "        vertical-align: middle;\n",
       "    }\n",
       "\n",
       "    .dataframe tbody tr th {\n",
       "        vertical-align: top;\n",
       "    }\n",
       "\n",
       "    .dataframe thead th {\n",
       "        text-align: right;\n",
       "    }\n",
       "</style>\n",
       "<table border=\"1\" class=\"dataframe\">\n",
       "  <thead>\n",
       "    <tr style=\"text-align: right;\">\n",
       "      <th></th>\n",
       "      <th>class</th>\n",
       "      <th>V1</th>\n",
       "      <th>V2</th>\n",
       "      <th>V3</th>\n",
       "      <th>V4</th>\n",
       "      <th>V5</th>\n",
       "      <th>V6</th>\n",
       "      <th>V7</th>\n",
       "      <th>V8</th>\n",
       "      <th>V9</th>\n",
       "      <th>...</th>\n",
       "      <th>V4287</th>\n",
       "      <th>V4288</th>\n",
       "      <th>V4289</th>\n",
       "      <th>V4290</th>\n",
       "      <th>V4291</th>\n",
       "      <th>V4292</th>\n",
       "      <th>V4293</th>\n",
       "      <th>V4294</th>\n",
       "      <th>V4295</th>\n",
       "      <th>V4296</th>\n",
       "    </tr>\n",
       "  </thead>\n",
       "  <tbody>\n",
       "    <tr>\n",
       "      <th>0</th>\n",
       "      <td>1</td>\n",
       "      <td>0.0</td>\n",
       "      <td>0.0</td>\n",
       "      <td>0.56758</td>\n",
       "      <td>0.0</td>\n",
       "      <td>0.0</td>\n",
       "      <td>0.0</td>\n",
       "      <td>0.0</td>\n",
       "      <td>0.82585</td>\n",
       "      <td>0.83788</td>\n",
       "      <td>...</td>\n",
       "      <td>-0.25777</td>\n",
       "      <td>0.12220</td>\n",
       "      <td>0.348620</td>\n",
       "      <td>0.12957</td>\n",
       "      <td>0.43846</td>\n",
       "      <td>-0.108020</td>\n",
       "      <td>0.128330</td>\n",
       "      <td>0.318820</td>\n",
       "      <td>-0.041559</td>\n",
       "      <td>0.22589</td>\n",
       "    </tr>\n",
       "    <tr>\n",
       "      <th>1</th>\n",
       "      <td>1</td>\n",
       "      <td>0.0</td>\n",
       "      <td>0.0</td>\n",
       "      <td>0.56758</td>\n",
       "      <td>0.0</td>\n",
       "      <td>0.0</td>\n",
       "      <td>0.0</td>\n",
       "      <td>0.0</td>\n",
       "      <td>0.82585</td>\n",
       "      <td>0.83788</td>\n",
       "      <td>...</td>\n",
       "      <td>-0.15316</td>\n",
       "      <td>0.14062</td>\n",
       "      <td>-0.030201</td>\n",
       "      <td>0.10134</td>\n",
       "      <td>-0.14546</td>\n",
       "      <td>-0.166650</td>\n",
       "      <td>0.401300</td>\n",
       "      <td>0.035392</td>\n",
       "      <td>0.019906</td>\n",
       "      <td>0.31952</td>\n",
       "    </tr>\n",
       "    <tr>\n",
       "      <th>2</th>\n",
       "      <td>1</td>\n",
       "      <td>0.0</td>\n",
       "      <td>0.0</td>\n",
       "      <td>0.56758</td>\n",
       "      <td>0.0</td>\n",
       "      <td>0.0</td>\n",
       "      <td>0.0</td>\n",
       "      <td>0.0</td>\n",
       "      <td>0.82585</td>\n",
       "      <td>0.83788</td>\n",
       "      <td>...</td>\n",
       "      <td>-0.40122</td>\n",
       "      <td>0.13790</td>\n",
       "      <td>0.138350</td>\n",
       "      <td>0.15746</td>\n",
       "      <td>0.51216</td>\n",
       "      <td>-0.330690</td>\n",
       "      <td>0.070346</td>\n",
       "      <td>0.179250</td>\n",
       "      <td>-0.188740</td>\n",
       "      <td>0.16386</td>\n",
       "    </tr>\n",
       "    <tr>\n",
       "      <th>3</th>\n",
       "      <td>1</td>\n",
       "      <td>0.0</td>\n",
       "      <td>0.0</td>\n",
       "      <td>0.56758</td>\n",
       "      <td>0.0</td>\n",
       "      <td>0.0</td>\n",
       "      <td>0.0</td>\n",
       "      <td>0.0</td>\n",
       "      <td>0.82585</td>\n",
       "      <td>0.83788</td>\n",
       "      <td>...</td>\n",
       "      <td>-0.15587</td>\n",
       "      <td>-0.26686</td>\n",
       "      <td>0.158930</td>\n",
       "      <td>-0.13204</td>\n",
       "      <td>0.32221</td>\n",
       "      <td>-0.042086</td>\n",
       "      <td>0.588970</td>\n",
       "      <td>0.526990</td>\n",
       "      <td>-0.574320</td>\n",
       "      <td>0.20891</td>\n",
       "    </tr>\n",
       "    <tr>\n",
       "      <th>4</th>\n",
       "      <td>1</td>\n",
       "      <td>0.0</td>\n",
       "      <td>0.0</td>\n",
       "      <td>0.56758</td>\n",
       "      <td>0.0</td>\n",
       "      <td>0.0</td>\n",
       "      <td>0.0</td>\n",
       "      <td>0.0</td>\n",
       "      <td>0.82585</td>\n",
       "      <td>0.83788</td>\n",
       "      <td>...</td>\n",
       "      <td>0.24020</td>\n",
       "      <td>0.44605</td>\n",
       "      <td>-0.163560</td>\n",
       "      <td>0.45311</td>\n",
       "      <td>0.59073</td>\n",
       "      <td>0.356800</td>\n",
       "      <td>0.395780</td>\n",
       "      <td>0.035871</td>\n",
       "      <td>-0.293430</td>\n",
       "      <td>0.38124</td>\n",
       "    </tr>\n",
       "  </tbody>\n",
       "</table>\n",
       "<p>5 rows × 4297 columns</p>\n",
       "</div>"
      ],
      "text/plain": [
       "   class   V1   V2       V3   V4   V5   V6   V7       V8       V9  ...  \\\n",
       "0      1  0.0  0.0  0.56758  0.0  0.0  0.0  0.0  0.82585  0.83788  ...   \n",
       "1      1  0.0  0.0  0.56758  0.0  0.0  0.0  0.0  0.82585  0.83788  ...   \n",
       "2      1  0.0  0.0  0.56758  0.0  0.0  0.0  0.0  0.82585  0.83788  ...   \n",
       "3      1  0.0  0.0  0.56758  0.0  0.0  0.0  0.0  0.82585  0.83788  ...   \n",
       "4      1  0.0  0.0  0.56758  0.0  0.0  0.0  0.0  0.82585  0.83788  ...   \n",
       "\n",
       "     V4287    V4288     V4289    V4290    V4291     V4292     V4293     V4294  \\\n",
       "0 -0.25777  0.12220  0.348620  0.12957  0.43846 -0.108020  0.128330  0.318820   \n",
       "1 -0.15316  0.14062 -0.030201  0.10134 -0.14546 -0.166650  0.401300  0.035392   \n",
       "2 -0.40122  0.13790  0.138350  0.15746  0.51216 -0.330690  0.070346  0.179250   \n",
       "3 -0.15587 -0.26686  0.158930 -0.13204  0.32221 -0.042086  0.588970  0.526990   \n",
       "4  0.24020  0.44605 -0.163560  0.45311  0.59073  0.356800  0.395780  0.035871   \n",
       "\n",
       "      V4295    V4296  \n",
       "0 -0.041559  0.22589  \n",
       "1  0.019906  0.31952  \n",
       "2 -0.188740  0.16386  \n",
       "3 -0.574320  0.20891  \n",
       "4 -0.293430  0.38124  \n",
       "\n",
       "[5 rows x 4297 columns]"
      ]
     },
     "execution_count": 2,
     "metadata": {},
     "output_type": "execute_result"
    }
   ],
   "source": [
    "#Data 2 - 변수 이름이 익명 처리돼있는 데이터셋\n",
    "\n",
    "df = pd.read_csv('https://media.githubusercontent.com/media/musthave-ML10/data_source/main/anonymous.csv')\n",
    "#데이터 출처 : https://media.githubusercontent.com/media/musthave-ML10/data_source\n",
    "df.head()\n",
    "#class : 0 과 1로 이루어짐, target 변수\n",
    "#total : 5 rows / 4297 cols\n",
    "#독립변수가 매우 많습니다."
   ]
  },
  {
   "cell_type": "code",
   "execution_count": 17,
   "id": "4901ca6d",
   "metadata": {},
   "outputs": [
    {
     "data": {
      "text/plain": [
       "0.25"
      ]
     },
     "execution_count": 17,
     "metadata": {},
     "output_type": "execute_result"
    }
   ],
   "source": [
    "df['class'].mean()\n",
    "#데이터 종속변수 중 1의 비율"
   ]
  },
  {
   "cell_type": "code",
   "execution_count": 19,
   "id": "ce336cbf",
   "metadata": {},
   "outputs": [
    {
     "data": {
      "text/plain": [
       "0"
      ]
     },
     "execution_count": 19,
     "metadata": {},
     "output_type": "execute_result"
    }
   ],
   "source": [
    "df.isnull().sum().sum()\n",
    "#결측치 확인"
   ]
  },
  {
   "cell_type": "code",
   "execution_count": 22,
   "id": "7bbaff17",
   "metadata": {},
   "outputs": [],
   "source": [
    "from sklearn.model_selection import train_test_split\n",
    "#학습셋/시험셋 분리\n",
    "\n",
    "xtr, xt, ytr, yt = train_test_split(df.drop('class', axis = 1), df['class'], test_size = 0.2,\\\n",
    "                                   random_state = 100)\n",
    "\n",
    "#PCA - 변수 간 스케일을 일정하게 맞춰주는 것이 중요합니다.\n",
    "from sklearn.preprocessing import StandardScaler\n",
    "#Scaler import\n",
    "\n",
    "sc = StandardScaler()\n",
    "scaled_xtr = sc.fit_transform(xtr)\n",
    "#훈련셋 변환\n",
    "scaled_xt = sc.transform(xt)\n",
    "#시험셋 변환"
   ]
  },
  {
   "cell_type": "code",
   "execution_count": 23,
   "id": "eec0b6ff",
   "metadata": {},
   "outputs": [
    {
     "name": "stdout",
     "output_type": "stream",
     "text": [
      "93.0603358745575\n"
     ]
    }
   ],
   "source": [
    "from sklearn.ensemble import RandomForestClassifier\n",
    "#일반적인 모델 import \n",
    "rf = RandomForestClassifier(random_state = 100)\n",
    "\n",
    "#소요시간 비교를 위한 처리\n",
    "import time\n",
    "start_time = time.time()\n",
    "#시작 시간 설정\n",
    "rf.fit(scaled_xtr, ytr)\n",
    "#학습\n",
    "print(time.time() - start_time)\n",
    "#PCA 작업 전 모델링 작업 시, 소요 시간 출력"
   ]
  },
  {
   "cell_type": "code",
   "execution_count": 24,
   "id": "d82b6737",
   "metadata": {},
   "outputs": [
    {
     "data": {
      "text/plain": [
       "0.958"
      ]
     },
     "execution_count": 24,
     "metadata": {},
     "output_type": "execute_result"
    }
   ],
   "source": [
    "#PCA 작업 전 모델 성능 측정\n",
    "from sklearn.metrics import accuracy_score, roc_auc_score\n",
    "\n",
    "predrf = rf.predict(scaled_xt)\n",
    "accuracy_score(yt, predrf)"
   ]
  },
  {
   "cell_type": "code",
   "execution_count": 25,
   "id": "fbe610a3",
   "metadata": {},
   "outputs": [
    {
     "data": {
      "text/plain": [
       "0.9982541957107813"
      ]
     },
     "execution_count": 25,
     "metadata": {},
     "output_type": "execute_result"
    }
   ],
   "source": [
    "probarf = rf.predict_proba(scaled_xt)\n",
    "roc_auc_score(yt, probarf[:,1])"
   ]
  },
  {
   "cell_type": "markdown",
   "id": "120df9b0",
   "metadata": {},
   "source": []
  },
  {
   "cell_type": "markdown",
   "id": "7a662b4a",
   "metadata": {},
   "source": [
    "*PCA 작업 전 모델링 소요 시간은 약 93초, 매우 높은 accuracy_score 와 roc_auc_score 를 확인할 수 있었습니다."
   ]
  },
  {
   "cell_type": "markdown",
   "id": "b7735c9f",
   "metadata": {},
   "source": []
  },
  {
   "cell_type": "code",
   "execution_count": 27,
   "id": "7b07d528",
   "metadata": {},
   "outputs": [
    {
     "data": {
      "text/html": [
       "<style>#sk-container-id-1 {color: black;background-color: white;}#sk-container-id-1 pre{padding: 0;}#sk-container-id-1 div.sk-toggleable {background-color: white;}#sk-container-id-1 label.sk-toggleable__label {cursor: pointer;display: block;width: 100%;margin-bottom: 0;padding: 0.3em;box-sizing: border-box;text-align: center;}#sk-container-id-1 label.sk-toggleable__label-arrow:before {content: \"▸\";float: left;margin-right: 0.25em;color: #696969;}#sk-container-id-1 label.sk-toggleable__label-arrow:hover:before {color: black;}#sk-container-id-1 div.sk-estimator:hover label.sk-toggleable__label-arrow:before {color: black;}#sk-container-id-1 div.sk-toggleable__content {max-height: 0;max-width: 0;overflow: hidden;text-align: left;background-color: #f0f8ff;}#sk-container-id-1 div.sk-toggleable__content pre {margin: 0.2em;color: black;border-radius: 0.25em;background-color: #f0f8ff;}#sk-container-id-1 input.sk-toggleable__control:checked~div.sk-toggleable__content {max-height: 200px;max-width: 100%;overflow: auto;}#sk-container-id-1 input.sk-toggleable__control:checked~label.sk-toggleable__label-arrow:before {content: \"▾\";}#sk-container-id-1 div.sk-estimator input.sk-toggleable__control:checked~label.sk-toggleable__label {background-color: #d4ebff;}#sk-container-id-1 div.sk-label input.sk-toggleable__control:checked~label.sk-toggleable__label {background-color: #d4ebff;}#sk-container-id-1 input.sk-hidden--visually {border: 0;clip: rect(1px 1px 1px 1px);clip: rect(1px, 1px, 1px, 1px);height: 1px;margin: -1px;overflow: hidden;padding: 0;position: absolute;width: 1px;}#sk-container-id-1 div.sk-estimator {font-family: monospace;background-color: #f0f8ff;border: 1px dotted black;border-radius: 0.25em;box-sizing: border-box;margin-bottom: 0.5em;}#sk-container-id-1 div.sk-estimator:hover {background-color: #d4ebff;}#sk-container-id-1 div.sk-parallel-item::after {content: \"\";width: 100%;border-bottom: 1px solid gray;flex-grow: 1;}#sk-container-id-1 div.sk-label:hover label.sk-toggleable__label {background-color: #d4ebff;}#sk-container-id-1 div.sk-serial::before {content: \"\";position: absolute;border-left: 1px solid gray;box-sizing: border-box;top: 0;bottom: 0;left: 50%;z-index: 0;}#sk-container-id-1 div.sk-serial {display: flex;flex-direction: column;align-items: center;background-color: white;padding-right: 0.2em;padding-left: 0.2em;position: relative;}#sk-container-id-1 div.sk-item {position: relative;z-index: 1;}#sk-container-id-1 div.sk-parallel {display: flex;align-items: stretch;justify-content: center;background-color: white;position: relative;}#sk-container-id-1 div.sk-item::before, #sk-container-id-1 div.sk-parallel-item::before {content: \"\";position: absolute;border-left: 1px solid gray;box-sizing: border-box;top: 0;bottom: 0;left: 50%;z-index: -1;}#sk-container-id-1 div.sk-parallel-item {display: flex;flex-direction: column;z-index: 1;position: relative;background-color: white;}#sk-container-id-1 div.sk-parallel-item:first-child::after {align-self: flex-end;width: 50%;}#sk-container-id-1 div.sk-parallel-item:last-child::after {align-self: flex-start;width: 50%;}#sk-container-id-1 div.sk-parallel-item:only-child::after {width: 0;}#sk-container-id-1 div.sk-dashed-wrapped {border: 1px dashed gray;margin: 0 0.4em 0.5em 0.4em;box-sizing: border-box;padding-bottom: 0.4em;background-color: white;}#sk-container-id-1 div.sk-label label {font-family: monospace;font-weight: bold;display: inline-block;line-height: 1.2em;}#sk-container-id-1 div.sk-label-container {text-align: center;}#sk-container-id-1 div.sk-container {/* jupyter's `normalize.less` sets `[hidden] { display: none; }` but bootstrap.min.css set `[hidden] { display: none !important; }` so we also need the `!important` here to be able to override the default hidden behavior on the sphinx rendered scikit-learn.org. See: https://github.com/scikit-learn/scikit-learn/issues/21755 */display: inline-block !important;position: relative;}#sk-container-id-1 div.sk-text-repr-fallback {display: none;}</style><div id=\"sk-container-id-1\" class=\"sk-top-container\"><div class=\"sk-text-repr-fallback\"><pre>PCA(n_components=2)</pre><b>In a Jupyter environment, please rerun this cell to show the HTML representation or trust the notebook. <br />On GitHub, the HTML representation is unable to render, please try loading this page with nbviewer.org.</b></div><div class=\"sk-container\" hidden><div class=\"sk-item\"><div class=\"sk-estimator sk-toggleable\"><input class=\"sk-toggleable__control sk-hidden--visually\" id=\"sk-estimator-id-1\" type=\"checkbox\" checked><label for=\"sk-estimator-id-1\" class=\"sk-toggleable__label sk-toggleable__label-arrow\">PCA</label><div class=\"sk-toggleable__content\"><pre>PCA(n_components=2)</pre></div></div></div></div></div>"
      ],
      "text/plain": [
       "PCA(n_components=2)"
      ]
     },
     "execution_count": 27,
     "metadata": {},
     "output_type": "execute_result"
    }
   ],
   "source": [
    "#PCA 처리 진행\n",
    "\n",
    "pca= PCA(n_components = 2)\n",
    "#4000개 넘는 독립변수를 임의로 설정한 두 개의 주성분으로 압축\n",
    "pca.fit(scaled_xtr)\n",
    "#학습"
   ]
  },
  {
   "cell_type": "code",
   "execution_count": 28,
   "id": "cda5a6a7",
   "metadata": {},
   "outputs": [
    {
     "data": {
      "text/plain": [
       "array([0.04992445, 0.03331409])"
      ]
     },
     "execution_count": 28,
     "metadata": {},
     "output_type": "execute_result"
    }
   ],
   "source": [
    "pca.explained_variance_ratio_\n",
    "#데이터 반영 비율 확인(기존 변수들의 특성을 얼마만큼 내포하고 있는가,)"
   ]
  },
  {
   "cell_type": "markdown",
   "id": "ffc78d19",
   "metadata": {},
   "source": []
  },
  {
   "cell_type": "markdown",
   "id": "f9b994a0",
   "metadata": {},
   "source": [
    "*이 둘을 합쳐봐야 0.08, 즉 기존 데이터의 0.08 정도의 정보만 반영한다는 의미입니다."
   ]
  },
  {
   "cell_type": "markdown",
   "id": "dddc3dc2",
   "metadata": {},
   "source": [
    "*최적의 주성분 갯수는 주관적 판단에 의하지만, 도움을 받기 위해 K-means 작업 시 활용한 elbow method 적용을 시도했습니다."
   ]
  },
  {
   "cell_type": "markdown",
   "id": "f9e8ea90",
   "metadata": {},
   "source": []
  },
  {
   "cell_type": "code",
   "execution_count": 29,
   "id": "e2fc38b3",
   "metadata": {},
   "outputs": [],
   "source": [
    "var_ratio = []\n",
    "#빈 리스트 생성\n",
    "\n",
    "for i in range(100, 550, 50):\n",
    "    #순회, 임의로 주성분 갯수를 50 개 단위로 100 부터 500 까지 확인\n",
    "    pca = PCA(n_components = i)\n",
    "    #주성분 갯수 지정\n",
    "    pca.fit_transform(scaled_xtr)\n",
    "    #학습 및 변환\n",
    "    ratio = pca.explained_variance_ratio_.sum()\n",
    "    #데이터 반영 비율 합\n",
    "    var_ratio.append(ratio)\n",
    "    #결과 리스트에 저장"
   ]
  },
  {
   "cell_type": "code",
   "execution_count": 30,
   "id": "0bd8f282",
   "metadata": {
    "scrolled": true
   },
   "outputs": [
    {
     "data": {
      "text/plain": [
       "<AxesSubplot:>"
      ]
     },
     "execution_count": 30,
     "metadata": {},
     "output_type": "execute_result"
    },
    {
     "data": {
      "image/png": "[encoded data removed]",
      "text/plain": [
       "<Figure size 432x288 with 1 Axes>"
      ]
     },
     "metadata": {
      "needs_background": "light"
     },
     "output_type": "display_data"
    }
   ],
   "source": [
    "sns.lineplot(x = range(100,550,50), y = var_ratio)\n",
    "#선형 그래프 시각화"
   ]
  },
  {
   "cell_type": "markdown",
   "id": "6290f396",
   "metadata": {},
   "source": []
  },
  {
   "cell_type": "markdown",
   "id": "e6a7c5bc",
   "metadata": {},
   "source": [
    "*확인 결과, 주성분 수 100 ~ 500 범위에서 얻을 수 있는 데이터 반영 비율 합은 약 62 % ~ 82 % 정도입니다."
   ]
  },
  {
   "cell_type": "markdown",
   "id": "454a94ae",
   "metadata": {},
   "source": [
    "*20 % 정도 손실을 감수하고, 약 80& 데이터 반영 기준을 잡고, 근사치인 주성분 갯수 400 개를 채택 후 모델링을 진행했습니다."
   ]
  },
  {
   "cell_type": "markdown",
   "id": "4b90390c",
   "metadata": {},
   "source": []
  },
  {
   "cell_type": "code",
   "execution_count": 31,
   "id": "2f7bc0ac",
   "metadata": {},
   "outputs": [],
   "source": [
    "pca = PCA(n_components = 400, random_state = 100)\n",
    "#주성분 갯수 지정 : 400\n",
    "pca_xtr = pca.fit_transform(scaled_xtr)\n",
    "#훈련셋 학습 및 변환\n",
    "pca_xt = pca.transform(scaled_xt)\n",
    "#시험셋 변환"
   ]
  },
  {
   "cell_type": "code",
   "execution_count": 32,
   "id": "3463eec1",
   "metadata": {
    "scrolled": true
   },
   "outputs": [
    {
     "name": "stdout",
     "output_type": "stream",
     "text": [
      "57.033292055130005\n"
     ]
    }
   ],
   "source": [
    "#PCA 처리 후 데이터를 랜덤 포레스트 분류기에 학습, 소요시간 계산\n",
    "rf2 = RandomForestClassifier(random_state = 100)\n",
    "\n",
    "start_time = time.time()\n",
    "rf2.fit(pca_xtr, ytr)\n",
    "print(time.time() - start_time) "
   ]
  },
  {
   "cell_type": "markdown",
   "id": "b1a0c5c7",
   "metadata": {},
   "source": []
  },
  {
   "cell_type": "markdown",
   "id": "05a2aeb7",
   "metadata": {},
   "source": [
    "*PCA 작업 후, 랜덤 포레스트 모델링 소요 시간은 약 57초, 작업 전보다 월등히 소요 시간이 향상됐습니다."
   ]
  },
  {
   "cell_type": "markdown",
   "id": "02b3256d",
   "metadata": {},
   "source": []
  },
  {
   "cell_type": "code",
   "execution_count": 33,
   "id": "add8b6c0",
   "metadata": {},
   "outputs": [
    {
     "data": {
      "text/plain": [
       "0.9885"
      ]
     },
     "execution_count": 33,
     "metadata": {},
     "output_type": "execute_result"
    }
   ],
   "source": [
    "#PCA 작업 후 랜덤 포레스트 모델 예측 정확도 \n",
    "\n",
    "pred2 = rf2.predict(pca_xt)\n",
    "accuracy_score(yt, pred2)"
   ]
  },
  {
   "cell_type": "code",
   "execution_count": 34,
   "id": "74670ae1",
   "metadata": {},
   "outputs": [
    {
     "data": {
      "text/plain": [
       "0.9981628737279284"
      ]
     },
     "execution_count": 34,
     "metadata": {},
     "output_type": "execute_result"
    }
   ],
   "source": [
    "proba2 = rf2.predict_proba(pca_xt)\n",
    "roc_auc_score(yt, proba2[:,1])"
   ]
  },
  {
   "cell_type": "markdown",
   "id": "43c328b0",
   "metadata": {},
   "source": []
  },
  {
   "cell_type": "markdown",
   "id": "24518837",
   "metadata": {},
   "source": [
    "*PCA 이전과 거의 유사한 수준의 예측력을 확인했고, 소요 시간 단축을 확인할 수 있었습니다."
   ]
  }
 ],
 "metadata": {
  "kernelspec": {
   "display_name": "Python 3",
   "language": "python",
   "name": "python3"
  },
  "language_info": {
   "codemirror_mode": {
    "name": "ipython",
    "version": 3
   },
   "file_extension": ".py",
   "mimetype": "text/x-python",
   "name": "python",
   "nbconvert_exporter": "python",
   "pygments_lexer": "ipython3",
   "version": "3.8.8"
  }
 },
 "nbformat": 4,
 "nbformat_minor": 5
}
