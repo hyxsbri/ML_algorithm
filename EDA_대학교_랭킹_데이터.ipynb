{
 "cells": [
  {
   "cell_type": "markdown",
   "id": "157fbadf",
   "metadata": {},
   "source": []
  },
  {
   "cell_type": "markdown",
   "id": "564d9271",
   "metadata": {},
   "source": [
    "활용데이터: timesData.csv(전 세계 대학교 랭킹 데이터)  \n",
    "출처: https://www.timeshighereducation.com/world-university-rankings  \n",
    "(2603 rows * 14 features)\n",
    "\n",
    "* world_rank: 세계 랭크  \n",
    "\n",
    "* university_name: 대학교 명칭  \n",
    "\n",
    "* country: 대학교 소재지  \n",
    "\n",
    "* teaching: 대학교 교육(티칭) 점수  \n",
    "\n",
    "* international: 국제 전망 점수(직원, 학생, 연구실적)  \n",
    "\n",
    "* research: 연구실적 점수(수량, 수입, 평판)  \n",
    "\n",
    "* citations: 인용 점수(연구 영향력)  \n",
    "\n",
    "* income: 소득 점수  \n",
    "\n",
    "* total_score: 랭크를 결정 짓기 위한 실질적 통합 점수  \n",
    "\n",
    "* num_students: 각 대학교의 전체 학생 수  \n",
    "\n",
    "* student_staff_ratio: 직원 대비 학생 수  \n",
    "\n",
    "* international_students: 국제 학생 비율  \n",
    "\n",
    "* female_male_ratio: 남녀 학생 비율  \n",
    "\n",
    "* year: 랭킹 연도"
   ]
  },
  {
   "cell_type": "code",
   "execution_count": 15,
   "id": "2ba09377",
   "metadata": {},
   "outputs": [],
   "source": [
    "import chart_studio\n",
    "chart_studio.tools.set_credentials_file(username = 'hyxsbri', api_key = '91sMDZIPhxHy33tJQRDz')\n",
    "#차트 스튜디오 연동"
   ]
  },
  {
   "cell_type": "markdown",
   "id": "08988a98",
   "metadata": {},
   "source": []
  },
  {
   "cell_type": "code",
   "execution_count": 16,
   "id": "af74de04",
   "metadata": {},
   "outputs": [],
   "source": [
    "import pandas as pd\n",
    "import plotly\n",
    "#라이브러리 import"
   ]
  },
  {
   "cell_type": "code",
   "execution_count": 17,
   "id": "934d26a1",
   "metadata": {},
   "outputs": [
    {
     "name": "stdout",
     "output_type": "stream",
     "text": [
      "<class 'pandas.core.frame.DataFrame'>\n",
      "RangeIndex: 2603 entries, 0 to 2602\n",
      "Data columns (total 14 columns):\n",
      " #   Column                  Non-Null Count  Dtype  \n",
      "---  ------                  --------------  -----  \n",
      " 0   world_rank              2603 non-null   object \n",
      " 1   university_name         2603 non-null   object \n",
      " 2   country                 2603 non-null   object \n",
      " 3   teaching                2603 non-null   float64\n",
      " 4   international           2603 non-null   object \n",
      " 5   research                2603 non-null   float64\n",
      " 6   citations               2603 non-null   float64\n",
      " 7   income                  2603 non-null   object \n",
      " 8   total_score             2603 non-null   object \n",
      " 9   num_students            2544 non-null   object \n",
      " 10  student_staff_ratio     2544 non-null   float64\n",
      " 11  international_students  2536 non-null   object \n",
      " 12  female_male_ratio       2370 non-null   object \n",
      " 13  year                    2603 non-null   int64  \n",
      "dtypes: float64(4), int64(1), object(9)\n",
      "memory usage: 284.8+ KB\n"
     ]
    }
   ],
   "source": [
    "timesdata = pd.read_csv('timesData.csv')\n",
    "timesdata.info()\n",
    "#데이터프레임 정보 "
   ]
  },
  {
   "cell_type": "code",
   "execution_count": 18,
   "id": "6fbcea3d",
   "metadata": {},
   "outputs": [
    {
     "data": {
      "text/html": [
       "<div>\n",
       "<style scoped>\n",
       "    .dataframe tbody tr th:only-of-type {\n",
       "        vertical-align: middle;\n",
       "    }\n",
       "\n",
       "    .dataframe tbody tr th {\n",
       "        vertical-align: top;\n",
       "    }\n",
       "\n",
       "    .dataframe thead th {\n",
       "        text-align: right;\n",
       "    }\n",
       "</style>\n",
       "<table border=\"1\" class=\"dataframe\">\n",
       "  <thead>\n",
       "    <tr style=\"text-align: right;\">\n",
       "      <th></th>\n",
       "      <th>world_rank</th>\n",
       "      <th>university_name</th>\n",
       "      <th>country</th>\n",
       "      <th>teaching</th>\n",
       "      <th>international</th>\n",
       "      <th>research</th>\n",
       "      <th>citations</th>\n",
       "      <th>income</th>\n",
       "      <th>total_score</th>\n",
       "      <th>num_students</th>\n",
       "      <th>student_staff_ratio</th>\n",
       "      <th>international_students</th>\n",
       "      <th>female_male_ratio</th>\n",
       "      <th>year</th>\n",
       "    </tr>\n",
       "  </thead>\n",
       "  <tbody>\n",
       "    <tr>\n",
       "      <th>0</th>\n",
       "      <td>1</td>\n",
       "      <td>Harvard University</td>\n",
       "      <td>United States of America</td>\n",
       "      <td>99.7</td>\n",
       "      <td>72.4</td>\n",
       "      <td>98.7</td>\n",
       "      <td>98.8</td>\n",
       "      <td>34.5</td>\n",
       "      <td>96.1</td>\n",
       "      <td>20,152</td>\n",
       "      <td>8.9</td>\n",
       "      <td>25%</td>\n",
       "      <td>NaN</td>\n",
       "      <td>2011</td>\n",
       "    </tr>\n",
       "    <tr>\n",
       "      <th>1</th>\n",
       "      <td>2</td>\n",
       "      <td>California Institute of Technology</td>\n",
       "      <td>United States of America</td>\n",
       "      <td>97.7</td>\n",
       "      <td>54.6</td>\n",
       "      <td>98.0</td>\n",
       "      <td>99.9</td>\n",
       "      <td>83.7</td>\n",
       "      <td>96.0</td>\n",
       "      <td>2,243</td>\n",
       "      <td>6.9</td>\n",
       "      <td>27%</td>\n",
       "      <td>33 : 67</td>\n",
       "      <td>2011</td>\n",
       "    </tr>\n",
       "    <tr>\n",
       "      <th>2</th>\n",
       "      <td>3</td>\n",
       "      <td>Massachusetts Institute of Technology</td>\n",
       "      <td>United States of America</td>\n",
       "      <td>97.8</td>\n",
       "      <td>82.3</td>\n",
       "      <td>91.4</td>\n",
       "      <td>99.9</td>\n",
       "      <td>87.5</td>\n",
       "      <td>95.6</td>\n",
       "      <td>11,074</td>\n",
       "      <td>9.0</td>\n",
       "      <td>33%</td>\n",
       "      <td>37 : 63</td>\n",
       "      <td>2011</td>\n",
       "    </tr>\n",
       "    <tr>\n",
       "      <th>3</th>\n",
       "      <td>4</td>\n",
       "      <td>Stanford University</td>\n",
       "      <td>United States of America</td>\n",
       "      <td>98.3</td>\n",
       "      <td>29.5</td>\n",
       "      <td>98.1</td>\n",
       "      <td>99.2</td>\n",
       "      <td>64.3</td>\n",
       "      <td>94.3</td>\n",
       "      <td>15,596</td>\n",
       "      <td>7.8</td>\n",
       "      <td>22%</td>\n",
       "      <td>42 : 58</td>\n",
       "      <td>2011</td>\n",
       "    </tr>\n",
       "    <tr>\n",
       "      <th>4</th>\n",
       "      <td>5</td>\n",
       "      <td>Princeton University</td>\n",
       "      <td>United States of America</td>\n",
       "      <td>90.9</td>\n",
       "      <td>70.3</td>\n",
       "      <td>95.4</td>\n",
       "      <td>99.9</td>\n",
       "      <td>-</td>\n",
       "      <td>94.2</td>\n",
       "      <td>7,929</td>\n",
       "      <td>8.4</td>\n",
       "      <td>27%</td>\n",
       "      <td>45 : 55</td>\n",
       "      <td>2011</td>\n",
       "    </tr>\n",
       "    <tr>\n",
       "      <th>5</th>\n",
       "      <td>6</td>\n",
       "      <td>University of Cambridge</td>\n",
       "      <td>United Kingdom</td>\n",
       "      <td>90.5</td>\n",
       "      <td>77.7</td>\n",
       "      <td>94.1</td>\n",
       "      <td>94.0</td>\n",
       "      <td>57.0</td>\n",
       "      <td>91.2</td>\n",
       "      <td>18,812</td>\n",
       "      <td>11.8</td>\n",
       "      <td>34%</td>\n",
       "      <td>46 : 54</td>\n",
       "      <td>2011</td>\n",
       "    </tr>\n",
       "    <tr>\n",
       "      <th>6</th>\n",
       "      <td>6</td>\n",
       "      <td>University of Oxford</td>\n",
       "      <td>United Kingdom</td>\n",
       "      <td>88.2</td>\n",
       "      <td>77.2</td>\n",
       "      <td>93.9</td>\n",
       "      <td>95.1</td>\n",
       "      <td>73.5</td>\n",
       "      <td>91.2</td>\n",
       "      <td>19,919</td>\n",
       "      <td>11.6</td>\n",
       "      <td>34%</td>\n",
       "      <td>46 : 54</td>\n",
       "      <td>2011</td>\n",
       "    </tr>\n",
       "    <tr>\n",
       "      <th>7</th>\n",
       "      <td>8</td>\n",
       "      <td>University of California, Berkeley</td>\n",
       "      <td>United States of America</td>\n",
       "      <td>84.2</td>\n",
       "      <td>39.6</td>\n",
       "      <td>99.3</td>\n",
       "      <td>97.8</td>\n",
       "      <td>-</td>\n",
       "      <td>91.1</td>\n",
       "      <td>36,186</td>\n",
       "      <td>16.4</td>\n",
       "      <td>15%</td>\n",
       "      <td>50 : 50</td>\n",
       "      <td>2011</td>\n",
       "    </tr>\n",
       "    <tr>\n",
       "      <th>8</th>\n",
       "      <td>9</td>\n",
       "      <td>Imperial College London</td>\n",
       "      <td>United Kingdom</td>\n",
       "      <td>89.2</td>\n",
       "      <td>90.0</td>\n",
       "      <td>94.5</td>\n",
       "      <td>88.3</td>\n",
       "      <td>92.9</td>\n",
       "      <td>90.6</td>\n",
       "      <td>15,060</td>\n",
       "      <td>11.7</td>\n",
       "      <td>51%</td>\n",
       "      <td>37 : 63</td>\n",
       "      <td>2011</td>\n",
       "    </tr>\n",
       "    <tr>\n",
       "      <th>9</th>\n",
       "      <td>10</td>\n",
       "      <td>Yale University</td>\n",
       "      <td>United States of America</td>\n",
       "      <td>92.1</td>\n",
       "      <td>59.2</td>\n",
       "      <td>89.7</td>\n",
       "      <td>91.5</td>\n",
       "      <td>-</td>\n",
       "      <td>89.5</td>\n",
       "      <td>11,751</td>\n",
       "      <td>4.4</td>\n",
       "      <td>20%</td>\n",
       "      <td>50 : 50</td>\n",
       "      <td>2011</td>\n",
       "    </tr>\n",
       "  </tbody>\n",
       "</table>\n",
       "</div>"
      ],
      "text/plain": [
       "  world_rank                        university_name                   country  \\\n",
       "0          1                     Harvard University  United States of America   \n",
       "1          2     California Institute of Technology  United States of America   \n",
       "2          3  Massachusetts Institute of Technology  United States of America   \n",
       "3          4                    Stanford University  United States of America   \n",
       "4          5                   Princeton University  United States of America   \n",
       "5          6                University of Cambridge            United Kingdom   \n",
       "6          6                   University of Oxford            United Kingdom   \n",
       "7          8     University of California, Berkeley  United States of America   \n",
       "8          9                Imperial College London            United Kingdom   \n",
       "9         10                        Yale University  United States of America   \n",
       "\n",
       "   teaching international  research  citations income total_score  \\\n",
       "0      99.7          72.4      98.7       98.8   34.5        96.1   \n",
       "1      97.7          54.6      98.0       99.9   83.7        96.0   \n",
       "2      97.8          82.3      91.4       99.9   87.5        95.6   \n",
       "3      98.3          29.5      98.1       99.2   64.3        94.3   \n",
       "4      90.9          70.3      95.4       99.9      -        94.2   \n",
       "5      90.5          77.7      94.1       94.0   57.0        91.2   \n",
       "6      88.2          77.2      93.9       95.1   73.5        91.2   \n",
       "7      84.2          39.6      99.3       97.8      -        91.1   \n",
       "8      89.2          90.0      94.5       88.3   92.9        90.6   \n",
       "9      92.1          59.2      89.7       91.5      -        89.5   \n",
       "\n",
       "  num_students  student_staff_ratio international_students female_male_ratio  \\\n",
       "0       20,152                  8.9                    25%               NaN   \n",
       "1        2,243                  6.9                    27%           33 : 67   \n",
       "2       11,074                  9.0                    33%           37 : 63   \n",
       "3       15,596                  7.8                    22%           42 : 58   \n",
       "4        7,929                  8.4                    27%           45 : 55   \n",
       "5       18,812                 11.8                    34%           46 : 54   \n",
       "6       19,919                 11.6                    34%           46 : 54   \n",
       "7       36,186                 16.4                    15%           50 : 50   \n",
       "8       15,060                 11.7                    51%           37 : 63   \n",
       "9       11,751                  4.4                    20%           50 : 50   \n",
       "\n",
       "   year  \n",
       "0  2011  \n",
       "1  2011  \n",
       "2  2011  \n",
       "3  2011  \n",
       "4  2011  \n",
       "5  2011  \n",
       "6  2011  \n",
       "7  2011  \n",
       "8  2011  \n",
       "9  2011  "
      ]
     },
     "execution_count": 18,
     "metadata": {},
     "output_type": "execute_result"
    }
   ],
   "source": [
    "timesdata.head(10)\n",
    "#상위 10개 출력"
   ]
  },
  {
   "cell_type": "markdown",
   "id": "fe2d43d4",
   "metadata": {},
   "source": []
  },
  {
   "cell_type": "markdown",
   "id": "25df3cd7",
   "metadata": {},
   "source": [
    "# 선 그래프(Line Charts)\n",
    "  \n",
    "  ### top 100 순위권 대학교에 대한 인용 점수와 교육(티칭) 점수"
   ]
  },
  {
   "cell_type": "markdown",
   "id": "ec8abe46",
   "metadata": {},
   "source": []
  },
  {
   "cell_type": "code",
   "execution_count": 19,
   "id": "d27ea41b",
   "metadata": {},
   "outputs": [
    {
     "data": {
      "text/html": [
       "\n",
       "        <iframe\n",
       "            width=\"100%\"\n",
       "            height=\"525px\"\n",
       "            src=\"https://plotly.com/~hyxsbri/279.embed\"\n",
       "            frameborder=\"0\"\n",
       "            allowfullscreen\n",
       "        ></iframe>\n",
       "        "
      ],
      "text/plain": [
       "<IPython.lib.display.IFrame at 0x7feffaaf3310>"
      ]
     },
     "execution_count": 19,
     "metadata": {},
     "output_type": "execute_result"
    }
   ],
   "source": [
    "df = timesdata.iloc[:100,:]\n",
    "#데이터 준비\n",
    "\n",
    "import plotly.graph_objs as go\n",
    "import chart_studio.plotly as py\n",
    "#그래프 라이브러리 import\n",
    "\n",
    "trace1 = go.Scatter(x = df.world_rank, y = df.citations, mode = 'lines',\\\n",
    "                   name = 'citations', marker = dict(color = 'rgba(16, 112, 2, 0.8)'),\\\n",
    "                   text = df.university_name)\n",
    "#citation\n",
    "\n",
    "trace2 = go.Scatter(x = df.world_rank, y = df.teaching, mode = 'lines + markers',\\\n",
    "                   name = 'teaching', marker = dict(color = 'rgba(80, 26, 80, 0.8)'),\\\n",
    "                   text = df.university_name)\n",
    "#teaching\n",
    "\n",
    "data = [trace1, trace2]\n",
    "#데이터 병합\n",
    "\n",
    "layout = dict(title = 'Citation and Teaching vs. World Rank of Top 100 Universities',\\\n",
    "             xaxis = dict(title = 'World Rank', ticklen = 5, zeroline = False))\n",
    "#취합 그래프\n",
    "\n",
    "fig = dict(data = data, layout = layout)\n",
    "py.iplot(fig)\n",
    "#시각화"
   ]
  },
  {
   "cell_type": "markdown",
   "id": "f9aab7dd",
   "metadata": {},
   "source": [
    "### - 순위권이 높아질수록, 해당 대학교의 인용 점수와 교육(티칭) 퀄리티 점수가 높은 수치로 점차 모이는 모습을 확인할 수 있었습니다.\n",
    "### - 순위가 내려갈수록, 인용 점수와 교육 점수가 일정하게 높지 않고 편차가 존재한다는 사실을 확인할 수 있었습니다."
   ]
  },
  {
   "cell_type": "markdown",
   "id": "954ca1bc",
   "metadata": {},
   "source": []
  },
  {
   "cell_type": "markdown",
   "id": "f32b22ee",
   "metadata": {},
   "source": [
    "# 산점도(Scatter Plot)\n",
    "  \n",
    "  ### 2014, 2015, 2016 년도의 top 100 순위권 대학교에 대한 인용 점수의 산점도"
   ]
  },
  {
   "cell_type": "markdown",
   "id": "05b82264",
   "metadata": {},
   "source": []
  },
  {
   "cell_type": "code",
   "execution_count": 20,
   "id": "5cd3824e",
   "metadata": {},
   "outputs": [
    {
     "data": {
      "text/html": [
       "\n",
       "        <iframe\n",
       "            width=\"100%\"\n",
       "            height=\"525px\"\n",
       "            src=\"https://plotly.com/~hyxsbri/281.embed\"\n",
       "            frameborder=\"0\"\n",
       "            allowfullscreen\n",
       "        ></iframe>\n",
       "        "
      ],
      "text/plain": [
       "<IPython.lib.display.IFrame at 0x7feffe8c41c0>"
      ]
     },
     "execution_count": 20,
     "metadata": {},
     "output_type": "execute_result"
    }
   ],
   "source": [
    "df2014 = timesdata[timesdata.year == 2014].iloc[:100,:]\n",
    "df2015 = timesdata[timesdata.year == 2015].iloc[:100,:]\n",
    "df2016 = timesdata[timesdata.year == 2016].iloc[:100,:]\n",
    "#데이터 준비\n",
    "\n",
    "trace1 = go.Scatter(x = df2014.world_rank, y = df2014.citations,\\\n",
    "                   mode = 'markers', name = '2014',\\\n",
    "                   marker = dict(color = 'rgba(255, 128, 255, 0.8)'),\\\n",
    "                   text = df2014.university_name)\n",
    "#2014년도 인용 점수\n",
    "\n",
    "trace2 = go.Scatter(x = df2015.world_rank, y = df2015.citations,\\\n",
    "                   mode = 'markers', name = '2015',\\\n",
    "                   marker = dict(color = 'rgba(255, 128, 2, 0.8)'),\\\n",
    "                   text = df2015.university_name)\n",
    "#2015년도 인용 점수\n",
    "\n",
    "trace3 = go.Scatter(x = df2016.world_rank, y = df2016.citations,\\\n",
    "                   mode = 'markers', name = '2016',\\\n",
    "                   marker = dict(color = 'rgba(0, 255, 200, 0.8)'),\\\n",
    "                   text = df2016.university_name)\n",
    "#2016년도 인용 점수\n",
    "\n",
    "data = [trace1, trace2, trace3]\n",
    "#데이터 병합\n",
    "\n",
    "layout = dict(title = 'Citations vs. world rank of top 100 universities with 2014, 2015 and 2016',\\\n",
    "             xaxis = dict(title = 'World Rank', ticklen = 5, zeroline = False),\\\n",
    "             yaxis = dict(title = 'Citation', ticklen = 5, zeroline = False))\n",
    "#취합 그래프\n",
    "\n",
    "fig = dict(data = data, layout = layout)\n",
    "py.iplot(fig)\n",
    "#시각화"
   ]
  },
  {
   "cell_type": "markdown",
   "id": "3c5e3604",
   "metadata": {},
   "source": [
    "### - 순위권이 높아질수록, 연도에 상관없이 해당 대학교의 인용 점수(citations) 가 높은 수치를 유지하는 모습을 확인할 수 있었습니다."
   ]
  },
  {
   "cell_type": "markdown",
   "id": "070dc068",
   "metadata": {},
   "source": []
  },
  {
   "cell_type": "markdown",
   "id": "210506ee",
   "metadata": {},
   "source": [
    "# 막대 그래프(Bar Charts) \n",
    "  \n",
    "  ### 2014 년도의 top 3 순위권 대학교에 대한 인용 점수와 교육(티칭) 퀄리티 점수 비교"
   ]
  },
  {
   "cell_type": "markdown",
   "id": "c899f8a5",
   "metadata": {},
   "source": []
  },
  {
   "cell_type": "code",
   "execution_count": 21,
   "id": "e333f868",
   "metadata": {},
   "outputs": [
    {
     "data": {
      "text/html": [
       "<div>\n",
       "<style scoped>\n",
       "    .dataframe tbody tr th:only-of-type {\n",
       "        vertical-align: middle;\n",
       "    }\n",
       "\n",
       "    .dataframe tbody tr th {\n",
       "        vertical-align: top;\n",
       "    }\n",
       "\n",
       "    .dataframe thead th {\n",
       "        text-align: right;\n",
       "    }\n",
       "</style>\n",
       "<table border=\"1\" class=\"dataframe\">\n",
       "  <thead>\n",
       "    <tr style=\"text-align: right;\">\n",
       "      <th></th>\n",
       "      <th>world_rank</th>\n",
       "      <th>university_name</th>\n",
       "      <th>country</th>\n",
       "      <th>teaching</th>\n",
       "      <th>international</th>\n",
       "      <th>research</th>\n",
       "      <th>citations</th>\n",
       "      <th>income</th>\n",
       "      <th>total_score</th>\n",
       "      <th>num_students</th>\n",
       "      <th>student_staff_ratio</th>\n",
       "      <th>international_students</th>\n",
       "      <th>female_male_ratio</th>\n",
       "      <th>year</th>\n",
       "    </tr>\n",
       "  </thead>\n",
       "  <tbody>\n",
       "    <tr>\n",
       "      <th>1002</th>\n",
       "      <td>1</td>\n",
       "      <td>California Institute of Technology</td>\n",
       "      <td>United States of America</td>\n",
       "      <td>94.4</td>\n",
       "      <td>65.8</td>\n",
       "      <td>98.2</td>\n",
       "      <td>99.8</td>\n",
       "      <td>91.2</td>\n",
       "      <td>94.9</td>\n",
       "      <td>2,243</td>\n",
       "      <td>6.9</td>\n",
       "      <td>27%</td>\n",
       "      <td>33 : 67</td>\n",
       "      <td>2014</td>\n",
       "    </tr>\n",
       "    <tr>\n",
       "      <th>1003</th>\n",
       "      <td>2</td>\n",
       "      <td>Harvard University</td>\n",
       "      <td>United States of America</td>\n",
       "      <td>95.3</td>\n",
       "      <td>66.2</td>\n",
       "      <td>98.5</td>\n",
       "      <td>99.1</td>\n",
       "      <td>40.6</td>\n",
       "      <td>93.9</td>\n",
       "      <td>20,152</td>\n",
       "      <td>8.9</td>\n",
       "      <td>25%</td>\n",
       "      <td>NaN</td>\n",
       "      <td>2014</td>\n",
       "    </tr>\n",
       "    <tr>\n",
       "      <th>1004</th>\n",
       "      <td>2</td>\n",
       "      <td>University of Oxford</td>\n",
       "      <td>United Kingdom</td>\n",
       "      <td>89.0</td>\n",
       "      <td>90.2</td>\n",
       "      <td>98.5</td>\n",
       "      <td>95.4</td>\n",
       "      <td>90.3</td>\n",
       "      <td>93.9</td>\n",
       "      <td>19,919</td>\n",
       "      <td>11.6</td>\n",
       "      <td>34%</td>\n",
       "      <td>46 : 54</td>\n",
       "      <td>2014</td>\n",
       "    </tr>\n",
       "  </tbody>\n",
       "</table>\n",
       "</div>"
      ],
      "text/plain": [
       "     world_rank                     university_name                   country  \\\n",
       "1002          1  California Institute of Technology  United States of America   \n",
       "1003          2                  Harvard University  United States of America   \n",
       "1004          2                University of Oxford            United Kingdom   \n",
       "\n",
       "      teaching international  research  citations income total_score  \\\n",
       "1002      94.4          65.8      98.2       99.8   91.2        94.9   \n",
       "1003      95.3          66.2      98.5       99.1   40.6        93.9   \n",
       "1004      89.0          90.2      98.5       95.4   90.3        93.9   \n",
       "\n",
       "     num_students  student_staff_ratio international_students  \\\n",
       "1002        2,243                  6.9                    27%   \n",
       "1003       20,152                  8.9                    25%   \n",
       "1004       19,919                 11.6                    34%   \n",
       "\n",
       "     female_male_ratio  year  \n",
       "1002           33 : 67  2014  \n",
       "1003               NaN  2014  \n",
       "1004           46 : 54  2014  "
      ]
     },
     "execution_count": 21,
     "metadata": {},
     "output_type": "execute_result"
    }
   ],
   "source": [
    "df2014 = timesdata[timesdata.year == 2014].iloc[:3,:]\n",
    "df2014\n",
    "#데이터 준비"
   ]
  },
  {
   "cell_type": "code",
   "execution_count": 22,
   "id": "dace8064",
   "metadata": {},
   "outputs": [
    {
     "data": {
      "text/html": [
       "\n",
       "        <iframe\n",
       "            width=\"100%\"\n",
       "            height=\"525px\"\n",
       "            src=\"https://plotly.com/~hyxsbri/283.embed\"\n",
       "            frameborder=\"0\"\n",
       "            allowfullscreen\n",
       "        ></iframe>\n",
       "        "
      ],
      "text/plain": [
       "<IPython.lib.display.IFrame at 0x7ff000175040>"
      ]
     },
     "execution_count": 22,
     "metadata": {},
     "output_type": "execute_result"
    }
   ],
   "source": [
    "trace1 = go.Bar(x = df2014.university_name, y = df2014.citations, name = 'citations',\\\n",
    "               marker = dict(color = 'rgba(255, 174, 255, 0.5)',\\\n",
    "                           line = dict(color = 'rgb(0, 0, 0)', width = 1.5)),\\\n",
    "               text = df2014.country)\n",
    "#인용 점수\n",
    "\n",
    "trace2 = go.Bar(x = df2014.university_name, y = df2014.teaching, name = 'teaching',\\\n",
    "               marker = dict(color = 'rgba(255, 255, 128, 0.5)',\\\n",
    "                           line = dict(color = 'rgb(0, 0, 0)', width = 1.5)),\\\n",
    "               text = df2014.country)\n",
    "#교육(티칭) 퀄리티 점수\n",
    "\n",
    "data = [trace1, trace2]\n",
    "#데이터 병합\n",
    "layout = go.Layout(barmode = 'group')\n",
    "fig = go.Figure(data = data, layout = layout)\n",
    "py.iplot(fig)\n",
    "#시각화"
   ]
  },
  {
   "cell_type": "markdown",
   "id": "3b9791a8",
   "metadata": {},
   "source": [
    "### - top3 대학교 모두 높은 수준의 인용 점수(citations) 와 교육 퀄리티 점수를 확인할 수 있었습니다."
   ]
  },
  {
   "cell_type": "markdown",
   "id": "219fc20f",
   "metadata": {},
   "source": []
  },
  {
   "cell_type": "markdown",
   "id": "104b7c92",
   "metadata": {},
   "source": [
    "# 막대 그래프(Bar Charts) 2\n",
    "  \n",
    "  ### 2014 년도의 top 3 순위권 대학교에 대한 인용 점수와 교육(티칭) 퀄리티 점수 비교(집합을 활용한 구현 방식)"
   ]
  },
  {
   "cell_type": "markdown",
   "id": "182cec0c",
   "metadata": {},
   "source": []
  },
  {
   "cell_type": "code",
   "execution_count": 23,
   "id": "e812f0ef",
   "metadata": {
    "scrolled": false
   },
   "outputs": [
    {
     "data": {
      "text/html": [
       "\n",
       "        <iframe\n",
       "            width=\"100%\"\n",
       "            height=\"525px\"\n",
       "            src=\"https://plotly.com/~hyxsbri/285.embed\"\n",
       "            frameborder=\"0\"\n",
       "            allowfullscreen\n",
       "        ></iframe>\n",
       "        "
      ],
      "text/plain": [
       "<IPython.lib.display.IFrame at 0x7ff0001751c0>"
      ]
     },
     "execution_count": 23,
     "metadata": {},
     "output_type": "execute_result"
    }
   ],
   "source": [
    "x = df2014.university_name\n",
    "\n",
    "trace1 = {'x': x, 'y': df2014.citations, 'name': 'citation', 'type': 'bar'};\n",
    "#인용 점수\n",
    "trace2 = {'x': x, 'y': df2014.teaching, 'name': 'teaching', 'type': 'bar'};\n",
    "#교육 퀄리티 점수\n",
    "data = [trace1, trace2];\n",
    "#데이터 병합\n",
    "layout = {'xaxis': {'title': 'Top 3 universities'},\\\n",
    "         'barmode': 'relative', 'title': 'citations and teaching of top 3 universities in 2014'};\n",
    "#취합 그래프\n",
    "fig = go.Figure(data = data, layout = layout)\n",
    "py.iplot(fig)\n",
    "#시각화"
   ]
  },
  {
   "cell_type": "markdown",
   "id": "8a51ea09",
   "metadata": {},
   "source": [
    "### - 2014년도의 top 3 순위권 대학교의 인용 점수와 교육 퀄리티 점수를 비교했을 때, California Institute of Technology, Havard University 는 유사한 수치를 보였고, University of Oxford 에서 비교적 낮은 인용 점수와 교육 퀄리티 점수를 보였습니다."
   ]
  },
  {
   "cell_type": "markdown",
   "id": "2bce286c",
   "metadata": {},
   "source": []
  },
  {
   "cell_type": "markdown",
   "id": "a7f2f63a",
   "metadata": {},
   "source": [
    "# 막대 그래프(Bar Charts) 3\n",
    "  \n",
    "  ### 2016년도, 대학교에 대한 연구 실적 점수와 소득 점수 비교(가로 막대 그래프)"
   ]
  },
  {
   "cell_type": "markdown",
   "id": "8927f421",
   "metadata": {},
   "source": []
  },
  {
   "cell_type": "code",
   "execution_count": 24,
   "id": "addeacf4",
   "metadata": {},
   "outputs": [
    {
     "data": {
      "text/html": [
       "\n",
       "        <iframe\n",
       "            width=\"100%\"\n",
       "            height=\"525px\"\n",
       "            src=\"https://plotly.com/~hyxsbri/287.embed\"\n",
       "            frameborder=\"0\"\n",
       "            allowfullscreen\n",
       "        ></iframe>\n",
       "        "
      ],
      "text/plain": [
       "<IPython.lib.display.IFrame at 0x7feffaadef40>"
      ]
     },
     "execution_count": 24,
     "metadata": {},
     "output_type": "execute_result"
    }
   ],
   "source": [
    "df2016 = timesdata[timesdata.year == 2016].iloc[:7,:]\n",
    "#데이터 준비\n",
    "\n",
    "y_saving = [each for each in df2016.research]\n",
    "y_net_worth = [float(each) for each in df2016.income]\n",
    "x_saving = [each for each in df2016.university_name]\n",
    "x_net_worth = [each for each in df2016.university_name]\n",
    "\n",
    "trace0 = go.Bar(x = y_saving, y = x_saving,\\\n",
    "               marker = dict(color = 'rgba(171, 50, 96, 0.6)', line = dict(color = 'rgba(171, 50, 96, 1.0)',\\\n",
    "                            width = 1)),name = 'research', orientation = 'h',)\n",
    "#대학교 연구 실적 점수\n",
    "\n",
    "trace1 = go.Scatter(x = y_net_worth, y = x_net_worth, mode = 'lines + markers', line = \\\n",
    "                   dict(color = 'rgb(63, 72, 204)'), name = 'income',)\n",
    "#대학교 소득 점수\n",
    "\n",
    "layout = dict(title = 'Research and Income', yaxis = dict(showticklabels = True, domain = [0, 0.85]),\\\n",
    "             yaxis2 = dict(showline = True, showticklabels = False, linecolor = 'rgba(102, 102, 102, 0.8)',\\\n",
    "                          linewidth = 2, domain = [0, 0.85]),\\\n",
    "             xaxis = dict(zeroline = False, showline = False, showticklabels = True, showgrid = True,\\\n",
    "                         domain = [0, 0.42]),\\\n",
    "             xaxis2 = dict(zeroline = False, showline = False, showticklabels = True, showgrid = True,\\\n",
    "                          domain = [0.47, 1], side = 'top', dtick = 25),\\\n",
    "             legend = dict(x = 0.029, y = 1.038, font = dict(size = 10)),\\\n",
    "             margin = dict(l = 200, r = 20, t = 70, b = 70),\\\n",
    "             paper_bgcolor = 'rgb(248, 248, 255)',\\\n",
    "             plot_bgcolor = 'rgb(248, 248, 255)',)\n",
    "#그래프 레이아웃\n",
    "\n",
    "import numpy as np\n",
    "\n",
    "annotations = []\n",
    "y_s = np.round(y_saving, decimals = 2)\n",
    "y_nw = np.rint(y_net_worth)\n",
    "\n",
    "for ydn, yd, xd in zip(y_nw, y_s, x_saving):\n",
    "    \n",
    "    annotations.append(dict(xref = 'x2', yref = 'y2', y = xd, x = ydn - 4, text = '{:,}'.format(ydn),\\\n",
    "                           font = dict(family = 'Arial', size = 12, color = 'rgb(63, 72, 204)'),\\\n",
    "                           showarrow = False))\n",
    "\n",
    "layout['annotations'] = annotations\n",
    "fig = plotly.subplots.make_subplots(rows = 1, cols = 2, specs = [[{}, {}]], shared_xaxes = True,\\\n",
    "                         shared_yaxes = False, vertical_spacing = 0.001)\n",
    "\n",
    "fig.append_trace(trace0, 1, 1)\n",
    "fig.append_trace(trace1, 1, 2)\n",
    "#서브플롯 생성\n",
    "\n",
    "fig['layout'].update(layout)\n",
    "py.iplot(fig)\n",
    "#시각화"
   ]
  },
  {
   "cell_type": "markdown",
   "id": "545f63a5",
   "metadata": {},
   "source": [
    "### - 2016년도, Princeton University 와 MIT 의 연구 실적 점수가 비교적 부족했으며, MIT 와 California Institute of Technology 에서 가장 높은 소득 점수, Harvard University 에서 가장 낮은 소득 점수를 확인할 수 있었습니다."
   ]
  },
  {
   "cell_type": "markdown",
   "id": "276fc85d",
   "metadata": {},
   "source": []
  },
  {
   "cell_type": "markdown",
   "id": "acf7ea51",
   "metadata": {},
   "source": [
    "# 파이 차트(Pie Charts) \n",
    "  \n",
    "  ### 2016년 top 7 대학교에 대한 학생 수 비율 "
   ]
  },
  {
   "cell_type": "markdown",
   "id": "1715c307",
   "metadata": {},
   "source": []
  },
  {
   "cell_type": "code",
   "execution_count": 25,
   "id": "f90cc92b",
   "metadata": {},
   "outputs": [
    {
     "data": {
      "text/html": [
       "\n",
       "        <iframe\n",
       "            width=\"100%\"\n",
       "            height=\"525px\"\n",
       "            src=\"https://plotly.com/~hyxsbri/289.embed\"\n",
       "            frameborder=\"0\"\n",
       "            allowfullscreen\n",
       "        ></iframe>\n",
       "        "
      ],
      "text/plain": [
       "<IPython.lib.display.IFrame at 0x7feffeb270a0>"
      ]
     },
     "execution_count": 25,
     "metadata": {},
     "output_type": "execute_result"
    }
   ],
   "source": [
    "df2016 = timesdata[timesdata.year == 2016].iloc[:7, :]\n",
    "pie1 = df2016.num_students\n",
    "#데이터 준비\n",
    "\n",
    "pie1_list = [float(each.replace(',', '.')) for each in df2016.num_students]\n",
    "#전처리\n",
    "labels = df2016.university_name\n",
    "\n",
    "fig = {'data': [\n",
    "    {'values': pie1_list, 'labels': labels, 'domain': {'x': [0, .5]}, 'name': 'Number of Students Rates',\n",
    "    'hoverinfo': 'label + percent + name', 'hole': .3, 'type': 'pie'},\n",
    "], 'layout': {\n",
    "    'title': 'Universities Number of Students Rates', 'annotations': [\n",
    "        {'font': {'size': 20}, 'showarrow': False, 'text': 'Number of Students', 'x': 0.20, 'y': 1}\n",
    "    ]\n",
    "}}\n",
    "#파이 차트 생성\n",
    "\n",
    "py.iplot(fig)\n",
    "#시각화"
   ]
  },
  {
   "cell_type": "markdown",
   "id": "5989bd14",
   "metadata": {},
   "source": [
    "### - 2016년도, 옥스포드 대학교와 하버드 대학교에서 비교적 가장 높은 비율의 학생 수 비율을 기록했습니다(20.8 %, 21.1%)."
   ]
  },
  {
   "cell_type": "markdown",
   "id": "dffe3767",
   "metadata": {},
   "source": []
  },
  {
   "cell_type": "markdown",
   "id": "b0a2730b",
   "metadata": {},
   "source": [
    "# 버블 차트(Bubble Charts) \n",
    "  \n",
    "  ### 2016년 top 20 순위권 대학교(x축) 에 대한 국제 전망 점수(버블 색깔), 학생 수 비율(버블 크기), 교육 퀄리티 점수(y축) 비교"
   ]
  },
  {
   "cell_type": "markdown",
   "id": "9955100f",
   "metadata": {},
   "source": []
  },
  {
   "cell_type": "code",
   "execution_count": 26,
   "id": "4ec3ffcf",
   "metadata": {},
   "outputs": [
    {
     "data": {
      "text/html": [
       "\n",
       "        <iframe\n",
       "            width=\"100%\"\n",
       "            height=\"525px\"\n",
       "            src=\"https://plotly.com/~hyxsbri/291.embed\"\n",
       "            frameborder=\"0\"\n",
       "            allowfullscreen\n",
       "        ></iframe>\n",
       "        "
      ],
      "text/plain": [
       "<IPython.lib.display.IFrame at 0x7feffbec1490>"
      ]
     },
     "execution_count": 26,
     "metadata": {},
     "output_type": "execute_result"
    }
   ],
   "source": [
    "df2016 = timesdata[timesdata.year == 2016].iloc[:20, :]\n",
    "num_students_size = [float(each.replace(',','.')) for each in df2016.num_students]\n",
    "international_color = [float(each) for each in df2016.international]\n",
    "#데이터 준비 및 전처리\n",
    "\n",
    "data = [\n",
    "    {'y': df2016.teaching, 'x': df2016.world_rank, 'mode': 'markers',\n",
    "    'marker': {'color': international_color, 'size': num_students_size, 'showscale': True},\n",
    "    'text': df2016.university_name}\n",
    "]\n",
    "#버블 차트 생성\n",
    "\n",
    "py.iplot(data)\n",
    "#시각화"
   ]
  },
  {
   "cell_type": "markdown",
   "id": "8699fa4a",
   "metadata": {},
   "source": [
    "### - 2016년도, 대체적으로 순위권이 높을수록 낮은 수치의 학생 수 비율을 기록했습니다.  \n",
    "### - 순위권이 높을수록 높은 교육 퀄리티 점수가 기록된 것을 확인할 수 있었습니다.\n",
    "### - 순위권이 높을수록 높은 국제 전망 점수가 기록된 것을 확인할 수 있었습니다."
   ]
  },
  {
   "cell_type": "markdown",
   "id": "35273455",
   "metadata": {},
   "source": []
  },
  {
   "cell_type": "markdown",
   "id": "711f5816",
   "metadata": {},
   "source": [
    "# 히스토그램(Histogram) \n",
    "  \n",
    "  ### 2011년과 2012년도, 직원 대비 학생 수를 기준으로 대학교 count"
   ]
  },
  {
   "cell_type": "markdown",
   "id": "63749975",
   "metadata": {},
   "source": []
  },
  {
   "cell_type": "code",
   "execution_count": 27,
   "id": "5acbffb4",
   "metadata": {},
   "outputs": [
    {
     "data": {
      "text/html": [
       "\n",
       "        <iframe\n",
       "            width=\"100%\"\n",
       "            height=\"525px\"\n",
       "            src=\"https://plotly.com/~hyxsbri/293.embed\"\n",
       "            frameborder=\"0\"\n",
       "            allowfullscreen\n",
       "        ></iframe>\n",
       "        "
      ],
      "text/plain": [
       "<IPython.lib.display.IFrame at 0x7feffbeed7c0>"
      ]
     },
     "execution_count": 27,
     "metadata": {},
     "output_type": "execute_result"
    }
   ],
   "source": [
    "x2011 = timesdata.student_staff_ratio[timesdata.year == 2011]\n",
    "x2012 = timesdata.student_staff_ratio[timesdata.year == 2012]\n",
    "#데이터 준비\n",
    "\n",
    "trace1 = go.Histogram(\n",
    "x = x2011, opacity = 0.75, name = '2011', marker = dict(color = 'rgba(171, 50, 96, 0.6)'))\n",
    "#2011년도 히스토그램\n",
    "\n",
    "trace2 = go.Histogram(\n",
    "x = x2012, opacity = 0.75, name = '2012', marker = dict(color = 'rgba(12, 50, 196, 0.6)'))\n",
    "#2012년도 히스토그램\n",
    "\n",
    "data = [trace1, trace2]\n",
    "layout = go.Layout(barmode = 'overlay', title = 'students-staff ratio in 2011 and 2012',\n",
    "                  xaxis = dict(title = 'students-staff ratio'), yaxis = dict(title = 'Count'),)\n",
    "#그래프 병합\n",
    "\n",
    "fig = go.Figure(data = data, layout = layout)\n",
    "py.iplot(fig)\n",
    "#시각화"
   ]
  },
  {
   "cell_type": "markdown",
   "id": "d3bc9893",
   "metadata": {},
   "source": [
    "### - 대체적으로, 2012년에 비해  2011년에 전 세계 대학교의 직원 대비 학생 수 비율이 높은 사실을 확인할 수 있었습니다."
   ]
  },
  {
   "cell_type": "markdown",
   "id": "e1f6939f",
   "metadata": {},
   "source": []
  },
  {
   "cell_type": "markdown",
   "id": "df3bb9b6",
   "metadata": {},
   "source": [
    "# 워드 클라우드(Word Cloud) \n",
    "  \n",
    "  ### 2011년도, 데이터프레임에서 가장 많이 언급된 대학교 소재지 시각화"
   ]
  },
  {
   "cell_type": "markdown",
   "id": "60426e9c",
   "metadata": {},
   "source": []
  },
  {
   "cell_type": "code",
   "execution_count": 28,
   "id": "89b07853",
   "metadata": {},
   "outputs": [
    {
     "data": {
      "image/png": "[encoded data removed]",
      "text/plain": [
       "<Figure size 576x576 with 1 Axes>"
      ]
     },
     "metadata": {
      "needs_background": "light"
     },
     "output_type": "display_data"
    }
   ],
   "source": [
    "import matplotlib.pyplot as plt\n",
    "from wordcloud import WordCloud\n",
    "#라이브러리 import\n",
    "\n",
    "x2011 = timesdata.country[timesdata.year == 2011]\n",
    "plt.subplots(figsize = (8, 8))\n",
    "wordcloud = WordCloud(\n",
    "background_color = 'white', width = 512, height = 384).generate(' '.join(x2011))\n",
    "#데이터 준비 및 워드클라우드 생성\n",
    "\n",
    "plt.imshow(wordcloud)\n",
    "plt.axis('off')\n",
    "plt.savefig('graph.png')\n",
    "plt.show()\n",
    "#워드클라우드 시각화"
   ]
  },
  {
   "cell_type": "markdown",
   "id": "ec0e6a20",
   "metadata": {},
   "source": [
    "### - 2011년도, '미국' 과 '영국' 을 소재지로 한 대학교가 가장 많이 언급됐음을 확인할 수 있었습니다."
   ]
  },
  {
   "cell_type": "markdown",
   "id": "4f3bc609",
   "metadata": {},
   "source": []
  },
  {
   "cell_type": "code",
   "execution_count": null,
   "id": "f63b5137",
   "metadata": {},
   "outputs": [],
   "source": []
  }
 ],
 "metadata": {
  "kernelspec": {
   "display_name": "Python 3",
   "language": "python",
   "name": "python3"
  },
  "language_info": {
   "codemirror_mode": {
    "name": "ipython",
    "version": 3
   },
   "file_extension": ".py",
   "mimetype": "text/x-python",
   "name": "python",
   "nbconvert_exporter": "python",
   "pygments_lexer": "ipython3",
   "version": "3.8.8"
  }
 },
 "nbformat": 4,
 "nbformat_minor": 5
}
