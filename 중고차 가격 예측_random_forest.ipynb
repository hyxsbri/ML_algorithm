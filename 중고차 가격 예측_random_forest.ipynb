{
 "cells": [
  {
   "cell_type": "markdown",
   "id": "24fa4570",
   "metadata": {},
   "source": [
    "랜덤 포레스트(Random Forest) : 중고차 가격 예측"
   ]
  },
  {
   "cell_type": "markdown",
   "id": "4fb1888b",
   "metadata": {},
   "source": [
    "목표: 중고차 판매 이력 데이터셋을 이용해 중고차 가격을 예측"
   ]
  },
  {
   "cell_type": "markdown",
   "id": "1072b88e",
   "metadata": {},
   "source": [
    "via 최효원's Jupyter Notebook"
   ]
  },
  {
   "cell_type": "markdown",
   "id": "e815e90e",
   "metadata": {},
   "source": []
  },
  {
   "cell_type": "markdown",
   "id": "e3bcdd70",
   "metadata": {},
   "source": [
    "종속 변수(target) 는 판매 가격이며, 독립변수로는 생산년도, 주행거리,\n",
    "변속기, 마일리지, 배기량 등이 있습니다.\n",
    "\n",
    "ensemble 기법을 사용한 트리 기반 모델 중 가장 보편적이고,\n",
    "결정 트리의 단점인 overfitting 문제를 완화시켜주는 모델인\n",
    "random forest 모델을 해당 작업에 적용했습니다."
   ]
  },
  {
   "cell_type": "markdown",
   "id": "d33489e7",
   "metadata": {},
   "source": []
  },
  {
   "cell_type": "code",
   "execution_count": 1,
   "id": "0215e2cd",
   "metadata": {},
   "outputs": [
    {
     "data": {
      "text/html": [
       "<div>\n",
       "<style scoped>\n",
       "    .dataframe tbody tr th:only-of-type {\n",
       "        vertical-align: middle;\n",
       "    }\n",
       "\n",
       "    .dataframe tbody tr th {\n",
       "        vertical-align: top;\n",
       "    }\n",
       "\n",
       "    .dataframe thead th {\n",
       "        text-align: right;\n",
       "    }\n",
       "</style>\n",
       "<table border=\"1\" class=\"dataframe\">\n",
       "  <thead>\n",
       "    <tr style=\"text-align: right;\">\n",
       "      <th></th>\n",
       "      <th>name</th>\n",
       "      <th>year</th>\n",
       "      <th>selling_price</th>\n",
       "      <th>km_driven</th>\n",
       "      <th>fuel</th>\n",
       "      <th>seller_type</th>\n",
       "      <th>transmission</th>\n",
       "      <th>owner</th>\n",
       "      <th>mileage</th>\n",
       "      <th>engine</th>\n",
       "      <th>max_power</th>\n",
       "      <th>torque</th>\n",
       "      <th>seats</th>\n",
       "    </tr>\n",
       "  </thead>\n",
       "  <tbody>\n",
       "    <tr>\n",
       "      <th>0</th>\n",
       "      <td>Maruti Swift Dzire VDI</td>\n",
       "      <td>2014</td>\n",
       "      <td>450000</td>\n",
       "      <td>145500</td>\n",
       "      <td>Diesel</td>\n",
       "      <td>Individual</td>\n",
       "      <td>Manual</td>\n",
       "      <td>First Owner</td>\n",
       "      <td>23.4 kmpl</td>\n",
       "      <td>1248 CC</td>\n",
       "      <td>74 bhp</td>\n",
       "      <td>190Nm@ 2000rpm</td>\n",
       "      <td>5.0</td>\n",
       "    </tr>\n",
       "    <tr>\n",
       "      <th>1</th>\n",
       "      <td>Skoda Rapid 1.5 TDI Ambition</td>\n",
       "      <td>2014</td>\n",
       "      <td>370000</td>\n",
       "      <td>120000</td>\n",
       "      <td>Diesel</td>\n",
       "      <td>Individual</td>\n",
       "      <td>Manual</td>\n",
       "      <td>Second Owner</td>\n",
       "      <td>21.14 kmpl</td>\n",
       "      <td>1498 CC</td>\n",
       "      <td>103.52 bhp</td>\n",
       "      <td>250Nm@ 1500-2500rpm</td>\n",
       "      <td>5.0</td>\n",
       "    </tr>\n",
       "    <tr>\n",
       "      <th>2</th>\n",
       "      <td>Honda City 2017-2020 EXi</td>\n",
       "      <td>2006</td>\n",
       "      <td>158000</td>\n",
       "      <td>140000</td>\n",
       "      <td>Petrol</td>\n",
       "      <td>Individual</td>\n",
       "      <td>Manual</td>\n",
       "      <td>Third Owner</td>\n",
       "      <td>17.7 kmpl</td>\n",
       "      <td>1497 CC</td>\n",
       "      <td>78 bhp</td>\n",
       "      <td>12.7@ 2,700(kgm@ rpm)</td>\n",
       "      <td>5.0</td>\n",
       "    </tr>\n",
       "    <tr>\n",
       "      <th>3</th>\n",
       "      <td>Hyundai i20 Sportz Diesel</td>\n",
       "      <td>2010</td>\n",
       "      <td>225000</td>\n",
       "      <td>127000</td>\n",
       "      <td>Diesel</td>\n",
       "      <td>Individual</td>\n",
       "      <td>Manual</td>\n",
       "      <td>First Owner</td>\n",
       "      <td>23.0 kmpl</td>\n",
       "      <td>1396 CC</td>\n",
       "      <td>90 bhp</td>\n",
       "      <td>22.4 kgm at 1750-2750rpm</td>\n",
       "      <td>5.0</td>\n",
       "    </tr>\n",
       "    <tr>\n",
       "      <th>4</th>\n",
       "      <td>Maruti Swift VXI BSIII</td>\n",
       "      <td>2007</td>\n",
       "      <td>130000</td>\n",
       "      <td>120000</td>\n",
       "      <td>Petrol</td>\n",
       "      <td>Individual</td>\n",
       "      <td>Manual</td>\n",
       "      <td>First Owner</td>\n",
       "      <td>16.1 kmpl</td>\n",
       "      <td>1298 CC</td>\n",
       "      <td>88.2 bhp</td>\n",
       "      <td>11.5@ 4,500(kgm@ rpm)</td>\n",
       "      <td>5.0</td>\n",
       "    </tr>\n",
       "  </tbody>\n",
       "</table>\n",
       "</div>"
      ],
      "text/plain": [
       "                           name  year  selling_price  km_driven    fuel  \\\n",
       "0        Maruti Swift Dzire VDI  2014         450000     145500  Diesel   \n",
       "1  Skoda Rapid 1.5 TDI Ambition  2014         370000     120000  Diesel   \n",
       "2      Honda City 2017-2020 EXi  2006         158000     140000  Petrol   \n",
       "3     Hyundai i20 Sportz Diesel  2010         225000     127000  Diesel   \n",
       "4        Maruti Swift VXI BSIII  2007         130000     120000  Petrol   \n",
       "\n",
       "  seller_type transmission         owner     mileage   engine   max_power  \\\n",
       "0  Individual       Manual   First Owner   23.4 kmpl  1248 CC      74 bhp   \n",
       "1  Individual       Manual  Second Owner  21.14 kmpl  1498 CC  103.52 bhp   \n",
       "2  Individual       Manual   Third Owner   17.7 kmpl  1497 CC      78 bhp   \n",
       "3  Individual       Manual   First Owner   23.0 kmpl  1396 CC      90 bhp   \n",
       "4  Individual       Manual   First Owner   16.1 kmpl  1298 CC    88.2 bhp   \n",
       "\n",
       "                     torque  seats  \n",
       "0            190Nm@ 2000rpm    5.0  \n",
       "1       250Nm@ 1500-2500rpm    5.0  \n",
       "2     12.7@ 2,700(kgm@ rpm)    5.0  \n",
       "3  22.4 kgm at 1750-2750rpm    5.0  \n",
       "4     11.5@ 4,500(kgm@ rpm)    5.0  "
      ]
     },
     "execution_count": 1,
     "metadata": {},
     "output_type": "execute_result"
    }
   ],
   "source": [
    "import pandas as pd\n",
    "import numpy as np\n",
    "import seaborn as sns\n",
    "import matplotlib.pyplot as plt\n",
    "#라이브러리 import\n",
    "\n",
    "df = pd.read_csv('https://media.githubusercontent.com/media/musthave-ML10/data_source/main/car.csv')\n",
    "#데이터 출처 : https://media.githubusercontent.com/media/musthave-ML10\n",
    "df.head()\n",
    "#차이름 #생산년도 #판매가(target) #주행거리 #연료 #판매자유형 #변속기 #차주변경내역 #마일리지 #배기량 #최대출력 #토크 #인승"
   ]
  },
  {
   "cell_type": "code",
   "execution_count": 3,
   "id": "a3aed62e",
   "metadata": {
    "scrolled": true
   },
   "outputs": [
    {
     "name": "stdout",
     "output_type": "stream",
     "text": [
      "<class 'pandas.core.frame.DataFrame'>\n",
      "RangeIndex: 8128 entries, 0 to 8127\n",
      "Data columns (total 13 columns):\n",
      " #   Column         Non-Null Count  Dtype  \n",
      "---  ------         --------------  -----  \n",
      " 0   name           8128 non-null   object \n",
      " 1   year           8128 non-null   int64  \n",
      " 2   selling_price  8128 non-null   int64  \n",
      " 3   km_driven      8128 non-null   int64  \n",
      " 4   fuel           8128 non-null   object \n",
      " 5   seller_type    8128 non-null   object \n",
      " 6   transmission   8128 non-null   object \n",
      " 7   owner          8128 non-null   object \n",
      " 8   mileage        7907 non-null   object \n",
      " 9   engine         7907 non-null   object \n",
      " 10  max_power      7913 non-null   object \n",
      " 11  torque         7906 non-null   object \n",
      " 12  seats          7907 non-null   float64\n",
      "dtypes: float64(1), int64(3), object(9)\n",
      "memory usage: 825.6+ KB\n"
     ]
    }
   ],
   "source": [
    "df.info()\n",
    "#total : 8128 rows / 13 cols"
   ]
  },
  {
   "cell_type": "markdown",
   "id": "f429abdf",
   "metadata": {},
   "source": []
  },
  {
   "cell_type": "markdown",
   "id": "f592c3d7",
   "metadata": {},
   "source": [
    "*몇 개 컬럼에서 결측치를 확인했습니다.\n",
    "*숫자 형태로 인식되어야 할 데이터가 object형으로 처리돼있습니다(ex. engine)"
   ]
  },
  {
   "cell_type": "markdown",
   "id": "b2ab7202",
   "metadata": {},
   "source": []
  },
  {
   "cell_type": "code",
   "execution_count": 5,
   "id": "a934b23a",
   "metadata": {},
   "outputs": [
    {
     "data": {
      "text/html": [
       "<div>\n",
       "<style scoped>\n",
       "    .dataframe tbody tr th:only-of-type {\n",
       "        vertical-align: middle;\n",
       "    }\n",
       "\n",
       "    .dataframe tbody tr th {\n",
       "        vertical-align: top;\n",
       "    }\n",
       "\n",
       "    .dataframe thead th {\n",
       "        text-align: right;\n",
       "    }\n",
       "</style>\n",
       "<table border=\"1\" class=\"dataframe\">\n",
       "  <thead>\n",
       "    <tr style=\"text-align: right;\">\n",
       "      <th></th>\n",
       "      <th>count</th>\n",
       "      <th>mean</th>\n",
       "      <th>std</th>\n",
       "      <th>min</th>\n",
       "      <th>25%</th>\n",
       "      <th>50%</th>\n",
       "      <th>75%</th>\n",
       "      <th>max</th>\n",
       "    </tr>\n",
       "  </thead>\n",
       "  <tbody>\n",
       "    <tr>\n",
       "      <th>year</th>\n",
       "      <td>8128.0</td>\n",
       "      <td>2013.80</td>\n",
       "      <td>4.04</td>\n",
       "      <td>1983.0</td>\n",
       "      <td>2011.0</td>\n",
       "      <td>2015.0</td>\n",
       "      <td>2017.0</td>\n",
       "      <td>2020.0</td>\n",
       "    </tr>\n",
       "    <tr>\n",
       "      <th>selling_price</th>\n",
       "      <td>8128.0</td>\n",
       "      <td>638271.81</td>\n",
       "      <td>806253.40</td>\n",
       "      <td>29999.0</td>\n",
       "      <td>254999.0</td>\n",
       "      <td>450000.0</td>\n",
       "      <td>675000.0</td>\n",
       "      <td>10000000.0</td>\n",
       "    </tr>\n",
       "    <tr>\n",
       "      <th>km_driven</th>\n",
       "      <td>8128.0</td>\n",
       "      <td>69819.51</td>\n",
       "      <td>56550.55</td>\n",
       "      <td>1.0</td>\n",
       "      <td>35000.0</td>\n",
       "      <td>60000.0</td>\n",
       "      <td>98000.0</td>\n",
       "      <td>2360457.0</td>\n",
       "    </tr>\n",
       "    <tr>\n",
       "      <th>seats</th>\n",
       "      <td>7907.0</td>\n",
       "      <td>5.42</td>\n",
       "      <td>0.96</td>\n",
       "      <td>2.0</td>\n",
       "      <td>5.0</td>\n",
       "      <td>5.0</td>\n",
       "      <td>5.0</td>\n",
       "      <td>14.0</td>\n",
       "    </tr>\n",
       "  </tbody>\n",
       "</table>\n",
       "</div>"
      ],
      "text/plain": [
       "                count       mean        std      min       25%       50%  \\\n",
       "year           8128.0    2013.80       4.04   1983.0    2011.0    2015.0   \n",
       "selling_price  8128.0  638271.81  806253.40  29999.0  254999.0  450000.0   \n",
       "km_driven      8128.0   69819.51   56550.55      1.0   35000.0   60000.0   \n",
       "seats          7907.0       5.42       0.96      2.0       5.0       5.0   \n",
       "\n",
       "                    75%         max  \n",
       "year             2017.0      2020.0  \n",
       "selling_price  675000.0  10000000.0  \n",
       "km_driven       98000.0   2360457.0  \n",
       "seats               5.0        14.0  "
      ]
     },
     "execution_count": 5,
     "metadata": {},
     "output_type": "execute_result"
    }
   ],
   "source": [
    "round(df.describe().T,2)\n",
    "#데이터 숫자형 변수 통계 정보"
   ]
  },
  {
   "cell_type": "markdown",
   "id": "8f02700c",
   "metadata": {},
   "source": []
  },
  {
   "cell_type": "markdown",
   "id": "d8fcbf9f",
   "metadata": {},
   "source": [
    "*selling_price - max 값이 유독 높습니다(outlier 의심)\n",
    "*km_driven - min, max 값 모두 outlier 로 보여집니다.\n",
    "*트리 기반 모델 적용 예정이므로, 별도의 outlier 처리를 하지 않을 예정입니다."
   ]
  },
  {
   "cell_type": "markdown",
   "id": "e9d37950",
   "metadata": {},
   "source": []
  },
  {
   "cell_type": "markdown",
   "id": "9e33eeff",
   "metadata": {},
   "source": []
  },
  {
   "cell_type": "markdown",
   "id": "2d4ed5af",
   "metadata": {},
   "source": [
    "*engine 변수 전처리"
   ]
  },
  {
   "cell_type": "markdown",
   "id": "69c3cc81",
   "metadata": {},
   "source": []
  },
  {
   "cell_type": "code",
   "execution_count": 6,
   "id": "164c69fe",
   "metadata": {},
   "outputs": [
    {
     "data": {
      "text/plain": [
       "0       [1248, CC]\n",
       "1       [1498, CC]\n",
       "2       [1497, CC]\n",
       "3       [1396, CC]\n",
       "4       [1298, CC]\n",
       "           ...    \n",
       "8123    [1197, CC]\n",
       "8124    [1493, CC]\n",
       "8125    [1248, CC]\n",
       "8126    [1396, CC]\n",
       "8127    [1396, CC]\n",
       "Name: engine, Length: 8128, dtype: object"
      ]
     },
     "execution_count": 6,
     "metadata": {},
     "output_type": "execute_result"
    }
   ],
   "source": [
    "df.engine.str.split()"
   ]
  },
  {
   "cell_type": "code",
   "execution_count": 7,
   "id": "ca3da760",
   "metadata": {},
   "outputs": [
    {
     "data": {
      "text/html": [
       "<div>\n",
       "<style scoped>\n",
       "    .dataframe tbody tr th:only-of-type {\n",
       "        vertical-align: middle;\n",
       "    }\n",
       "\n",
       "    .dataframe tbody tr th {\n",
       "        vertical-align: top;\n",
       "    }\n",
       "\n",
       "    .dataframe thead th {\n",
       "        text-align: right;\n",
       "    }\n",
       "</style>\n",
       "<table border=\"1\" class=\"dataframe\">\n",
       "  <thead>\n",
       "    <tr style=\"text-align: right;\">\n",
       "      <th></th>\n",
       "      <th>0</th>\n",
       "      <th>1</th>\n",
       "    </tr>\n",
       "  </thead>\n",
       "  <tbody>\n",
       "    <tr>\n",
       "      <th>0</th>\n",
       "      <td>1248</td>\n",
       "      <td>CC</td>\n",
       "    </tr>\n",
       "    <tr>\n",
       "      <th>1</th>\n",
       "      <td>1498</td>\n",
       "      <td>CC</td>\n",
       "    </tr>\n",
       "    <tr>\n",
       "      <th>2</th>\n",
       "      <td>1497</td>\n",
       "      <td>CC</td>\n",
       "    </tr>\n",
       "    <tr>\n",
       "      <th>3</th>\n",
       "      <td>1396</td>\n",
       "      <td>CC</td>\n",
       "    </tr>\n",
       "    <tr>\n",
       "      <th>4</th>\n",
       "      <td>1298</td>\n",
       "      <td>CC</td>\n",
       "    </tr>\n",
       "    <tr>\n",
       "      <th>...</th>\n",
       "      <td>...</td>\n",
       "      <td>...</td>\n",
       "    </tr>\n",
       "    <tr>\n",
       "      <th>8123</th>\n",
       "      <td>1197</td>\n",
       "      <td>CC</td>\n",
       "    </tr>\n",
       "    <tr>\n",
       "      <th>8124</th>\n",
       "      <td>1493</td>\n",
       "      <td>CC</td>\n",
       "    </tr>\n",
       "    <tr>\n",
       "      <th>8125</th>\n",
       "      <td>1248</td>\n",
       "      <td>CC</td>\n",
       "    </tr>\n",
       "    <tr>\n",
       "      <th>8126</th>\n",
       "      <td>1396</td>\n",
       "      <td>CC</td>\n",
       "    </tr>\n",
       "    <tr>\n",
       "      <th>8127</th>\n",
       "      <td>1396</td>\n",
       "      <td>CC</td>\n",
       "    </tr>\n",
       "  </tbody>\n",
       "</table>\n",
       "<p>8128 rows × 2 columns</p>\n",
       "</div>"
      ],
      "text/plain": [
       "         0   1\n",
       "0     1248  CC\n",
       "1     1498  CC\n",
       "2     1497  CC\n",
       "3     1396  CC\n",
       "4     1298  CC\n",
       "...    ...  ..\n",
       "8123  1197  CC\n",
       "8124  1493  CC\n",
       "8125  1248  CC\n",
       "8126  1396  CC\n",
       "8127  1396  CC\n",
       "\n",
       "[8128 rows x 2 columns]"
      ]
     },
     "execution_count": 7,
     "metadata": {},
     "output_type": "execute_result"
    }
   ],
   "source": [
    "df['engine'].str.split(expand = True)\n",
    "#공백 기준으로 문자를 분할하여 별도의 변수로 출력"
   ]
  },
  {
   "cell_type": "code",
   "execution_count": 8,
   "id": "92144648",
   "metadata": {},
   "outputs": [],
   "source": [
    "df[['engine', 'engine_unit']] = df['engine'].str.split(expand = True)\n",
    "#분할된 문자들을 새로운 변수들로 저장"
   ]
  },
  {
   "cell_type": "code",
   "execution_count": 9,
   "id": "c097d096",
   "metadata": {},
   "outputs": [
    {
     "name": "stdout",
     "output_type": "stream",
     "text": [
      "<class 'pandas.core.frame.DataFrame'>\n",
      "RangeIndex: 8128 entries, 0 to 8127\n",
      "Data columns (total 14 columns):\n",
      " #   Column         Non-Null Count  Dtype  \n",
      "---  ------         --------------  -----  \n",
      " 0   name           8128 non-null   object \n",
      " 1   year           8128 non-null   int64  \n",
      " 2   selling_price  8128 non-null   int64  \n",
      " 3   km_driven      8128 non-null   int64  \n",
      " 4   fuel           8128 non-null   object \n",
      " 5   seller_type    8128 non-null   object \n",
      " 6   transmission   8128 non-null   object \n",
      " 7   owner          8128 non-null   object \n",
      " 8   mileage        7907 non-null   object \n",
      " 9   engine         7907 non-null   object \n",
      " 10  max_power      7913 non-null   object \n",
      " 11  torque         7906 non-null   object \n",
      " 12  seats          7907 non-null   float64\n",
      " 13  engine_unit    7907 non-null   object \n",
      "dtypes: float64(1), int64(3), object(10)\n",
      "memory usage: 889.1+ KB\n"
     ]
    }
   ],
   "source": [
    "df.info()\n",
    "#변수들 다시 확인"
   ]
  },
  {
   "cell_type": "code",
   "execution_count": 10,
   "id": "f82b9d5e",
   "metadata": {},
   "outputs": [
    {
     "data": {
      "text/plain": [
       "0    1248.0\n",
       "1    1498.0\n",
       "2    1497.0\n",
       "3    1396.0\n",
       "4    1298.0\n",
       "Name: engine, dtype: float32"
      ]
     },
     "execution_count": 10,
     "metadata": {},
     "output_type": "execute_result"
    }
   ],
   "source": [
    "df['engine'] = df['engine'].astype('float32')\n",
    "#숫자형 변수로 변환\n",
    "df['engine'].head()"
   ]
  },
  {
   "cell_type": "code",
   "execution_count": 11,
   "id": "c96775d5",
   "metadata": {},
   "outputs": [
    {
     "data": {
      "text/plain": [
       "array(['CC', nan], dtype=object)"
      ]
     },
     "execution_count": 11,
     "metadata": {},
     "output_type": "execute_result"
    }
   ],
   "source": [
    "df['engine_unit'].unique()\n",
    "#엔진 단위 고윳값 확인"
   ]
  },
  {
   "cell_type": "code",
   "execution_count": 12,
   "id": "0b72b6e1",
   "metadata": {},
   "outputs": [],
   "source": [
    "df.drop('engine_unit', axis = 1, inplace = True)\n",
    "#단위가 한가지밖에 존재하지 않으므로, 제거 작업 진행"
   ]
  },
  {
   "cell_type": "markdown",
   "id": "ea291140",
   "metadata": {},
   "source": []
  },
  {
   "cell_type": "markdown",
   "id": "7e81a953",
   "metadata": {},
   "source": [
    "*max_power 변수 전처리"
   ]
  },
  {
   "cell_type": "markdown",
   "id": "05d7dba3",
   "metadata": {},
   "source": []
  },
  {
   "cell_type": "code",
   "execution_count": 13,
   "id": "a2ba448e",
   "metadata": {},
   "outputs": [
    {
     "data": {
      "text/plain": [
       "0        74\n",
       "1    103.52\n",
       "2        78\n",
       "3        90\n",
       "4      88.2\n",
       "Name: max_power, dtype: object"
      ]
     },
     "execution_count": 13,
     "metadata": {},
     "output_type": "execute_result"
    }
   ],
   "source": [
    "df[['max_power', 'max_power_unit']] = df['max_power'].str.split(expand = True)\n",
    "df['max_power'].head()"
   ]
  },
  {
   "cell_type": "code",
   "execution_count": 14,
   "id": "658017ad",
   "metadata": {},
   "outputs": [
    {
     "name": "stdout",
     "output_type": "stream",
     "text": [
      "<class 'pandas.core.frame.DataFrame'>\n",
      "RangeIndex: 8128 entries, 0 to 8127\n",
      "Data columns (total 14 columns):\n",
      " #   Column          Non-Null Count  Dtype  \n",
      "---  ------          --------------  -----  \n",
      " 0   name            8128 non-null   object \n",
      " 1   year            8128 non-null   int64  \n",
      " 2   selling_price   8128 non-null   int64  \n",
      " 3   km_driven       8128 non-null   int64  \n",
      " 4   fuel            8128 non-null   object \n",
      " 5   seller_type     8128 non-null   object \n",
      " 6   transmission    8128 non-null   object \n",
      " 7   owner           8128 non-null   object \n",
      " 8   mileage         7907 non-null   object \n",
      " 9   engine          7907 non-null   float32\n",
      " 10  max_power       7913 non-null   object \n",
      " 11  torque          7906 non-null   object \n",
      " 12  seats           7907 non-null   float64\n",
      " 13  max_power_unit  7906 non-null   object \n",
      "dtypes: float32(1), float64(1), int64(3), object(9)\n",
      "memory usage: 857.4+ KB\n"
     ]
    }
   ],
   "source": [
    "df.info()"
   ]
  },
  {
   "cell_type": "code",
   "execution_count": 15,
   "id": "498b8323",
   "metadata": {
    "scrolled": true
   },
   "outputs": [
    {
     "ename": "ValueError",
     "evalue": "could not convert string to float: 'bhp'",
     "output_type": "error",
     "traceback": [
      "\u001b[0;31m---------------------------------------------------------------------------\u001b[0m",
      "\u001b[0;31mValueError\u001b[0m                                Traceback (most recent call last)",
      "\u001b[0;32m<ipython-input-15-52cec8b19178>\u001b[0m in \u001b[0;36m<module>\u001b[0;34m\u001b[0m\n\u001b[0;32m----> 1\u001b[0;31m \u001b[0mdf\u001b[0m\u001b[0;34m[\u001b[0m\u001b[0;34m'max_power'\u001b[0m\u001b[0;34m]\u001b[0m \u001b[0;34m=\u001b[0m \u001b[0mdf\u001b[0m\u001b[0;34m[\u001b[0m\u001b[0;34m'max_power'\u001b[0m\u001b[0;34m]\u001b[0m\u001b[0;34m.\u001b[0m\u001b[0mastype\u001b[0m\u001b[0;34m(\u001b[0m\u001b[0;34m'float32'\u001b[0m\u001b[0;34m)\u001b[0m\u001b[0;34m\u001b[0m\u001b[0;34m\u001b[0m\u001b[0m\n\u001b[0m",
      "\u001b[0;32m~/opt/anaconda3/lib/python3.8/site-packages/pandas/core/generic.py\u001b[0m in \u001b[0;36mastype\u001b[0;34m(self, dtype, copy, errors)\u001b[0m\n\u001b[1;32m   5875\u001b[0m         \u001b[0;32melse\u001b[0m\u001b[0;34m:\u001b[0m\u001b[0;34m\u001b[0m\u001b[0;34m\u001b[0m\u001b[0m\n\u001b[1;32m   5876\u001b[0m             \u001b[0;31m# else, only a single dtype is given\u001b[0m\u001b[0;34m\u001b[0m\u001b[0;34m\u001b[0m\u001b[0;34m\u001b[0m\u001b[0m\n\u001b[0;32m-> 5877\u001b[0;31m             \u001b[0mnew_data\u001b[0m \u001b[0;34m=\u001b[0m \u001b[0mself\u001b[0m\u001b[0;34m.\u001b[0m\u001b[0m_mgr\u001b[0m\u001b[0;34m.\u001b[0m\u001b[0mastype\u001b[0m\u001b[0;34m(\u001b[0m\u001b[0mdtype\u001b[0m\u001b[0;34m=\u001b[0m\u001b[0mdtype\u001b[0m\u001b[0;34m,\u001b[0m \u001b[0mcopy\u001b[0m\u001b[0;34m=\u001b[0m\u001b[0mcopy\u001b[0m\u001b[0;34m,\u001b[0m \u001b[0merrors\u001b[0m\u001b[0;34m=\u001b[0m\u001b[0merrors\u001b[0m\u001b[0;34m)\u001b[0m\u001b[0;34m\u001b[0m\u001b[0;34m\u001b[0m\u001b[0m\n\u001b[0m\u001b[1;32m   5878\u001b[0m             \u001b[0;32mreturn\u001b[0m \u001b[0mself\u001b[0m\u001b[0;34m.\u001b[0m\u001b[0m_constructor\u001b[0m\u001b[0;34m(\u001b[0m\u001b[0mnew_data\u001b[0m\u001b[0;34m)\u001b[0m\u001b[0;34m.\u001b[0m\u001b[0m__finalize__\u001b[0m\u001b[0;34m(\u001b[0m\u001b[0mself\u001b[0m\u001b[0;34m,\u001b[0m \u001b[0mmethod\u001b[0m\u001b[0;34m=\u001b[0m\u001b[0;34m\"astype\"\u001b[0m\u001b[0;34m)\u001b[0m\u001b[0;34m\u001b[0m\u001b[0;34m\u001b[0m\u001b[0m\n\u001b[1;32m   5879\u001b[0m \u001b[0;34m\u001b[0m\u001b[0m\n",
      "\u001b[0;32m~/opt/anaconda3/lib/python3.8/site-packages/pandas/core/internals/managers.py\u001b[0m in \u001b[0;36mastype\u001b[0;34m(self, dtype, copy, errors)\u001b[0m\n\u001b[1;32m    629\u001b[0m         \u001b[0mself\u001b[0m\u001b[0;34m,\u001b[0m \u001b[0mdtype\u001b[0m\u001b[0;34m,\u001b[0m \u001b[0mcopy\u001b[0m\u001b[0;34m:\u001b[0m \u001b[0mbool\u001b[0m \u001b[0;34m=\u001b[0m \u001b[0;32mFalse\u001b[0m\u001b[0;34m,\u001b[0m \u001b[0merrors\u001b[0m\u001b[0;34m:\u001b[0m \u001b[0mstr\u001b[0m \u001b[0;34m=\u001b[0m \u001b[0;34m\"raise\"\u001b[0m\u001b[0;34m\u001b[0m\u001b[0;34m\u001b[0m\u001b[0m\n\u001b[1;32m    630\u001b[0m     ) -> \"BlockManager\":\n\u001b[0;32m--> 631\u001b[0;31m         \u001b[0;32mreturn\u001b[0m \u001b[0mself\u001b[0m\u001b[0;34m.\u001b[0m\u001b[0mapply\u001b[0m\u001b[0;34m(\u001b[0m\u001b[0;34m\"astype\"\u001b[0m\u001b[0;34m,\u001b[0m \u001b[0mdtype\u001b[0m\u001b[0;34m=\u001b[0m\u001b[0mdtype\u001b[0m\u001b[0;34m,\u001b[0m \u001b[0mcopy\u001b[0m\u001b[0;34m=\u001b[0m\u001b[0mcopy\u001b[0m\u001b[0;34m,\u001b[0m \u001b[0merrors\u001b[0m\u001b[0;34m=\u001b[0m\u001b[0merrors\u001b[0m\u001b[0;34m)\u001b[0m\u001b[0;34m\u001b[0m\u001b[0;34m\u001b[0m\u001b[0m\n\u001b[0m\u001b[1;32m    632\u001b[0m \u001b[0;34m\u001b[0m\u001b[0m\n\u001b[1;32m    633\u001b[0m     def convert(\n",
      "\u001b[0;32m~/opt/anaconda3/lib/python3.8/site-packages/pandas/core/internals/managers.py\u001b[0m in \u001b[0;36mapply\u001b[0;34m(self, f, align_keys, ignore_failures, **kwargs)\u001b[0m\n\u001b[1;32m    425\u001b[0m                     \u001b[0mapplied\u001b[0m \u001b[0;34m=\u001b[0m \u001b[0mb\u001b[0m\u001b[0;34m.\u001b[0m\u001b[0mapply\u001b[0m\u001b[0;34m(\u001b[0m\u001b[0mf\u001b[0m\u001b[0;34m,\u001b[0m \u001b[0;34m**\u001b[0m\u001b[0mkwargs\u001b[0m\u001b[0;34m)\u001b[0m\u001b[0;34m\u001b[0m\u001b[0;34m\u001b[0m\u001b[0m\n\u001b[1;32m    426\u001b[0m                 \u001b[0;32melse\u001b[0m\u001b[0;34m:\u001b[0m\u001b[0;34m\u001b[0m\u001b[0;34m\u001b[0m\u001b[0m\n\u001b[0;32m--> 427\u001b[0;31m                     \u001b[0mapplied\u001b[0m \u001b[0;34m=\u001b[0m \u001b[0mgetattr\u001b[0m\u001b[0;34m(\u001b[0m\u001b[0mb\u001b[0m\u001b[0;34m,\u001b[0m \u001b[0mf\u001b[0m\u001b[0;34m)\u001b[0m\u001b[0;34m(\u001b[0m\u001b[0;34m**\u001b[0m\u001b[0mkwargs\u001b[0m\u001b[0;34m)\u001b[0m\u001b[0;34m\u001b[0m\u001b[0;34m\u001b[0m\u001b[0m\n\u001b[0m\u001b[1;32m    428\u001b[0m             \u001b[0;32mexcept\u001b[0m \u001b[0;34m(\u001b[0m\u001b[0mTypeError\u001b[0m\u001b[0;34m,\u001b[0m \u001b[0mNotImplementedError\u001b[0m\u001b[0;34m)\u001b[0m\u001b[0;34m:\u001b[0m\u001b[0;34m\u001b[0m\u001b[0;34m\u001b[0m\u001b[0m\n\u001b[1;32m    429\u001b[0m                 \u001b[0;32mif\u001b[0m \u001b[0;32mnot\u001b[0m \u001b[0mignore_failures\u001b[0m\u001b[0;34m:\u001b[0m\u001b[0;34m\u001b[0m\u001b[0;34m\u001b[0m\u001b[0m\n",
      "\u001b[0;32m~/opt/anaconda3/lib/python3.8/site-packages/pandas/core/internals/blocks.py\u001b[0m in \u001b[0;36mastype\u001b[0;34m(self, dtype, copy, errors)\u001b[0m\n\u001b[1;32m    671\u001b[0m             \u001b[0mvals1d\u001b[0m \u001b[0;34m=\u001b[0m \u001b[0mvalues\u001b[0m\u001b[0;34m.\u001b[0m\u001b[0mravel\u001b[0m\u001b[0;34m(\u001b[0m\u001b[0;34m)\u001b[0m\u001b[0;34m\u001b[0m\u001b[0;34m\u001b[0m\u001b[0m\n\u001b[1;32m    672\u001b[0m             \u001b[0;32mtry\u001b[0m\u001b[0;34m:\u001b[0m\u001b[0;34m\u001b[0m\u001b[0;34m\u001b[0m\u001b[0m\n\u001b[0;32m--> 673\u001b[0;31m                 \u001b[0mvalues\u001b[0m \u001b[0;34m=\u001b[0m \u001b[0mastype_nansafe\u001b[0m\u001b[0;34m(\u001b[0m\u001b[0mvals1d\u001b[0m\u001b[0;34m,\u001b[0m \u001b[0mdtype\u001b[0m\u001b[0;34m,\u001b[0m \u001b[0mcopy\u001b[0m\u001b[0;34m=\u001b[0m\u001b[0;32mTrue\u001b[0m\u001b[0;34m)\u001b[0m\u001b[0;34m\u001b[0m\u001b[0;34m\u001b[0m\u001b[0m\n\u001b[0m\u001b[1;32m    674\u001b[0m             \u001b[0;32mexcept\u001b[0m \u001b[0;34m(\u001b[0m\u001b[0mValueError\u001b[0m\u001b[0;34m,\u001b[0m \u001b[0mTypeError\u001b[0m\u001b[0;34m)\u001b[0m\u001b[0;34m:\u001b[0m\u001b[0;34m\u001b[0m\u001b[0;34m\u001b[0m\u001b[0m\n\u001b[1;32m    675\u001b[0m                 \u001b[0;31m# e.g. astype_nansafe can fail on object-dtype of strings\u001b[0m\u001b[0;34m\u001b[0m\u001b[0;34m\u001b[0m\u001b[0;34m\u001b[0m\u001b[0m\n",
      "\u001b[0;32m~/opt/anaconda3/lib/python3.8/site-packages/pandas/core/dtypes/cast.py\u001b[0m in \u001b[0;36mastype_nansafe\u001b[0;34m(arr, dtype, copy, skipna)\u001b[0m\n\u001b[1;32m   1095\u001b[0m     \u001b[0;32mif\u001b[0m \u001b[0mcopy\u001b[0m \u001b[0;32mor\u001b[0m \u001b[0mis_object_dtype\u001b[0m\u001b[0;34m(\u001b[0m\u001b[0marr\u001b[0m\u001b[0;34m)\u001b[0m \u001b[0;32mor\u001b[0m \u001b[0mis_object_dtype\u001b[0m\u001b[0;34m(\u001b[0m\u001b[0mdtype\u001b[0m\u001b[0;34m)\u001b[0m\u001b[0;34m:\u001b[0m\u001b[0;34m\u001b[0m\u001b[0;34m\u001b[0m\u001b[0m\n\u001b[1;32m   1096\u001b[0m         \u001b[0;31m# Explicit copy, or required since NumPy can't view from / to object.\u001b[0m\u001b[0;34m\u001b[0m\u001b[0;34m\u001b[0m\u001b[0;34m\u001b[0m\u001b[0m\n\u001b[0;32m-> 1097\u001b[0;31m         \u001b[0;32mreturn\u001b[0m \u001b[0marr\u001b[0m\u001b[0;34m.\u001b[0m\u001b[0mastype\u001b[0m\u001b[0;34m(\u001b[0m\u001b[0mdtype\u001b[0m\u001b[0;34m,\u001b[0m \u001b[0mcopy\u001b[0m\u001b[0;34m=\u001b[0m\u001b[0;32mTrue\u001b[0m\u001b[0;34m)\u001b[0m\u001b[0;34m\u001b[0m\u001b[0;34m\u001b[0m\u001b[0m\n\u001b[0m\u001b[1;32m   1098\u001b[0m \u001b[0;34m\u001b[0m\u001b[0m\n\u001b[1;32m   1099\u001b[0m     \u001b[0;32mreturn\u001b[0m \u001b[0marr\u001b[0m\u001b[0;34m.\u001b[0m\u001b[0mview\u001b[0m\u001b[0;34m(\u001b[0m\u001b[0mdtype\u001b[0m\u001b[0;34m)\u001b[0m\u001b[0;34m\u001b[0m\u001b[0;34m\u001b[0m\u001b[0m\n",
      "\u001b[0;31mValueError\u001b[0m: could not convert string to float: 'bhp'"
     ]
    }
   ],
   "source": [
    "df['max_power'] = df['max_power'].astype('float32')\n",
    "#'bhp' string 을 float 으로 바꿀 수 없음(value error 발생)"
   ]
  },
  {
   "cell_type": "code",
   "execution_count": 16,
   "id": "4f04a9a2",
   "metadata": {},
   "outputs": [
    {
     "data": {
      "text/html": [
       "<div>\n",
       "<style scoped>\n",
       "    .dataframe tbody tr th:only-of-type {\n",
       "        vertical-align: middle;\n",
       "    }\n",
       "\n",
       "    .dataframe tbody tr th {\n",
       "        vertical-align: top;\n",
       "    }\n",
       "\n",
       "    .dataframe thead th {\n",
       "        text-align: right;\n",
       "    }\n",
       "</style>\n",
       "<table border=\"1\" class=\"dataframe\">\n",
       "  <thead>\n",
       "    <tr style=\"text-align: right;\">\n",
       "      <th></th>\n",
       "      <th>name</th>\n",
       "      <th>year</th>\n",
       "      <th>selling_price</th>\n",
       "      <th>km_driven</th>\n",
       "      <th>fuel</th>\n",
       "      <th>seller_type</th>\n",
       "      <th>transmission</th>\n",
       "      <th>owner</th>\n",
       "      <th>mileage</th>\n",
       "      <th>engine</th>\n",
       "      <th>max_power</th>\n",
       "      <th>torque</th>\n",
       "      <th>seats</th>\n",
       "      <th>max_power_unit</th>\n",
       "    </tr>\n",
       "  </thead>\n",
       "  <tbody>\n",
       "    <tr>\n",
       "      <th>4933</th>\n",
       "      <td>Maruti Omni CNG</td>\n",
       "      <td>2000</td>\n",
       "      <td>80000</td>\n",
       "      <td>100000</td>\n",
       "      <td>CNG</td>\n",
       "      <td>Individual</td>\n",
       "      <td>Manual</td>\n",
       "      <td>Second Owner</td>\n",
       "      <td>10.9 km/kg</td>\n",
       "      <td>796.0</td>\n",
       "      <td>bhp</td>\n",
       "      <td>NaN</td>\n",
       "      <td>8.0</td>\n",
       "      <td>None</td>\n",
       "    </tr>\n",
       "  </tbody>\n",
       "</table>\n",
       "</div>"
      ],
      "text/plain": [
       "                 name  year  selling_price  km_driven fuel seller_type  \\\n",
       "4933  Maruti Omni CNG  2000          80000     100000  CNG  Individual   \n",
       "\n",
       "     transmission         owner     mileage  engine max_power torque  seats  \\\n",
       "4933       Manual  Second Owner  10.9 km/kg   796.0       bhp    NaN    8.0   \n",
       "\n",
       "     max_power_unit  \n",
       "4933           None  "
      ]
     },
     "execution_count": 16,
     "metadata": {},
     "output_type": "execute_result"
    }
   ],
   "source": [
    "df[df.max_power == 'bhp']\n",
    "#max_power 변수에 'bhp' 문자를 포함한 데이터 탐색"
   ]
  },
  {
   "cell_type": "code",
   "execution_count": 17,
   "id": "d583d514",
   "metadata": {},
   "outputs": [],
   "source": [
    "#함수 처리\n",
    "def isfloat(value):\n",
    "    try:\n",
    "        num = float(value)\n",
    "        return num\n",
    "    except ValueError:\n",
    "        #try 에서 value error 났을 시,\n",
    "        return np.NaN\n",
    "    #np.NaN 리턴"
   ]
  },
  {
   "cell_type": "code",
   "execution_count": 18,
   "id": "a156c487",
   "metadata": {},
   "outputs": [],
   "source": [
    "df['max_power'] = df['max_power'].apply(isfloat)\n",
    "#함수를 사용해 max_power 변수를 숫자형 변수로 변환"
   ]
  },
  {
   "cell_type": "code",
   "execution_count": 19,
   "id": "aee793a6",
   "metadata": {},
   "outputs": [
    {
     "data": {
      "text/plain": [
       "array(['bhp', nan, None], dtype=object)"
      ]
     },
     "execution_count": 19,
     "metadata": {},
     "output_type": "execute_result"
    }
   ],
   "source": [
    "df['max_power_unit'].unique()\n",
    "#max_power_unit 변수 고윳값 확인"
   ]
  },
  {
   "cell_type": "code",
   "execution_count": 20,
   "id": "a98315ce",
   "metadata": {},
   "outputs": [],
   "source": [
    "df.drop('max_power_unit', axis = 1, inplace = True)\n",
    "#'bhp' 이외 다른 종류의 변수가 보이지 않아 제거 작업을 진행했습니다."
   ]
  },
  {
   "cell_type": "markdown",
   "id": "bbf9fdbd",
   "metadata": {},
   "source": []
  },
  {
   "cell_type": "markdown",
   "id": "6d1960dc",
   "metadata": {},
   "source": [
    "*mileage 변수 전처리"
   ]
  },
  {
   "cell_type": "markdown",
   "id": "5c7bfabd",
   "metadata": {},
   "source": []
  },
  {
   "cell_type": "code",
   "execution_count": 21,
   "id": "f3ad9961",
   "metadata": {},
   "outputs": [],
   "source": [
    "df[['mileage', 'mileage_unit']] = df['mileage'].str.split(expand = True)\n",
    "#위와 같은 방식으로 전처리 진행"
   ]
  },
  {
   "cell_type": "code",
   "execution_count": 22,
   "id": "f42500f6",
   "metadata": {},
   "outputs": [],
   "source": [
    "df['mileage'] = df['mileage'].astype('float32')"
   ]
  },
  {
   "cell_type": "code",
   "execution_count": 23,
   "id": "9fcac86b",
   "metadata": {},
   "outputs": [
    {
     "data": {
      "text/plain": [
       "array(['kmpl', 'km/kg', nan], dtype=object)"
      ]
     },
     "execution_count": 23,
     "metadata": {},
     "output_type": "execute_result"
    }
   ],
   "source": [
    "df['mileage_unit'].unique()"
   ]
  },
  {
   "cell_type": "markdown",
   "id": "c0ac77e4",
   "metadata": {},
   "source": []
  },
  {
   "cell_type": "markdown",
   "id": "6e86996c",
   "metadata": {},
   "source": [
    "*kmpl - km/l, 리터 당 킬로미터\n",
    "*km/kg - 킬로그램 당 킬로미터\n",
    "*휘발유/디젤 - 리터 단위로 마일리지 측정\n",
    "*LGP/CNG - 킬로그램 단위로 마일리지 측정\n",
    "*fuel(연료 종류) 에 따라 전처리 작업을 진행했습니다."
   ]
  },
  {
   "cell_type": "markdown",
   "id": "12c8a55a",
   "metadata": {},
   "source": []
  },
  {
   "cell_type": "code",
   "execution_count": 24,
   "id": "08488ada",
   "metadata": {},
   "outputs": [
    {
     "data": {
      "text/plain": [
       "array(['Diesel', 'Petrol', 'LPG', 'CNG'], dtype=object)"
      ]
     },
     "execution_count": 24,
     "metadata": {},
     "output_type": "execute_result"
    }
   ],
   "source": [
    "df['fuel'].unique()\n",
    "#고윳값 확인"
   ]
  },
  {
   "cell_type": "markdown",
   "id": "8a93d432",
   "metadata": {},
   "source": []
  },
  {
   "cell_type": "markdown",
   "id": "861f9451",
   "metadata": {},
   "source": [
    "*검색엔진(Google) 을 활용해 현시점 연료 가격 확인\n",
    "*Diesel - 리터당 $73.56\n",
    "*Petrol - 리터당 $80.43\n",
    "*LPG - 리터당 $40.85\n",
    "*CNG - 리터당 $44.23"
   ]
  },
  {
   "cell_type": "markdown",
   "id": "38b27b52",
   "metadata": {},
   "source": []
  },
  {
   "cell_type": "code",
   "execution_count": 26,
   "id": "46aabfb7",
   "metadata": {},
   "outputs": [],
   "source": [
    "#mileage 변수를 각 연료별 가격으로 나누면 1달러 당 주행거리가 됩니다, 함수 생성\n",
    "def mile(x):\n",
    "    if x['fuel'] == 'Petrol':\n",
    "        return x['mileage'] / 80.43\n",
    "    elif x['fuel'] == 'Diesel':\n",
    "        return x['mileage'] / 73.56\n",
    "    elif x['fuel'] == 'LPG':\n",
    "        return x['mileage'] / 40.85\n",
    "    else:\n",
    "        return x['mileage'] / 44.23"
   ]
  },
  {
   "cell_type": "code",
   "execution_count": 27,
   "id": "bc63570b",
   "metadata": {},
   "outputs": [
    {
     "data": {
      "text/html": [
       "<div>\n",
       "<style scoped>\n",
       "    .dataframe tbody tr th:only-of-type {\n",
       "        vertical-align: middle;\n",
       "    }\n",
       "\n",
       "    .dataframe tbody tr th {\n",
       "        vertical-align: top;\n",
       "    }\n",
       "\n",
       "    .dataframe thead th {\n",
       "        text-align: right;\n",
       "    }\n",
       "</style>\n",
       "<table border=\"1\" class=\"dataframe\">\n",
       "  <thead>\n",
       "    <tr style=\"text-align: right;\">\n",
       "      <th></th>\n",
       "      <th>name</th>\n",
       "      <th>year</th>\n",
       "      <th>selling_price</th>\n",
       "      <th>km_driven</th>\n",
       "      <th>fuel</th>\n",
       "      <th>seller_type</th>\n",
       "      <th>transmission</th>\n",
       "      <th>owner</th>\n",
       "      <th>mileage</th>\n",
       "      <th>engine</th>\n",
       "      <th>max_power</th>\n",
       "      <th>torque</th>\n",
       "      <th>seats</th>\n",
       "      <th>mileage_unit</th>\n",
       "    </tr>\n",
       "  </thead>\n",
       "  <tbody>\n",
       "    <tr>\n",
       "      <th>0</th>\n",
       "      <td>Maruti Swift Dzire VDI</td>\n",
       "      <td>2014</td>\n",
       "      <td>450000</td>\n",
       "      <td>145500</td>\n",
       "      <td>Diesel</td>\n",
       "      <td>Individual</td>\n",
       "      <td>Manual</td>\n",
       "      <td>First Owner</td>\n",
       "      <td>23.400000</td>\n",
       "      <td>1248.0</td>\n",
       "      <td>74.00</td>\n",
       "      <td>190Nm@ 2000rpm</td>\n",
       "      <td>5.0</td>\n",
       "      <td>kmpl</td>\n",
       "    </tr>\n",
       "    <tr>\n",
       "      <th>1</th>\n",
       "      <td>Skoda Rapid 1.5 TDI Ambition</td>\n",
       "      <td>2014</td>\n",
       "      <td>370000</td>\n",
       "      <td>120000</td>\n",
       "      <td>Diesel</td>\n",
       "      <td>Individual</td>\n",
       "      <td>Manual</td>\n",
       "      <td>Second Owner</td>\n",
       "      <td>21.139999</td>\n",
       "      <td>1498.0</td>\n",
       "      <td>103.52</td>\n",
       "      <td>250Nm@ 1500-2500rpm</td>\n",
       "      <td>5.0</td>\n",
       "      <td>kmpl</td>\n",
       "    </tr>\n",
       "    <tr>\n",
       "      <th>2</th>\n",
       "      <td>Honda City 2017-2020 EXi</td>\n",
       "      <td>2006</td>\n",
       "      <td>158000</td>\n",
       "      <td>140000</td>\n",
       "      <td>Petrol</td>\n",
       "      <td>Individual</td>\n",
       "      <td>Manual</td>\n",
       "      <td>Third Owner</td>\n",
       "      <td>17.700001</td>\n",
       "      <td>1497.0</td>\n",
       "      <td>78.00</td>\n",
       "      <td>12.7@ 2,700(kgm@ rpm)</td>\n",
       "      <td>5.0</td>\n",
       "      <td>kmpl</td>\n",
       "    </tr>\n",
       "    <tr>\n",
       "      <th>3</th>\n",
       "      <td>Hyundai i20 Sportz Diesel</td>\n",
       "      <td>2010</td>\n",
       "      <td>225000</td>\n",
       "      <td>127000</td>\n",
       "      <td>Diesel</td>\n",
       "      <td>Individual</td>\n",
       "      <td>Manual</td>\n",
       "      <td>First Owner</td>\n",
       "      <td>23.000000</td>\n",
       "      <td>1396.0</td>\n",
       "      <td>90.00</td>\n",
       "      <td>22.4 kgm at 1750-2750rpm</td>\n",
       "      <td>5.0</td>\n",
       "      <td>kmpl</td>\n",
       "    </tr>\n",
       "    <tr>\n",
       "      <th>4</th>\n",
       "      <td>Maruti Swift VXI BSIII</td>\n",
       "      <td>2007</td>\n",
       "      <td>130000</td>\n",
       "      <td>120000</td>\n",
       "      <td>Petrol</td>\n",
       "      <td>Individual</td>\n",
       "      <td>Manual</td>\n",
       "      <td>First Owner</td>\n",
       "      <td>16.100000</td>\n",
       "      <td>1298.0</td>\n",
       "      <td>88.20</td>\n",
       "      <td>11.5@ 4,500(kgm@ rpm)</td>\n",
       "      <td>5.0</td>\n",
       "      <td>kmpl</td>\n",
       "    </tr>\n",
       "  </tbody>\n",
       "</table>\n",
       "</div>"
      ],
      "text/plain": [
       "                           name  year  selling_price  km_driven    fuel  \\\n",
       "0        Maruti Swift Dzire VDI  2014         450000     145500  Diesel   \n",
       "1  Skoda Rapid 1.5 TDI Ambition  2014         370000     120000  Diesel   \n",
       "2      Honda City 2017-2020 EXi  2006         158000     140000  Petrol   \n",
       "3     Hyundai i20 Sportz Diesel  2010         225000     127000  Diesel   \n",
       "4        Maruti Swift VXI BSIII  2007         130000     120000  Petrol   \n",
       "\n",
       "  seller_type transmission         owner    mileage  engine  max_power  \\\n",
       "0  Individual       Manual   First Owner  23.400000  1248.0      74.00   \n",
       "1  Individual       Manual  Second Owner  21.139999  1498.0     103.52   \n",
       "2  Individual       Manual   Third Owner  17.700001  1497.0      78.00   \n",
       "3  Individual       Manual   First Owner  23.000000  1396.0      90.00   \n",
       "4  Individual       Manual   First Owner  16.100000  1298.0      88.20   \n",
       "\n",
       "                     torque  seats mileage_unit  \n",
       "0            190Nm@ 2000rpm    5.0         kmpl  \n",
       "1       250Nm@ 1500-2500rpm    5.0         kmpl  \n",
       "2     12.7@ 2,700(kgm@ rpm)    5.0         kmpl  \n",
       "3  22.4 kgm at 1750-2750rpm    5.0         kmpl  \n",
       "4     11.5@ 4,500(kgm@ rpm)    5.0         kmpl  "
      ]
     },
     "execution_count": 27,
     "metadata": {},
     "output_type": "execute_result"
    }
   ],
   "source": [
    "df.head()"
   ]
  },
  {
   "cell_type": "code",
   "execution_count": 28,
   "id": "eba184f9",
   "metadata": {},
   "outputs": [],
   "source": [
    "df['mileage'] = df.apply(mile, axis = 1)\n",
    "#함수를 활용해 mileage 변수 전처리"
   ]
  },
  {
   "cell_type": "code",
   "execution_count": 29,
   "id": "dfbbaa97",
   "metadata": {},
   "outputs": [],
   "source": [
    "df.drop('mileage_unit', axis = 1, inplace = True)\n",
    "#제거"
   ]
  },
  {
   "cell_type": "markdown",
   "id": "d6ef3998",
   "metadata": {},
   "source": []
  },
  {
   "cell_type": "markdown",
   "id": "2f551974",
   "metadata": {},
   "source": [
    "*torque 변수 전처리"
   ]
  },
  {
   "cell_type": "markdown",
   "id": "9b982a22",
   "metadata": {},
   "source": []
  },
  {
   "cell_type": "code",
   "execution_count": 30,
   "id": "7affe7e5",
   "metadata": {},
   "outputs": [
    {
     "data": {
      "text/plain": [
       "0              190Nm@ 2000rpm\n",
       "1         250Nm@ 1500-2500rpm\n",
       "2       12.7@ 2,700(kgm@ rpm)\n",
       "3    22.4 kgm at 1750-2750rpm\n",
       "4       11.5@ 4,500(kgm@ rpm)\n",
       "Name: torque, dtype: object"
      ]
     },
     "execution_count": 30,
     "metadata": {},
     "output_type": "execute_result"
    }
   ],
   "source": [
    "df['torque'].head()"
   ]
  },
  {
   "cell_type": "code",
   "execution_count": 31,
   "id": "55e6ee92",
   "metadata": {},
   "outputs": [],
   "source": [
    "df['torque'] = df['torque'].str.upper()\n",
    "#대소문자가 섞인 형태이므로, torque 변수 전체를 대문자로 변환"
   ]
  },
  {
   "cell_type": "code",
   "execution_count": 32,
   "id": "88d88570",
   "metadata": {},
   "outputs": [],
   "source": [
    "#NM 과 KGM 우선적으로 처리 작업을 진행했습니다.\n",
    "def torque_unit(x):\n",
    "    if 'NM' in str(x):\n",
    "        #x 에 NM 이 있으면,\n",
    "        return 'Nm'\n",
    "    #Nm 리턴\n",
    "    elif 'KGM' in str(x):\n",
    "        #x 에 KGM 있으면,\n",
    "        return 'kgm'\n",
    "    #kgm 리턴"
   ]
  },
  {
   "cell_type": "code",
   "execution_count": 33,
   "id": "e1a2ab4a",
   "metadata": {},
   "outputs": [],
   "source": [
    "df['torque_unit'] = df['torque'].apply(torque_unit)\n",
    "#torque_unit 함수로 별도 저장"
   ]
  },
  {
   "cell_type": "code",
   "execution_count": 34,
   "id": "d1cb7ceb",
   "metadata": {},
   "outputs": [
    {
     "data": {
      "text/plain": [
       "array(['Nm', 'kgm', None], dtype=object)"
      ]
     },
     "execution_count": 34,
     "metadata": {},
     "output_type": "execute_result"
    }
   ],
   "source": [
    "df['torque_unit'].unique()\n",
    "#고윳값 확인"
   ]
  },
  {
   "cell_type": "code",
   "execution_count": 36,
   "id": "6aad03e5",
   "metadata": {
    "scrolled": true
   },
   "outputs": [
    {
     "data": {
      "text/plain": [
       "array([nan, '250@ 1250-5000RPM', '510@ 1600-2400', '110(11.2)@ 4800',\n",
       "       '210 / 1900'], dtype=object)"
      ]
     },
     "execution_count": 36,
     "metadata": {},
     "output_type": "execute_result"
    }
   ],
   "source": [
    "df[df['torque_unit'].isnull()]['torque'].unique()\n",
    "#torque_unit 이 결측치인 라인의 torque 변수 고윳값 확인"
   ]
  },
  {
   "cell_type": "markdown",
   "id": "d1d916cf",
   "metadata": {},
   "source": []
  },
  {
   "cell_type": "markdown",
   "id": "8c616dc8",
   "metadata": {},
   "source": [
    "*데이터를 확인했을 때, Nm 은 보통 백단위, kgm 은 십단위 숫자입니다.\n",
    "*숫자 크기를 고려했을 때, 결측 라인은 모두 Nm 에 해당한다고 추론하고 작업을 진행했습니다."
   ]
  },
  {
   "cell_type": "markdown",
   "id": "5de17d8f",
   "metadata": {},
   "source": []
  },
  {
   "cell_type": "code",
   "execution_count": 37,
   "id": "e81e1d19",
   "metadata": {},
   "outputs": [],
   "source": [
    "df['torque_unit'].fillna('Nm', inplace = True)\n",
    "#결측치를 Nm 으로 대체"
   ]
  },
  {
   "cell_type": "code",
   "execution_count": 38,
   "id": "162285a9",
   "metadata": {},
   "outputs": [],
   "source": [
    "string_example = '12.7@ 2,700(KGM@ RPM)'"
   ]
  },
  {
   "cell_type": "code",
   "execution_count": 39,
   "id": "7917e95a",
   "metadata": {},
   "outputs": [
    {
     "data": {
      "text/plain": [
       "'12.7'"
      ]
     },
     "execution_count": 39,
     "metadata": {},
     "output_type": "execute_result"
    }
   ],
   "source": [
    "string_example[:4]"
   ]
  },
  {
   "cell_type": "code",
   "execution_count": 40,
   "id": "8f668d70",
   "metadata": {},
   "outputs": [
    {
     "name": "stdout",
     "output_type": "stream",
     "text": [
      "0 번째 텍스트:  1\n",
      "1 번째 텍스트:  2\n",
      "2 번째 텍스트:  .\n",
      "3 번째 텍스트:  7\n",
      "4 번째 텍스트:  @\n",
      "5 번째 텍스트:   \n",
      "6 번째 텍스트:  2\n",
      "7 번째 텍스트:  ,\n",
      "8 번째 텍스트:  7\n",
      "9 번째 텍스트:  0\n",
      "10 번째 텍스트:  0\n",
      "11 번째 텍스트:  (\n",
      "12 번째 텍스트:  K\n",
      "13 번째 텍스트:  G\n",
      "14 번째 텍스트:  M\n",
      "15 번째 텍스트:  @\n",
      "16 번째 텍스트:   \n",
      "17 번째 텍스트:  R\n",
      "18 번째 텍스트:  P\n",
      "19 번째 텍스트:  M\n",
      "20 번째 텍스트:  )\n"
     ]
    }
   ],
   "source": [
    "for i, j in enumerate(string_example):\n",
    "    print(i, '번째 텍스트: ', j)"
   ]
  },
  {
   "cell_type": "code",
   "execution_count": 41,
   "id": "bbee1ee1",
   "metadata": {},
   "outputs": [],
   "source": [
    "for i,j in enumerate(string_example):\n",
    "    if j not in '0123456789.':\n",
    "        cut = i\n",
    "        break"
   ]
  },
  {
   "cell_type": "code",
   "execution_count": 43,
   "id": "2c43827d",
   "metadata": {},
   "outputs": [
    {
     "data": {
      "text/plain": [
       "190NM@ 2000RPM                 530\n",
       "200NM@ 1750RPM                 445\n",
       "90NM@ 3500RPM                  407\n",
       "113NM@ 4200RPM                 223\n",
       "114NM@ 4000RPM                 171\n",
       "                              ... \n",
       "22.9@ 1,950-4,700(KGM@ RPM)      1\n",
       "99.1NM@ 4500RPM                  1\n",
       "159.8NM@ 1500-2750RPM            1\n",
       "190 NM AT 2000RPM                1\n",
       "250NM@ 1600-2000RPM              1\n",
       "Name: torque, Length: 428, dtype: int64"
      ]
     },
     "execution_count": 43,
     "metadata": {},
     "output_type": "execute_result"
    }
   ],
   "source": [
    "df.torque.value_counts()"
   ]
  },
  {
   "cell_type": "code",
   "execution_count": 44,
   "id": "453d7504",
   "metadata": {},
   "outputs": [],
   "source": [
    "def split_num(x):\n",
    "    x = str(x)\n",
    "    #문자 형태로 변환\n",
    "    for i,j in enumerate(x):\n",
    "        #인덱스를 포함한 순회\n",
    "        if j not in '0123456789.':\n",
    "            #j 가 0123456789. 에 속하지 않으면,\n",
    "            cut = i\n",
    "            #인덱스를 cut 에 저장\n",
    "            break\n",
    "            #순회 중지\n",
    "    return x[:cut]\n",
    "#cut 이전 인덱스까지 인덱싱하여 리턴"
   ]
  },
  {
   "cell_type": "code",
   "execution_count": 45,
   "id": "bc472c92",
   "metadata": {},
   "outputs": [],
   "source": [
    "df['torque'] = df['torque'].apply(split_num)"
   ]
  },
  {
   "cell_type": "code",
   "execution_count": 46,
   "id": "6a437989",
   "metadata": {},
   "outputs": [
    {
     "data": {
      "text/plain": [
       "0         190\n",
       "1         250\n",
       "2        12.7\n",
       "3        22.4\n",
       "4        11.5\n",
       "        ...  \n",
       "8123    113.7\n",
       "8124       24\n",
       "8125      190\n",
       "8126      140\n",
       "8127      140\n",
       "Name: torque, Length: 8128, dtype: object"
      ]
     },
     "execution_count": 46,
     "metadata": {},
     "output_type": "execute_result"
    }
   ],
   "source": [
    "df.torque\n",
    "#torque 변수 확인"
   ]
  },
  {
   "cell_type": "code",
   "execution_count": 48,
   "id": "84ff447c",
   "metadata": {
    "scrolled": true
   },
   "outputs": [],
   "source": [
    "df['torque'] = df['torque'].replace('', np.NaN)\n",
    "#데이터값 중 '' 값을 결측값으로 대체\n",
    "df['torque'] = df['torque'].astype('float32')\n",
    "#데이터 타입 변환"
   ]
  },
  {
   "cell_type": "code",
   "execution_count": 49,
   "id": "747f43bd",
   "metadata": {
    "scrolled": true
   },
   "outputs": [
    {
     "data": {
      "text/plain": [
       "0    190.0\n",
       "1    250.0\n",
       "2     12.7\n",
       "3     22.4\n",
       "4     11.5\n",
       "Name: torque, dtype: float32"
      ]
     },
     "execution_count": 49,
     "metadata": {},
     "output_type": "execute_result"
    }
   ],
   "source": [
    "df['torque'].head()"
   ]
  },
  {
   "cell_type": "markdown",
   "id": "3cd0bacc",
   "metadata": {},
   "source": []
  },
  {
   "cell_type": "markdown",
   "id": "c0a8b038",
   "metadata": {},
   "source": [
    "*kgm * 9.8066 = Nm\n",
    "*모든 값을 Nm 단위로 변환 작업을 진행했습니다."
   ]
  },
  {
   "cell_type": "markdown",
   "id": "f02b70d9",
   "metadata": {},
   "source": []
  },
  {
   "cell_type": "code",
   "execution_count": 50,
   "id": "bdf76be9",
   "metadata": {},
   "outputs": [],
   "source": [
    "def torque_trans(x):\n",
    "    if x['torque_unit'] == 'kgm':\n",
    "        #torque_unit 값이 kgm 이면\n",
    "        return x['torque']*9.8066\n",
    "    #kgm * 9.8066 = Nm\n",
    "    else:\n",
    "        return x['torque']\n",
    "    #아닐 경우, 그냥 리턴"
   ]
  },
  {
   "cell_type": "code",
   "execution_count": 52,
   "id": "d3d0a5d2",
   "metadata": {},
   "outputs": [],
   "source": [
    "df['torque'] = df.apply(torque_trans, axis = 1)\n",
    "df.drop('torque_unit', axis = 1, inplace = True)\n",
    "#torque_unit 변수 제거"
   ]
  },
  {
   "cell_type": "code",
   "execution_count": 53,
   "id": "7856c7fa",
   "metadata": {
    "scrolled": true
   },
   "outputs": [
    {
     "data": {
      "text/html": [
       "<div>\n",
       "<style scoped>\n",
       "    .dataframe tbody tr th:only-of-type {\n",
       "        vertical-align: middle;\n",
       "    }\n",
       "\n",
       "    .dataframe tbody tr th {\n",
       "        vertical-align: top;\n",
       "    }\n",
       "\n",
       "    .dataframe thead th {\n",
       "        text-align: right;\n",
       "    }\n",
       "</style>\n",
       "<table border=\"1\" class=\"dataframe\">\n",
       "  <thead>\n",
       "    <tr style=\"text-align: right;\">\n",
       "      <th></th>\n",
       "      <th>name</th>\n",
       "      <th>year</th>\n",
       "      <th>selling_price</th>\n",
       "      <th>km_driven</th>\n",
       "      <th>fuel</th>\n",
       "      <th>seller_type</th>\n",
       "      <th>transmission</th>\n",
       "      <th>owner</th>\n",
       "      <th>mileage</th>\n",
       "      <th>engine</th>\n",
       "      <th>max_power</th>\n",
       "      <th>torque</th>\n",
       "      <th>seats</th>\n",
       "    </tr>\n",
       "  </thead>\n",
       "  <tbody>\n",
       "    <tr>\n",
       "      <th>0</th>\n",
       "      <td>Maruti Swift Dzire VDI</td>\n",
       "      <td>2014</td>\n",
       "      <td>450000</td>\n",
       "      <td>145500</td>\n",
       "      <td>Diesel</td>\n",
       "      <td>Individual</td>\n",
       "      <td>Manual</td>\n",
       "      <td>First Owner</td>\n",
       "      <td>0.318108</td>\n",
       "      <td>1248.0</td>\n",
       "      <td>74.00</td>\n",
       "      <td>190.000000</td>\n",
       "      <td>5.0</td>\n",
       "    </tr>\n",
       "    <tr>\n",
       "      <th>1</th>\n",
       "      <td>Skoda Rapid 1.5 TDI Ambition</td>\n",
       "      <td>2014</td>\n",
       "      <td>370000</td>\n",
       "      <td>120000</td>\n",
       "      <td>Diesel</td>\n",
       "      <td>Individual</td>\n",
       "      <td>Manual</td>\n",
       "      <td>Second Owner</td>\n",
       "      <td>0.287384</td>\n",
       "      <td>1498.0</td>\n",
       "      <td>103.52</td>\n",
       "      <td>250.000000</td>\n",
       "      <td>5.0</td>\n",
       "    </tr>\n",
       "    <tr>\n",
       "      <th>2</th>\n",
       "      <td>Honda City 2017-2020 EXi</td>\n",
       "      <td>2006</td>\n",
       "      <td>158000</td>\n",
       "      <td>140000</td>\n",
       "      <td>Petrol</td>\n",
       "      <td>Individual</td>\n",
       "      <td>Manual</td>\n",
       "      <td>Third Owner</td>\n",
       "      <td>0.220067</td>\n",
       "      <td>1497.0</td>\n",
       "      <td>78.00</td>\n",
       "      <td>124.543818</td>\n",
       "      <td>5.0</td>\n",
       "    </tr>\n",
       "    <tr>\n",
       "      <th>3</th>\n",
       "      <td>Hyundai i20 Sportz Diesel</td>\n",
       "      <td>2010</td>\n",
       "      <td>225000</td>\n",
       "      <td>127000</td>\n",
       "      <td>Diesel</td>\n",
       "      <td>Individual</td>\n",
       "      <td>Manual</td>\n",
       "      <td>First Owner</td>\n",
       "      <td>0.312670</td>\n",
       "      <td>1396.0</td>\n",
       "      <td>90.00</td>\n",
       "      <td>219.667836</td>\n",
       "      <td>5.0</td>\n",
       "    </tr>\n",
       "    <tr>\n",
       "      <th>4</th>\n",
       "      <td>Maruti Swift VXI BSIII</td>\n",
       "      <td>2007</td>\n",
       "      <td>130000</td>\n",
       "      <td>120000</td>\n",
       "      <td>Petrol</td>\n",
       "      <td>Individual</td>\n",
       "      <td>Manual</td>\n",
       "      <td>First Owner</td>\n",
       "      <td>0.200174</td>\n",
       "      <td>1298.0</td>\n",
       "      <td>88.20</td>\n",
       "      <td>112.775900</td>\n",
       "      <td>5.0</td>\n",
       "    </tr>\n",
       "  </tbody>\n",
       "</table>\n",
       "</div>"
      ],
      "text/plain": [
       "                           name  year  selling_price  km_driven    fuel  \\\n",
       "0        Maruti Swift Dzire VDI  2014         450000     145500  Diesel   \n",
       "1  Skoda Rapid 1.5 TDI Ambition  2014         370000     120000  Diesel   \n",
       "2      Honda City 2017-2020 EXi  2006         158000     140000  Petrol   \n",
       "3     Hyundai i20 Sportz Diesel  2010         225000     127000  Diesel   \n",
       "4        Maruti Swift VXI BSIII  2007         130000     120000  Petrol   \n",
       "\n",
       "  seller_type transmission         owner   mileage  engine  max_power  \\\n",
       "0  Individual       Manual   First Owner  0.318108  1248.0      74.00   \n",
       "1  Individual       Manual  Second Owner  0.287384  1498.0     103.52   \n",
       "2  Individual       Manual   Third Owner  0.220067  1497.0      78.00   \n",
       "3  Individual       Manual   First Owner  0.312670  1396.0      90.00   \n",
       "4  Individual       Manual   First Owner  0.200174  1298.0      88.20   \n",
       "\n",
       "       torque  seats  \n",
       "0  190.000000    5.0  \n",
       "1  250.000000    5.0  \n",
       "2  124.543818    5.0  \n",
       "3  219.667836    5.0  \n",
       "4  112.775900    5.0  "
      ]
     },
     "execution_count": 53,
     "metadata": {},
     "output_type": "execute_result"
    }
   ],
   "source": [
    "df.head()"
   ]
  },
  {
   "cell_type": "markdown",
   "id": "2023684c",
   "metadata": {},
   "source": []
  },
  {
   "cell_type": "markdown",
   "id": "2a33e58f",
   "metadata": {},
   "source": [
    "*name 변수 전처리\n",
    "*동일 스펙의 자동차라도, 비싼 브랜드의 경우 가격이 더 높게 측정될 수 있으므로, 모델명은 버리더라도 브랜드명을 가져가기 위해 처리했습니다."
   ]
  },
  {
   "cell_type": "markdown",
   "id": "6ab0409c",
   "metadata": {},
   "source": []
  },
  {
   "cell_type": "code",
   "execution_count": 54,
   "id": "adf3f864",
   "metadata": {},
   "outputs": [
    {
     "data": {
      "text/plain": [
       "array(['Maruti', 'Skoda', 'Honda', 'Hyundai', 'Toyota', 'Ford', 'Renault',\n",
       "       'Mahindra', 'Tata', 'Chevrolet', 'Fiat', 'Datsun', 'Jeep',\n",
       "       'Mercedes-Benz', 'Mitsubishi', 'Audi', 'Volkswagen', 'BMW',\n",
       "       'Nissan', 'Lexus', 'Jaguar', 'Land', 'MG', 'Volvo', 'Daewoo',\n",
       "       'Kia', 'Force', 'Ambassador', 'Ashok', 'Isuzu', 'Opel', 'Peugeot'],\n",
       "      dtype=object)"
      ]
     },
     "execution_count": 54,
     "metadata": {},
     "output_type": "execute_result"
    }
   ],
   "source": [
    "df['name'] = df['name'].str.split(expand = True)[0]\n",
    "#공백으로 split 후 첫번째 부분으로 name 변수 업데이트\n",
    "df['name'].unique()\n",
    "#고윳값 확인"
   ]
  },
  {
   "cell_type": "markdown",
   "id": "79ff49a8",
   "metadata": {},
   "source": []
  },
  {
   "cell_type": "markdown",
   "id": "e7115c1c",
   "metadata": {},
   "source": [
    "*공백 분리로 처리해 'Land Rover' 변수가 'Land' 로 처리됐습니다."
   ]
  },
  {
   "cell_type": "markdown",
   "id": "077c193b",
   "metadata": {},
   "source": []
  },
  {
   "cell_type": "code",
   "execution_count": 55,
   "id": "681bfa1a",
   "metadata": {},
   "outputs": [],
   "source": [
    "df['name'] = df['name'].replace('Land', 'Land Rover')\n",
    "#대체"
   ]
  },
  {
   "cell_type": "markdown",
   "id": "2773099c",
   "metadata": {},
   "source": []
  },
  {
   "cell_type": "markdown",
   "id": "7fdffe34",
   "metadata": {},
   "source": [
    "*결측치 처리 및 더미 변환"
   ]
  },
  {
   "cell_type": "markdown",
   "id": "a00cc674",
   "metadata": {},
   "source": []
  },
  {
   "cell_type": "code",
   "execution_count": 57,
   "id": "358b6146",
   "metadata": {
    "scrolled": true
   },
   "outputs": [
    {
     "data": {
      "text/plain": [
       "name             0.000000\n",
       "year             0.000000\n",
       "selling_price    0.000000\n",
       "km_driven        0.000000\n",
       "fuel             0.000000\n",
       "seller_type      0.000000\n",
       "transmission     0.000000\n",
       "owner            0.000000\n",
       "mileage          0.027190\n",
       "engine           0.027190\n",
       "max_power        0.026575\n",
       "torque           0.027313\n",
       "seats            0.027190\n",
       "dtype: float64"
      ]
     },
     "execution_count": 57,
     "metadata": {},
     "output_type": "execute_result"
    }
   ],
   "source": [
    "df.isnull().mean()"
   ]
  },
  {
   "cell_type": "markdown",
   "id": "76959b44",
   "metadata": {},
   "source": []
  },
  {
   "cell_type": "markdown",
   "id": "b8153707",
   "metadata": {},
   "source": [
    "*mileage 변수부터 그 아래로 2~3 % 정도의 결측치를 확인했습니다.\n",
    "*스펙 관련 값을 평균으로 치환할 경우, 노이즈 발생 위험이 있다 판단하여 행 제거 작업을 진행했습니다."
   ]
  },
  {
   "cell_type": "markdown",
   "id": "0d754208",
   "metadata": {},
   "source": []
  },
  {
   "cell_type": "code",
   "execution_count": 58,
   "id": "4bf9cf66",
   "metadata": {},
   "outputs": [
    {
     "data": {
      "text/plain": [
       "7906"
      ]
     },
     "execution_count": 58,
     "metadata": {},
     "output_type": "execute_result"
    }
   ],
   "source": [
    "df.dropna(inplace = True)\n",
    "#결측치 행 제거\n",
    "len(df)\n",
    "#데이터 길이 확인"
   ]
  },
  {
   "cell_type": "code",
   "execution_count": 59,
   "id": "e2f59504",
   "metadata": {},
   "outputs": [],
   "source": [
    "df = pd.get_dummies(df, columns = ['name', 'fuel', 'seller_type', 'transmission', 'owner'],\\\n",
    "                   drop_first = True)\n",
    "#object 변수의 더미 변환 진행"
   ]
  },
  {
   "cell_type": "code",
   "execution_count": 60,
   "id": "f0367de6",
   "metadata": {},
   "outputs": [
    {
     "data": {
      "text/html": [
       "<div>\n",
       "<style scoped>\n",
       "    .dataframe tbody tr th:only-of-type {\n",
       "        vertical-align: middle;\n",
       "    }\n",
       "\n",
       "    .dataframe tbody tr th {\n",
       "        vertical-align: top;\n",
       "    }\n",
       "\n",
       "    .dataframe thead th {\n",
       "        text-align: right;\n",
       "    }\n",
       "</style>\n",
       "<table border=\"1\" class=\"dataframe\">\n",
       "  <thead>\n",
       "    <tr style=\"text-align: right;\">\n",
       "      <th></th>\n",
       "      <th>year</th>\n",
       "      <th>selling_price</th>\n",
       "      <th>km_driven</th>\n",
       "      <th>mileage</th>\n",
       "      <th>engine</th>\n",
       "      <th>max_power</th>\n",
       "      <th>torque</th>\n",
       "      <th>seats</th>\n",
       "      <th>name_Ashok</th>\n",
       "      <th>name_Audi</th>\n",
       "      <th>...</th>\n",
       "      <th>fuel_Diesel</th>\n",
       "      <th>fuel_LPG</th>\n",
       "      <th>fuel_Petrol</th>\n",
       "      <th>seller_type_Individual</th>\n",
       "      <th>seller_type_Trustmark Dealer</th>\n",
       "      <th>transmission_Manual</th>\n",
       "      <th>owner_Fourth &amp; Above Owner</th>\n",
       "      <th>owner_Second Owner</th>\n",
       "      <th>owner_Test Drive Car</th>\n",
       "      <th>owner_Third Owner</th>\n",
       "    </tr>\n",
       "  </thead>\n",
       "  <tbody>\n",
       "    <tr>\n",
       "      <th>0</th>\n",
       "      <td>2014</td>\n",
       "      <td>450000</td>\n",
       "      <td>145500</td>\n",
       "      <td>0.318108</td>\n",
       "      <td>1248.0</td>\n",
       "      <td>74.00</td>\n",
       "      <td>190.000000</td>\n",
       "      <td>5.0</td>\n",
       "      <td>0</td>\n",
       "      <td>0</td>\n",
       "      <td>...</td>\n",
       "      <td>1</td>\n",
       "      <td>0</td>\n",
       "      <td>0</td>\n",
       "      <td>1</td>\n",
       "      <td>0</td>\n",
       "      <td>1</td>\n",
       "      <td>0</td>\n",
       "      <td>0</td>\n",
       "      <td>0</td>\n",
       "      <td>0</td>\n",
       "    </tr>\n",
       "    <tr>\n",
       "      <th>1</th>\n",
       "      <td>2014</td>\n",
       "      <td>370000</td>\n",
       "      <td>120000</td>\n",
       "      <td>0.287384</td>\n",
       "      <td>1498.0</td>\n",
       "      <td>103.52</td>\n",
       "      <td>250.000000</td>\n",
       "      <td>5.0</td>\n",
       "      <td>0</td>\n",
       "      <td>0</td>\n",
       "      <td>...</td>\n",
       "      <td>1</td>\n",
       "      <td>0</td>\n",
       "      <td>0</td>\n",
       "      <td>1</td>\n",
       "      <td>0</td>\n",
       "      <td>1</td>\n",
       "      <td>0</td>\n",
       "      <td>1</td>\n",
       "      <td>0</td>\n",
       "      <td>0</td>\n",
       "    </tr>\n",
       "    <tr>\n",
       "      <th>2</th>\n",
       "      <td>2006</td>\n",
       "      <td>158000</td>\n",
       "      <td>140000</td>\n",
       "      <td>0.220067</td>\n",
       "      <td>1497.0</td>\n",
       "      <td>78.00</td>\n",
       "      <td>124.543818</td>\n",
       "      <td>5.0</td>\n",
       "      <td>0</td>\n",
       "      <td>0</td>\n",
       "      <td>...</td>\n",
       "      <td>0</td>\n",
       "      <td>0</td>\n",
       "      <td>1</td>\n",
       "      <td>1</td>\n",
       "      <td>0</td>\n",
       "      <td>1</td>\n",
       "      <td>0</td>\n",
       "      <td>0</td>\n",
       "      <td>0</td>\n",
       "      <td>1</td>\n",
       "    </tr>\n",
       "    <tr>\n",
       "      <th>3</th>\n",
       "      <td>2010</td>\n",
       "      <td>225000</td>\n",
       "      <td>127000</td>\n",
       "      <td>0.312670</td>\n",
       "      <td>1396.0</td>\n",
       "      <td>90.00</td>\n",
       "      <td>219.667836</td>\n",
       "      <td>5.0</td>\n",
       "      <td>0</td>\n",
       "      <td>0</td>\n",
       "      <td>...</td>\n",
       "      <td>1</td>\n",
       "      <td>0</td>\n",
       "      <td>0</td>\n",
       "      <td>1</td>\n",
       "      <td>0</td>\n",
       "      <td>1</td>\n",
       "      <td>0</td>\n",
       "      <td>0</td>\n",
       "      <td>0</td>\n",
       "      <td>0</td>\n",
       "    </tr>\n",
       "    <tr>\n",
       "      <th>4</th>\n",
       "      <td>2007</td>\n",
       "      <td>130000</td>\n",
       "      <td>120000</td>\n",
       "      <td>0.200174</td>\n",
       "      <td>1298.0</td>\n",
       "      <td>88.20</td>\n",
       "      <td>112.775900</td>\n",
       "      <td>5.0</td>\n",
       "      <td>0</td>\n",
       "      <td>0</td>\n",
       "      <td>...</td>\n",
       "      <td>0</td>\n",
       "      <td>0</td>\n",
       "      <td>1</td>\n",
       "      <td>1</td>\n",
       "      <td>0</td>\n",
       "      <td>1</td>\n",
       "      <td>0</td>\n",
       "      <td>0</td>\n",
       "      <td>0</td>\n",
       "      <td>0</td>\n",
       "    </tr>\n",
       "  </tbody>\n",
       "</table>\n",
       "<p>5 rows × 48 columns</p>\n",
       "</div>"
      ],
      "text/plain": [
       "   year  selling_price  km_driven   mileage  engine  max_power      torque  \\\n",
       "0  2014         450000     145500  0.318108  1248.0      74.00  190.000000   \n",
       "1  2014         370000     120000  0.287384  1498.0     103.52  250.000000   \n",
       "2  2006         158000     140000  0.220067  1497.0      78.00  124.543818   \n",
       "3  2010         225000     127000  0.312670  1396.0      90.00  219.667836   \n",
       "4  2007         130000     120000  0.200174  1298.0      88.20  112.775900   \n",
       "\n",
       "   seats  name_Ashok  name_Audi  ...  fuel_Diesel  fuel_LPG  fuel_Petrol  \\\n",
       "0    5.0           0          0  ...            1         0            0   \n",
       "1    5.0           0          0  ...            1         0            0   \n",
       "2    5.0           0          0  ...            0         0            1   \n",
       "3    5.0           0          0  ...            1         0            0   \n",
       "4    5.0           0          0  ...            0         0            1   \n",
       "\n",
       "   seller_type_Individual  seller_type_Trustmark Dealer  transmission_Manual  \\\n",
       "0                       1                             0                    1   \n",
       "1                       1                             0                    1   \n",
       "2                       1                             0                    1   \n",
       "3                       1                             0                    1   \n",
       "4                       1                             0                    1   \n",
       "\n",
       "   owner_Fourth & Above Owner  owner_Second Owner  owner_Test Drive Car  \\\n",
       "0                           0                   0                     0   \n",
       "1                           0                   1                     0   \n",
       "2                           0                   0                     0   \n",
       "3                           0                   0                     0   \n",
       "4                           0                   0                     0   \n",
       "\n",
       "   owner_Third Owner  \n",
       "0                  0  \n",
       "1                  0  \n",
       "2                  1  \n",
       "3                  0  \n",
       "4                  0  \n",
       "\n",
       "[5 rows x 48 columns]"
      ]
     },
     "execution_count": 60,
     "metadata": {},
     "output_type": "execute_result"
    }
   ],
   "source": [
    "df.head()"
   ]
  },
  {
   "cell_type": "code",
   "execution_count": 61,
   "id": "4cf74470",
   "metadata": {},
   "outputs": [],
   "source": [
    "from sklearn.model_selection import train_test_split\n",
    "#훈련 / 시험셋 분리\n",
    "xtr,xt,ytr,yt = train_test_split(df.drop('selling_price', axis = 1), df['selling_price'],\\\n",
    "                                test_size = 0.2, random_state = 100)"
   ]
  },
  {
   "cell_type": "code",
   "execution_count": 62,
   "id": "5611d12c",
   "metadata": {},
   "outputs": [],
   "source": [
    "from sklearn.ensemble import RandomForestRegressor\n",
    "#랜덤 포레스트 회귀 모델 import\n",
    "rf = RandomForestRegressor(random_state = 100)\n",
    "rf.fit(xtr, ytr)\n",
    "#학습\n",
    "train_pred = rf.predict(xtr)\n",
    "#훈련셋 예측\n",
    "test_pred = rf.predict(xt)\n",
    "#시험셋 예측"
   ]
  },
  {
   "cell_type": "code",
   "execution_count": 63,
   "id": "2ce49603",
   "metadata": {},
   "outputs": [
    {
     "name": "stdout",
     "output_type": "stream",
     "text": [
      "train_rmse:  53531.41548125947 test_rmse:  131855.18391308116\n"
     ]
    }
   ],
   "source": [
    "#RMSE 를 활용한 모델 평가\n",
    "from sklearn.metrics import mean_squared_error\n",
    "print('train_rmse: ', mean_squared_error(ytr, train_pred)**0.5,\n",
    "      'test_rmse: ', mean_squared_error(yt, test_pred)**0.5)"
   ]
  },
  {
   "cell_type": "code",
   "execution_count": 64,
   "id": "11c62c53",
   "metadata": {},
   "outputs": [
    {
     "data": {
      "text/html": [
       "<div>\n",
       "<style scoped>\n",
       "    .dataframe tbody tr th:only-of-type {\n",
       "        vertical-align: middle;\n",
       "    }\n",
       "\n",
       "    .dataframe tbody tr th {\n",
       "        vertical-align: top;\n",
       "    }\n",
       "\n",
       "    .dataframe thead th {\n",
       "        text-align: right;\n",
       "    }\n",
       "</style>\n",
       "<table border=\"1\" class=\"dataframe\">\n",
       "  <thead>\n",
       "    <tr style=\"text-align: right;\">\n",
       "      <th></th>\n",
       "      <th>year</th>\n",
       "      <th>selling_price</th>\n",
       "      <th>km_driven</th>\n",
       "      <th>mileage</th>\n",
       "      <th>engine</th>\n",
       "      <th>max_power</th>\n",
       "      <th>torque</th>\n",
       "      <th>seats</th>\n",
       "      <th>name_Ashok</th>\n",
       "      <th>name_Audi</th>\n",
       "      <th>...</th>\n",
       "      <th>fuel_Diesel</th>\n",
       "      <th>fuel_LPG</th>\n",
       "      <th>fuel_Petrol</th>\n",
       "      <th>seller_type_Individual</th>\n",
       "      <th>seller_type_Trustmark Dealer</th>\n",
       "      <th>transmission_Manual</th>\n",
       "      <th>owner_Fourth &amp; Above Owner</th>\n",
       "      <th>owner_Second Owner</th>\n",
       "      <th>owner_Test Drive Car</th>\n",
       "      <th>owner_Third Owner</th>\n",
       "    </tr>\n",
       "  </thead>\n",
       "  <tbody>\n",
       "    <tr>\n",
       "      <th>0</th>\n",
       "      <td>2014</td>\n",
       "      <td>450000</td>\n",
       "      <td>145500</td>\n",
       "      <td>0.318108</td>\n",
       "      <td>1248.0</td>\n",
       "      <td>74.00</td>\n",
       "      <td>190.000000</td>\n",
       "      <td>5.0</td>\n",
       "      <td>0</td>\n",
       "      <td>0</td>\n",
       "      <td>...</td>\n",
       "      <td>1</td>\n",
       "      <td>0</td>\n",
       "      <td>0</td>\n",
       "      <td>1</td>\n",
       "      <td>0</td>\n",
       "      <td>1</td>\n",
       "      <td>0</td>\n",
       "      <td>0</td>\n",
       "      <td>0</td>\n",
       "      <td>0</td>\n",
       "    </tr>\n",
       "    <tr>\n",
       "      <th>1</th>\n",
       "      <td>2014</td>\n",
       "      <td>370000</td>\n",
       "      <td>120000</td>\n",
       "      <td>0.287384</td>\n",
       "      <td>1498.0</td>\n",
       "      <td>103.52</td>\n",
       "      <td>250.000000</td>\n",
       "      <td>5.0</td>\n",
       "      <td>0</td>\n",
       "      <td>0</td>\n",
       "      <td>...</td>\n",
       "      <td>1</td>\n",
       "      <td>0</td>\n",
       "      <td>0</td>\n",
       "      <td>1</td>\n",
       "      <td>0</td>\n",
       "      <td>1</td>\n",
       "      <td>0</td>\n",
       "      <td>1</td>\n",
       "      <td>0</td>\n",
       "      <td>0</td>\n",
       "    </tr>\n",
       "    <tr>\n",
       "      <th>2</th>\n",
       "      <td>2006</td>\n",
       "      <td>158000</td>\n",
       "      <td>140000</td>\n",
       "      <td>0.220067</td>\n",
       "      <td>1497.0</td>\n",
       "      <td>78.00</td>\n",
       "      <td>124.543818</td>\n",
       "      <td>5.0</td>\n",
       "      <td>0</td>\n",
       "      <td>0</td>\n",
       "      <td>...</td>\n",
       "      <td>0</td>\n",
       "      <td>0</td>\n",
       "      <td>1</td>\n",
       "      <td>1</td>\n",
       "      <td>0</td>\n",
       "      <td>1</td>\n",
       "      <td>0</td>\n",
       "      <td>0</td>\n",
       "      <td>0</td>\n",
       "      <td>1</td>\n",
       "    </tr>\n",
       "    <tr>\n",
       "      <th>3</th>\n",
       "      <td>2010</td>\n",
       "      <td>225000</td>\n",
       "      <td>127000</td>\n",
       "      <td>0.312670</td>\n",
       "      <td>1396.0</td>\n",
       "      <td>90.00</td>\n",
       "      <td>219.667836</td>\n",
       "      <td>5.0</td>\n",
       "      <td>0</td>\n",
       "      <td>0</td>\n",
       "      <td>...</td>\n",
       "      <td>1</td>\n",
       "      <td>0</td>\n",
       "      <td>0</td>\n",
       "      <td>1</td>\n",
       "      <td>0</td>\n",
       "      <td>1</td>\n",
       "      <td>0</td>\n",
       "      <td>0</td>\n",
       "      <td>0</td>\n",
       "      <td>0</td>\n",
       "    </tr>\n",
       "    <tr>\n",
       "      <th>4</th>\n",
       "      <td>2007</td>\n",
       "      <td>130000</td>\n",
       "      <td>120000</td>\n",
       "      <td>0.200174</td>\n",
       "      <td>1298.0</td>\n",
       "      <td>88.20</td>\n",
       "      <td>112.775900</td>\n",
       "      <td>5.0</td>\n",
       "      <td>0</td>\n",
       "      <td>0</td>\n",
       "      <td>...</td>\n",
       "      <td>0</td>\n",
       "      <td>0</td>\n",
       "      <td>1</td>\n",
       "      <td>1</td>\n",
       "      <td>0</td>\n",
       "      <td>1</td>\n",
       "      <td>0</td>\n",
       "      <td>0</td>\n",
       "      <td>0</td>\n",
       "      <td>0</td>\n",
       "    </tr>\n",
       "    <tr>\n",
       "      <th>...</th>\n",
       "      <td>...</td>\n",
       "      <td>...</td>\n",
       "      <td>...</td>\n",
       "      <td>...</td>\n",
       "      <td>...</td>\n",
       "      <td>...</td>\n",
       "      <td>...</td>\n",
       "      <td>...</td>\n",
       "      <td>...</td>\n",
       "      <td>...</td>\n",
       "      <td>...</td>\n",
       "      <td>...</td>\n",
       "      <td>...</td>\n",
       "      <td>...</td>\n",
       "      <td>...</td>\n",
       "      <td>...</td>\n",
       "      <td>...</td>\n",
       "      <td>...</td>\n",
       "      <td>...</td>\n",
       "      <td>...</td>\n",
       "      <td>...</td>\n",
       "    </tr>\n",
       "    <tr>\n",
       "      <th>8123</th>\n",
       "      <td>2013</td>\n",
       "      <td>320000</td>\n",
       "      <td>110000</td>\n",
       "      <td>0.230014</td>\n",
       "      <td>1197.0</td>\n",
       "      <td>82.85</td>\n",
       "      <td>113.699997</td>\n",
       "      <td>5.0</td>\n",
       "      <td>0</td>\n",
       "      <td>0</td>\n",
       "      <td>...</td>\n",
       "      <td>0</td>\n",
       "      <td>0</td>\n",
       "      <td>1</td>\n",
       "      <td>1</td>\n",
       "      <td>0</td>\n",
       "      <td>1</td>\n",
       "      <td>0</td>\n",
       "      <td>0</td>\n",
       "      <td>0</td>\n",
       "      <td>0</td>\n",
       "    </tr>\n",
       "    <tr>\n",
       "      <th>8124</th>\n",
       "      <td>2007</td>\n",
       "      <td>135000</td>\n",
       "      <td>119000</td>\n",
       "      <td>0.228385</td>\n",
       "      <td>1493.0</td>\n",
       "      <td>110.00</td>\n",
       "      <td>235.358400</td>\n",
       "      <td>5.0</td>\n",
       "      <td>0</td>\n",
       "      <td>0</td>\n",
       "      <td>...</td>\n",
       "      <td>1</td>\n",
       "      <td>0</td>\n",
       "      <td>0</td>\n",
       "      <td>1</td>\n",
       "      <td>0</td>\n",
       "      <td>1</td>\n",
       "      <td>1</td>\n",
       "      <td>0</td>\n",
       "      <td>0</td>\n",
       "      <td>0</td>\n",
       "    </tr>\n",
       "    <tr>\n",
       "      <th>8125</th>\n",
       "      <td>2009</td>\n",
       "      <td>382000</td>\n",
       "      <td>120000</td>\n",
       "      <td>0.262371</td>\n",
       "      <td>1248.0</td>\n",
       "      <td>73.90</td>\n",
       "      <td>190.000000</td>\n",
       "      <td>5.0</td>\n",
       "      <td>0</td>\n",
       "      <td>0</td>\n",
       "      <td>...</td>\n",
       "      <td>1</td>\n",
       "      <td>0</td>\n",
       "      <td>0</td>\n",
       "      <td>1</td>\n",
       "      <td>0</td>\n",
       "      <td>1</td>\n",
       "      <td>0</td>\n",
       "      <td>0</td>\n",
       "      <td>0</td>\n",
       "      <td>0</td>\n",
       "    </tr>\n",
       "    <tr>\n",
       "      <th>8126</th>\n",
       "      <td>2013</td>\n",
       "      <td>290000</td>\n",
       "      <td>25000</td>\n",
       "      <td>0.320419</td>\n",
       "      <td>1396.0</td>\n",
       "      <td>70.00</td>\n",
       "      <td>140.000000</td>\n",
       "      <td>5.0</td>\n",
       "      <td>0</td>\n",
       "      <td>0</td>\n",
       "      <td>...</td>\n",
       "      <td>1</td>\n",
       "      <td>0</td>\n",
       "      <td>0</td>\n",
       "      <td>1</td>\n",
       "      <td>0</td>\n",
       "      <td>1</td>\n",
       "      <td>0</td>\n",
       "      <td>0</td>\n",
       "      <td>0</td>\n",
       "      <td>0</td>\n",
       "    </tr>\n",
       "    <tr>\n",
       "      <th>8127</th>\n",
       "      <td>2013</td>\n",
       "      <td>290000</td>\n",
       "      <td>25000</td>\n",
       "      <td>0.320419</td>\n",
       "      <td>1396.0</td>\n",
       "      <td>70.00</td>\n",
       "      <td>140.000000</td>\n",
       "      <td>5.0</td>\n",
       "      <td>0</td>\n",
       "      <td>0</td>\n",
       "      <td>...</td>\n",
       "      <td>1</td>\n",
       "      <td>0</td>\n",
       "      <td>0</td>\n",
       "      <td>1</td>\n",
       "      <td>0</td>\n",
       "      <td>1</td>\n",
       "      <td>0</td>\n",
       "      <td>0</td>\n",
       "      <td>0</td>\n",
       "      <td>0</td>\n",
       "    </tr>\n",
       "  </tbody>\n",
       "</table>\n",
       "<p>7906 rows × 48 columns</p>\n",
       "</div>"
      ],
      "text/plain": [
       "      year  selling_price  km_driven   mileage  engine  max_power      torque  \\\n",
       "0     2014         450000     145500  0.318108  1248.0      74.00  190.000000   \n",
       "1     2014         370000     120000  0.287384  1498.0     103.52  250.000000   \n",
       "2     2006         158000     140000  0.220067  1497.0      78.00  124.543818   \n",
       "3     2010         225000     127000  0.312670  1396.0      90.00  219.667836   \n",
       "4     2007         130000     120000  0.200174  1298.0      88.20  112.775900   \n",
       "...    ...            ...        ...       ...     ...        ...         ...   \n",
       "8123  2013         320000     110000  0.230014  1197.0      82.85  113.699997   \n",
       "8124  2007         135000     119000  0.228385  1493.0     110.00  235.358400   \n",
       "8125  2009         382000     120000  0.262371  1248.0      73.90  190.000000   \n",
       "8126  2013         290000      25000  0.320419  1396.0      70.00  140.000000   \n",
       "8127  2013         290000      25000  0.320419  1396.0      70.00  140.000000   \n",
       "\n",
       "      seats  name_Ashok  name_Audi  ...  fuel_Diesel  fuel_LPG  fuel_Petrol  \\\n",
       "0       5.0           0          0  ...            1         0            0   \n",
       "1       5.0           0          0  ...            1         0            0   \n",
       "2       5.0           0          0  ...            0         0            1   \n",
       "3       5.0           0          0  ...            1         0            0   \n",
       "4       5.0           0          0  ...            0         0            1   \n",
       "...     ...         ...        ...  ...          ...       ...          ...   \n",
       "8123    5.0           0          0  ...            0         0            1   \n",
       "8124    5.0           0          0  ...            1         0            0   \n",
       "8125    5.0           0          0  ...            1         0            0   \n",
       "8126    5.0           0          0  ...            1         0            0   \n",
       "8127    5.0           0          0  ...            1         0            0   \n",
       "\n",
       "      seller_type_Individual  seller_type_Trustmark Dealer  \\\n",
       "0                          1                             0   \n",
       "1                          1                             0   \n",
       "2                          1                             0   \n",
       "3                          1                             0   \n",
       "4                          1                             0   \n",
       "...                      ...                           ...   \n",
       "8123                       1                             0   \n",
       "8124                       1                             0   \n",
       "8125                       1                             0   \n",
       "8126                       1                             0   \n",
       "8127                       1                             0   \n",
       "\n",
       "      transmission_Manual  owner_Fourth & Above Owner  owner_Second Owner  \\\n",
       "0                       1                           0                   0   \n",
       "1                       1                           0                   1   \n",
       "2                       1                           0                   0   \n",
       "3                       1                           0                   0   \n",
       "4                       1                           0                   0   \n",
       "...                   ...                         ...                 ...   \n",
       "8123                    1                           0                   0   \n",
       "8124                    1                           1                   0   \n",
       "8125                    1                           0                   0   \n",
       "8126                    1                           0                   0   \n",
       "8127                    1                           0                   0   \n",
       "\n",
       "      owner_Test Drive Car  owner_Third Owner  \n",
       "0                        0                  0  \n",
       "1                        0                  0  \n",
       "2                        0                  1  \n",
       "3                        0                  0  \n",
       "4                        0                  0  \n",
       "...                    ...                ...  \n",
       "8123                     0                  0  \n",
       "8124                     0                  0  \n",
       "8125                     0                  0  \n",
       "8126                     0                  0  \n",
       "8127                     0                  0  \n",
       "\n",
       "[7906 rows x 48 columns]"
      ]
     },
     "execution_count": 64,
     "metadata": {},
     "output_type": "execute_result"
    }
   ],
   "source": [
    "#모델 예측력을 더 안정적으로 평가하기 위해 k-fold 교차 검증 진행\n",
    "from sklearn.model_selection import KFold\n",
    "#import\n",
    "df"
   ]
  },
  {
   "cell_type": "code",
   "execution_count": 65,
   "id": "7c350797",
   "metadata": {},
   "outputs": [],
   "source": [
    "#실제로는 7906 행이지만, 인덱스가 0 부터 8127 까지 존재\n",
    "df.reset_index(drop = True, inplace = True)\n",
    "#reset_index"
   ]
  },
  {
   "cell_type": "code",
   "execution_count": 66,
   "id": "7c037bab",
   "metadata": {},
   "outputs": [
    {
     "data": {
      "text/html": [
       "<div>\n",
       "<style scoped>\n",
       "    .dataframe tbody tr th:only-of-type {\n",
       "        vertical-align: middle;\n",
       "    }\n",
       "\n",
       "    .dataframe tbody tr th {\n",
       "        vertical-align: top;\n",
       "    }\n",
       "\n",
       "    .dataframe thead th {\n",
       "        text-align: right;\n",
       "    }\n",
       "</style>\n",
       "<table border=\"1\" class=\"dataframe\">\n",
       "  <thead>\n",
       "    <tr style=\"text-align: right;\">\n",
       "      <th></th>\n",
       "      <th>year</th>\n",
       "      <th>selling_price</th>\n",
       "      <th>km_driven</th>\n",
       "      <th>mileage</th>\n",
       "      <th>engine</th>\n",
       "      <th>max_power</th>\n",
       "      <th>torque</th>\n",
       "      <th>seats</th>\n",
       "      <th>name_Ashok</th>\n",
       "      <th>name_Audi</th>\n",
       "      <th>...</th>\n",
       "      <th>fuel_Diesel</th>\n",
       "      <th>fuel_LPG</th>\n",
       "      <th>fuel_Petrol</th>\n",
       "      <th>seller_type_Individual</th>\n",
       "      <th>seller_type_Trustmark Dealer</th>\n",
       "      <th>transmission_Manual</th>\n",
       "      <th>owner_Fourth &amp; Above Owner</th>\n",
       "      <th>owner_Second Owner</th>\n",
       "      <th>owner_Test Drive Car</th>\n",
       "      <th>owner_Third Owner</th>\n",
       "    </tr>\n",
       "  </thead>\n",
       "  <tbody>\n",
       "    <tr>\n",
       "      <th>0</th>\n",
       "      <td>2014</td>\n",
       "      <td>450000</td>\n",
       "      <td>145500</td>\n",
       "      <td>0.318108</td>\n",
       "      <td>1248.0</td>\n",
       "      <td>74.00</td>\n",
       "      <td>190.000000</td>\n",
       "      <td>5.0</td>\n",
       "      <td>0</td>\n",
       "      <td>0</td>\n",
       "      <td>...</td>\n",
       "      <td>1</td>\n",
       "      <td>0</td>\n",
       "      <td>0</td>\n",
       "      <td>1</td>\n",
       "      <td>0</td>\n",
       "      <td>1</td>\n",
       "      <td>0</td>\n",
       "      <td>0</td>\n",
       "      <td>0</td>\n",
       "      <td>0</td>\n",
       "    </tr>\n",
       "    <tr>\n",
       "      <th>1</th>\n",
       "      <td>2014</td>\n",
       "      <td>370000</td>\n",
       "      <td>120000</td>\n",
       "      <td>0.287384</td>\n",
       "      <td>1498.0</td>\n",
       "      <td>103.52</td>\n",
       "      <td>250.000000</td>\n",
       "      <td>5.0</td>\n",
       "      <td>0</td>\n",
       "      <td>0</td>\n",
       "      <td>...</td>\n",
       "      <td>1</td>\n",
       "      <td>0</td>\n",
       "      <td>0</td>\n",
       "      <td>1</td>\n",
       "      <td>0</td>\n",
       "      <td>1</td>\n",
       "      <td>0</td>\n",
       "      <td>1</td>\n",
       "      <td>0</td>\n",
       "      <td>0</td>\n",
       "    </tr>\n",
       "    <tr>\n",
       "      <th>2</th>\n",
       "      <td>2006</td>\n",
       "      <td>158000</td>\n",
       "      <td>140000</td>\n",
       "      <td>0.220067</td>\n",
       "      <td>1497.0</td>\n",
       "      <td>78.00</td>\n",
       "      <td>124.543818</td>\n",
       "      <td>5.0</td>\n",
       "      <td>0</td>\n",
       "      <td>0</td>\n",
       "      <td>...</td>\n",
       "      <td>0</td>\n",
       "      <td>0</td>\n",
       "      <td>1</td>\n",
       "      <td>1</td>\n",
       "      <td>0</td>\n",
       "      <td>1</td>\n",
       "      <td>0</td>\n",
       "      <td>0</td>\n",
       "      <td>0</td>\n",
       "      <td>1</td>\n",
       "    </tr>\n",
       "    <tr>\n",
       "      <th>3</th>\n",
       "      <td>2010</td>\n",
       "      <td>225000</td>\n",
       "      <td>127000</td>\n",
       "      <td>0.312670</td>\n",
       "      <td>1396.0</td>\n",
       "      <td>90.00</td>\n",
       "      <td>219.667836</td>\n",
       "      <td>5.0</td>\n",
       "      <td>0</td>\n",
       "      <td>0</td>\n",
       "      <td>...</td>\n",
       "      <td>1</td>\n",
       "      <td>0</td>\n",
       "      <td>0</td>\n",
       "      <td>1</td>\n",
       "      <td>0</td>\n",
       "      <td>1</td>\n",
       "      <td>0</td>\n",
       "      <td>0</td>\n",
       "      <td>0</td>\n",
       "      <td>0</td>\n",
       "    </tr>\n",
       "    <tr>\n",
       "      <th>4</th>\n",
       "      <td>2007</td>\n",
       "      <td>130000</td>\n",
       "      <td>120000</td>\n",
       "      <td>0.200174</td>\n",
       "      <td>1298.0</td>\n",
       "      <td>88.20</td>\n",
       "      <td>112.775900</td>\n",
       "      <td>5.0</td>\n",
       "      <td>0</td>\n",
       "      <td>0</td>\n",
       "      <td>...</td>\n",
       "      <td>0</td>\n",
       "      <td>0</td>\n",
       "      <td>1</td>\n",
       "      <td>1</td>\n",
       "      <td>0</td>\n",
       "      <td>1</td>\n",
       "      <td>0</td>\n",
       "      <td>0</td>\n",
       "      <td>0</td>\n",
       "      <td>0</td>\n",
       "    </tr>\n",
       "    <tr>\n",
       "      <th>...</th>\n",
       "      <td>...</td>\n",
       "      <td>...</td>\n",
       "      <td>...</td>\n",
       "      <td>...</td>\n",
       "      <td>...</td>\n",
       "      <td>...</td>\n",
       "      <td>...</td>\n",
       "      <td>...</td>\n",
       "      <td>...</td>\n",
       "      <td>...</td>\n",
       "      <td>...</td>\n",
       "      <td>...</td>\n",
       "      <td>...</td>\n",
       "      <td>...</td>\n",
       "      <td>...</td>\n",
       "      <td>...</td>\n",
       "      <td>...</td>\n",
       "      <td>...</td>\n",
       "      <td>...</td>\n",
       "      <td>...</td>\n",
       "      <td>...</td>\n",
       "    </tr>\n",
       "    <tr>\n",
       "      <th>7901</th>\n",
       "      <td>2013</td>\n",
       "      <td>320000</td>\n",
       "      <td>110000</td>\n",
       "      <td>0.230014</td>\n",
       "      <td>1197.0</td>\n",
       "      <td>82.85</td>\n",
       "      <td>113.699997</td>\n",
       "      <td>5.0</td>\n",
       "      <td>0</td>\n",
       "      <td>0</td>\n",
       "      <td>...</td>\n",
       "      <td>0</td>\n",
       "      <td>0</td>\n",
       "      <td>1</td>\n",
       "      <td>1</td>\n",
       "      <td>0</td>\n",
       "      <td>1</td>\n",
       "      <td>0</td>\n",
       "      <td>0</td>\n",
       "      <td>0</td>\n",
       "      <td>0</td>\n",
       "    </tr>\n",
       "    <tr>\n",
       "      <th>7902</th>\n",
       "      <td>2007</td>\n",
       "      <td>135000</td>\n",
       "      <td>119000</td>\n",
       "      <td>0.228385</td>\n",
       "      <td>1493.0</td>\n",
       "      <td>110.00</td>\n",
       "      <td>235.358400</td>\n",
       "      <td>5.0</td>\n",
       "      <td>0</td>\n",
       "      <td>0</td>\n",
       "      <td>...</td>\n",
       "      <td>1</td>\n",
       "      <td>0</td>\n",
       "      <td>0</td>\n",
       "      <td>1</td>\n",
       "      <td>0</td>\n",
       "      <td>1</td>\n",
       "      <td>1</td>\n",
       "      <td>0</td>\n",
       "      <td>0</td>\n",
       "      <td>0</td>\n",
       "    </tr>\n",
       "    <tr>\n",
       "      <th>7903</th>\n",
       "      <td>2009</td>\n",
       "      <td>382000</td>\n",
       "      <td>120000</td>\n",
       "      <td>0.262371</td>\n",
       "      <td>1248.0</td>\n",
       "      <td>73.90</td>\n",
       "      <td>190.000000</td>\n",
       "      <td>5.0</td>\n",
       "      <td>0</td>\n",
       "      <td>0</td>\n",
       "      <td>...</td>\n",
       "      <td>1</td>\n",
       "      <td>0</td>\n",
       "      <td>0</td>\n",
       "      <td>1</td>\n",
       "      <td>0</td>\n",
       "      <td>1</td>\n",
       "      <td>0</td>\n",
       "      <td>0</td>\n",
       "      <td>0</td>\n",
       "      <td>0</td>\n",
       "    </tr>\n",
       "    <tr>\n",
       "      <th>7904</th>\n",
       "      <td>2013</td>\n",
       "      <td>290000</td>\n",
       "      <td>25000</td>\n",
       "      <td>0.320419</td>\n",
       "      <td>1396.0</td>\n",
       "      <td>70.00</td>\n",
       "      <td>140.000000</td>\n",
       "      <td>5.0</td>\n",
       "      <td>0</td>\n",
       "      <td>0</td>\n",
       "      <td>...</td>\n",
       "      <td>1</td>\n",
       "      <td>0</td>\n",
       "      <td>0</td>\n",
       "      <td>1</td>\n",
       "      <td>0</td>\n",
       "      <td>1</td>\n",
       "      <td>0</td>\n",
       "      <td>0</td>\n",
       "      <td>0</td>\n",
       "      <td>0</td>\n",
       "    </tr>\n",
       "    <tr>\n",
       "      <th>7905</th>\n",
       "      <td>2013</td>\n",
       "      <td>290000</td>\n",
       "      <td>25000</td>\n",
       "      <td>0.320419</td>\n",
       "      <td>1396.0</td>\n",
       "      <td>70.00</td>\n",
       "      <td>140.000000</td>\n",
       "      <td>5.0</td>\n",
       "      <td>0</td>\n",
       "      <td>0</td>\n",
       "      <td>...</td>\n",
       "      <td>1</td>\n",
       "      <td>0</td>\n",
       "      <td>0</td>\n",
       "      <td>1</td>\n",
       "      <td>0</td>\n",
       "      <td>1</td>\n",
       "      <td>0</td>\n",
       "      <td>0</td>\n",
       "      <td>0</td>\n",
       "      <td>0</td>\n",
       "    </tr>\n",
       "  </tbody>\n",
       "</table>\n",
       "<p>7906 rows × 48 columns</p>\n",
       "</div>"
      ],
      "text/plain": [
       "      year  selling_price  km_driven   mileage  engine  max_power      torque  \\\n",
       "0     2014         450000     145500  0.318108  1248.0      74.00  190.000000   \n",
       "1     2014         370000     120000  0.287384  1498.0     103.52  250.000000   \n",
       "2     2006         158000     140000  0.220067  1497.0      78.00  124.543818   \n",
       "3     2010         225000     127000  0.312670  1396.0      90.00  219.667836   \n",
       "4     2007         130000     120000  0.200174  1298.0      88.20  112.775900   \n",
       "...    ...            ...        ...       ...     ...        ...         ...   \n",
       "7901  2013         320000     110000  0.230014  1197.0      82.85  113.699997   \n",
       "7902  2007         135000     119000  0.228385  1493.0     110.00  235.358400   \n",
       "7903  2009         382000     120000  0.262371  1248.0      73.90  190.000000   \n",
       "7904  2013         290000      25000  0.320419  1396.0      70.00  140.000000   \n",
       "7905  2013         290000      25000  0.320419  1396.0      70.00  140.000000   \n",
       "\n",
       "      seats  name_Ashok  name_Audi  ...  fuel_Diesel  fuel_LPG  fuel_Petrol  \\\n",
       "0       5.0           0          0  ...            1         0            0   \n",
       "1       5.0           0          0  ...            1         0            0   \n",
       "2       5.0           0          0  ...            0         0            1   \n",
       "3       5.0           0          0  ...            1         0            0   \n",
       "4       5.0           0          0  ...            0         0            1   \n",
       "...     ...         ...        ...  ...          ...       ...          ...   \n",
       "7901    5.0           0          0  ...            0         0            1   \n",
       "7902    5.0           0          0  ...            1         0            0   \n",
       "7903    5.0           0          0  ...            1         0            0   \n",
       "7904    5.0           0          0  ...            1         0            0   \n",
       "7905    5.0           0          0  ...            1         0            0   \n",
       "\n",
       "      seller_type_Individual  seller_type_Trustmark Dealer  \\\n",
       "0                          1                             0   \n",
       "1                          1                             0   \n",
       "2                          1                             0   \n",
       "3                          1                             0   \n",
       "4                          1                             0   \n",
       "...                      ...                           ...   \n",
       "7901                       1                             0   \n",
       "7902                       1                             0   \n",
       "7903                       1                             0   \n",
       "7904                       1                             0   \n",
       "7905                       1                             0   \n",
       "\n",
       "      transmission_Manual  owner_Fourth & Above Owner  owner_Second Owner  \\\n",
       "0                       1                           0                   0   \n",
       "1                       1                           0                   1   \n",
       "2                       1                           0                   0   \n",
       "3                       1                           0                   0   \n",
       "4                       1                           0                   0   \n",
       "...                   ...                         ...                 ...   \n",
       "7901                    1                           0                   0   \n",
       "7902                    1                           1                   0   \n",
       "7903                    1                           0                   0   \n",
       "7904                    1                           0                   0   \n",
       "7905                    1                           0                   0   \n",
       "\n",
       "      owner_Test Drive Car  owner_Third Owner  \n",
       "0                        0                  0  \n",
       "1                        0                  0  \n",
       "2                        0                  1  \n",
       "3                        0                  0  \n",
       "4                        0                  0  \n",
       "...                    ...                ...  \n",
       "7901                     0                  0  \n",
       "7902                     0                  0  \n",
       "7903                     0                  0  \n",
       "7904                     0                  0  \n",
       "7905                     0                  0  \n",
       "\n",
       "[7906 rows x 48 columns]"
      ]
     },
     "execution_count": 66,
     "metadata": {},
     "output_type": "execute_result"
    }
   ],
   "source": [
    "df"
   ]
  },
  {
   "cell_type": "code",
   "execution_count": 68,
   "id": "99f44067",
   "metadata": {},
   "outputs": [
    {
     "name": "stdout",
     "output_type": "stream",
     "text": [
      "[1582 1583 1584 ... 7903 7904 7905] [   0    1    2 ... 1579 1580 1581]\n",
      "[   0    1    2 ... 7903 7904 7905] [1582 1583 1584 ... 3160 3161 3162]\n",
      "[   0    1    2 ... 7903 7904 7905] [3163 3164 3165 ... 4741 4742 4743]\n",
      "[   0    1    2 ... 7903 7904 7905] [4744 4745 4746 ... 6322 6323 6324]\n",
      "[   0    1    2 ... 6322 6323 6324] [6325 6326 6327 ... 7903 7904 7905]\n"
     ]
    }
   ],
   "source": [
    "kf = KFold(n_splits = 5)\n",
    "#k-fold 객체 생성\n",
    "X = df.drop('selling_price', axis = 1)\n",
    "#타겟 변수 제거 후 X 에 저장\n",
    "y = df['selling_price']\n",
    "#타겟 변수 y 에 저장\n",
    "\n",
    "for i,j in kf.split(X):\n",
    "    #KFold 내재 함수를 활용해 X 분할\n",
    "    print(i, j)\n",
    "    #i : 훈련셋으로 사용할 index\n",
    "    #j : 시험셋으로 사용할 index"
   ]
  },
  {
   "cell_type": "code",
   "execution_count": 69,
   "id": "39ac2915",
   "metadata": {},
   "outputs": [],
   "source": [
    "for train_index, test_index in kf.split(X):\n",
    "    xtr, xt = X.loc[train_index], X.loc[test_index]\n",
    "    ytr, yt = y.loc[train_index], y.loc[test_index]"
   ]
  },
  {
   "cell_type": "code",
   "execution_count": 70,
   "id": "317e3017",
   "metadata": {},
   "outputs": [],
   "source": [
    "train_rmse_total = []\n",
    "test_rmse_total = []"
   ]
  },
  {
   "cell_type": "code",
   "execution_count": 78,
   "id": "8ff9a016",
   "metadata": {},
   "outputs": [],
   "source": [
    "for train_index, test_index in kf.split(X):\n",
    "    #순회\n",
    "    xtr, xt = X.iloc[train_index,:], X.iloc[test_index,:]\n",
    "    #x_train, x_test 설정\n",
    "    ytr, yt = y[train_index], y[test_index]\n",
    "    #y_train, y_test 설정\n",
    "    \n",
    "    rf = RandomForestRegressor(n_estimators = 300, max_depth = 50, min_samples_split = 5,\\\n",
    "                               min_samples_leaf = 1, n_jobs = -1,random_state = 100)\n",
    "    #하이퍼파라미터 지정\n",
    "    rf.fit(xtr, ytr)\n",
    "    train_pred = rf.predict(xtr)\n",
    "    test_pred = rf.predict(xt)\n",
    "    \n",
    "    train_rmse = mean_squared_error(ytr, train_pred)**0.5\n",
    "    #훈련셋 rmse 계산\n",
    "    test_rmse = mean_squared_error(yt, test_pred)**0.5\n",
    "    #시험셋 rmse 계산\n",
    "    \n",
    "    train_rmse_total.append(train_rmse)\n",
    "    test_rmse_total.append(test_rmse)"
   ]
  },
  {
   "cell_type": "code",
   "execution_count": 81,
   "id": "86ba3a2f",
   "metadata": {
    "scrolled": true
   },
   "outputs": [
    {
     "name": "stdout",
     "output_type": "stream",
     "text": [
      "train_rmse:  256842.3358232057 test_rmse:  569554.0373132533\n"
     ]
    }
   ],
   "source": [
    "#최종 rmse 계산(평균)\n",
    "print('train_rmse: ', sum(train_rmse_total)/5,\n",
    "      'test_rmse: ', sum(test_rmse_total)/5)"
   ]
  }
 ],
 "metadata": {
  "kernelspec": {
   "display_name": "Python 3",
   "language": "python",
   "name": "python3"
  },
  "language_info": {
   "codemirror_mode": {
    "name": "ipython",
    "version": 3
   },
   "file_extension": ".py",
   "mimetype": "text/x-python",
   "name": "python",
   "nbconvert_exporter": "python",
   "pygments_lexer": "ipython3",
   "version": "3.8.8"
  }
 },
 "nbformat": 4,
 "nbformat_minor": 5
}
