{
 "cells": [
  {
   "cell_type": "markdown",
   "id": "24fa4570",
   "metadata": {},
   "source": [
    "LightGBM : 이상거래 예측"
   ]
  },
  {
   "cell_type": "markdown",
   "id": "4fb1888b",
   "metadata": {},
   "source": [
    "목표: 카드 거래 내역 데이터셋을 이용해 이상거래를 예측"
   ]
  },
  {
   "cell_type": "markdown",
   "id": "1072b88e",
   "metadata": {},
   "source": [
    "via 최효원's Jupyter Notebook"
   ]
  },
  {
   "cell_type": "markdown",
   "id": "e815e90e",
   "metadata": {},
   "source": []
  },
  {
   "cell_type": "markdown",
   "id": "e3bcdd70",
   "metadata": {},
   "source": [
    "이상거래는 카드값을 지불하지 않을 의도를 가지고서 결제를 하거나,\n",
    "도난된 카드를 가지고 결제를 하는 등의 거래를 의미합니다.\n",
    "종속변수(target) 는 이상거래 여부이고, 독립변수는 거래 시간, 고객 성별, 상점 범주 등이 있습니다.\n",
    "\n",
    "리프 중심 트리 분할 방식을 사용하고, XGBoost 이후로 나온 최신 부스팅 모델인 LightGBM 을\n",
    "해당 작업에 적용했습니다."
   ]
  },
  {
   "cell_type": "markdown",
   "id": "d33489e7",
   "metadata": {},
   "source": []
  },
  {
   "cell_type": "code",
   "execution_count": 1,
   "id": "66a5519a",
   "metadata": {
    "scrolled": true
   },
   "outputs": [
    {
     "data": {
      "text/html": [
       "<div>\n",
       "<style scoped>\n",
       "    .dataframe tbody tr th:only-of-type {\n",
       "        vertical-align: middle;\n",
       "    }\n",
       "\n",
       "    .dataframe tbody tr th {\n",
       "        vertical-align: top;\n",
       "    }\n",
       "\n",
       "    .dataframe thead th {\n",
       "        text-align: right;\n",
       "    }\n",
       "</style>\n",
       "<table border=\"1\" class=\"dataframe\">\n",
       "  <thead>\n",
       "    <tr style=\"text-align: right;\">\n",
       "      <th></th>\n",
       "      <th>trans_date_trans_time</th>\n",
       "      <th>cc_num</th>\n",
       "      <th>merchant</th>\n",
       "      <th>category</th>\n",
       "      <th>amt</th>\n",
       "      <th>first</th>\n",
       "      <th>last</th>\n",
       "      <th>gender</th>\n",
       "      <th>street</th>\n",
       "      <th>city</th>\n",
       "      <th>...</th>\n",
       "      <th>lat</th>\n",
       "      <th>long</th>\n",
       "      <th>city_pop</th>\n",
       "      <th>job</th>\n",
       "      <th>dob</th>\n",
       "      <th>trans_num</th>\n",
       "      <th>unix_time</th>\n",
       "      <th>merch_lat</th>\n",
       "      <th>merch_long</th>\n",
       "      <th>is_fraud</th>\n",
       "    </tr>\n",
       "  </thead>\n",
       "  <tbody>\n",
       "    <tr>\n",
       "      <th>0</th>\n",
       "      <td>2019-01-01 00:00:18</td>\n",
       "      <td>2703186189652095</td>\n",
       "      <td>fraud_Rippin, Kub and Mann</td>\n",
       "      <td>misc_net</td>\n",
       "      <td>4.97</td>\n",
       "      <td>Jennifer</td>\n",
       "      <td>Banks</td>\n",
       "      <td>F</td>\n",
       "      <td>561 Perry Cove</td>\n",
       "      <td>Moravian Falls</td>\n",
       "      <td>...</td>\n",
       "      <td>36.0788</td>\n",
       "      <td>-81.1781</td>\n",
       "      <td>3495</td>\n",
       "      <td>Psychologist, counselling</td>\n",
       "      <td>1988-03-09</td>\n",
       "      <td>0b242abb623afc578575680df30655b9</td>\n",
       "      <td>1325376018</td>\n",
       "      <td>36.011293</td>\n",
       "      <td>-82.048315</td>\n",
       "      <td>0</td>\n",
       "    </tr>\n",
       "    <tr>\n",
       "      <th>1</th>\n",
       "      <td>2019-01-01 00:00:44</td>\n",
       "      <td>630423337322</td>\n",
       "      <td>fraud_Heller, Gutmann and Zieme</td>\n",
       "      <td>grocery_pos</td>\n",
       "      <td>107.23</td>\n",
       "      <td>Stephanie</td>\n",
       "      <td>Gill</td>\n",
       "      <td>F</td>\n",
       "      <td>43039 Riley Greens Suite 393</td>\n",
       "      <td>Orient</td>\n",
       "      <td>...</td>\n",
       "      <td>48.8878</td>\n",
       "      <td>-118.2105</td>\n",
       "      <td>149</td>\n",
       "      <td>Special educational needs teacher</td>\n",
       "      <td>1978-06-21</td>\n",
       "      <td>1f76529f8574734946361c461b024d99</td>\n",
       "      <td>1325376044</td>\n",
       "      <td>49.159047</td>\n",
       "      <td>-118.186462</td>\n",
       "      <td>0</td>\n",
       "    </tr>\n",
       "    <tr>\n",
       "      <th>2</th>\n",
       "      <td>2019-01-01 00:00:51</td>\n",
       "      <td>38859492057661</td>\n",
       "      <td>fraud_Lind-Buckridge</td>\n",
       "      <td>entertainment</td>\n",
       "      <td>220.11</td>\n",
       "      <td>Edward</td>\n",
       "      <td>Sanchez</td>\n",
       "      <td>M</td>\n",
       "      <td>594 White Dale Suite 530</td>\n",
       "      <td>Malad City</td>\n",
       "      <td>...</td>\n",
       "      <td>42.1808</td>\n",
       "      <td>-112.2620</td>\n",
       "      <td>4154</td>\n",
       "      <td>Nature conservation officer</td>\n",
       "      <td>1962-01-19</td>\n",
       "      <td>a1a22d70485983eac12b5b88dad1cf95</td>\n",
       "      <td>1325376051</td>\n",
       "      <td>43.150704</td>\n",
       "      <td>-112.154481</td>\n",
       "      <td>0</td>\n",
       "    </tr>\n",
       "    <tr>\n",
       "      <th>3</th>\n",
       "      <td>2019-01-01 00:01:16</td>\n",
       "      <td>3534093764340240</td>\n",
       "      <td>fraud_Kutch, Hermiston and Farrell</td>\n",
       "      <td>gas_transport</td>\n",
       "      <td>45.00</td>\n",
       "      <td>Jeremy</td>\n",
       "      <td>White</td>\n",
       "      <td>M</td>\n",
       "      <td>9443 Cynthia Court Apt. 038</td>\n",
       "      <td>Boulder</td>\n",
       "      <td>...</td>\n",
       "      <td>46.2306</td>\n",
       "      <td>-112.1138</td>\n",
       "      <td>1939</td>\n",
       "      <td>Patent attorney</td>\n",
       "      <td>1967-01-12</td>\n",
       "      <td>6b849c168bdad6f867558c3793159a81</td>\n",
       "      <td>1325376076</td>\n",
       "      <td>47.034331</td>\n",
       "      <td>-112.561071</td>\n",
       "      <td>0</td>\n",
       "    </tr>\n",
       "    <tr>\n",
       "      <th>4</th>\n",
       "      <td>2019-01-01 00:03:06</td>\n",
       "      <td>375534208663984</td>\n",
       "      <td>fraud_Keeling-Crist</td>\n",
       "      <td>misc_pos</td>\n",
       "      <td>41.96</td>\n",
       "      <td>Tyler</td>\n",
       "      <td>Garcia</td>\n",
       "      <td>M</td>\n",
       "      <td>408 Bradley Rest</td>\n",
       "      <td>Doe Hill</td>\n",
       "      <td>...</td>\n",
       "      <td>38.4207</td>\n",
       "      <td>-79.4629</td>\n",
       "      <td>99</td>\n",
       "      <td>Dance movement psychotherapist</td>\n",
       "      <td>1986-03-28</td>\n",
       "      <td>a41d7549acf90789359a9aa5346dcb46</td>\n",
       "      <td>1325376186</td>\n",
       "      <td>38.674999</td>\n",
       "      <td>-78.632459</td>\n",
       "      <td>0</td>\n",
       "    </tr>\n",
       "  </tbody>\n",
       "</table>\n",
       "<p>5 rows × 22 columns</p>\n",
       "</div>"
      ],
      "text/plain": [
       "  trans_date_trans_time            cc_num                            merchant  \\\n",
       "0   2019-01-01 00:00:18  2703186189652095          fraud_Rippin, Kub and Mann   \n",
       "1   2019-01-01 00:00:44      630423337322     fraud_Heller, Gutmann and Zieme   \n",
       "2   2019-01-01 00:00:51    38859492057661                fraud_Lind-Buckridge   \n",
       "3   2019-01-01 00:01:16  3534093764340240  fraud_Kutch, Hermiston and Farrell   \n",
       "4   2019-01-01 00:03:06   375534208663984                 fraud_Keeling-Crist   \n",
       "\n",
       "        category     amt      first     last gender  \\\n",
       "0       misc_net    4.97   Jennifer    Banks      F   \n",
       "1    grocery_pos  107.23  Stephanie     Gill      F   \n",
       "2  entertainment  220.11     Edward  Sanchez      M   \n",
       "3  gas_transport   45.00     Jeremy    White      M   \n",
       "4       misc_pos   41.96      Tyler   Garcia      M   \n",
       "\n",
       "                         street            city  ...      lat      long  \\\n",
       "0                561 Perry Cove  Moravian Falls  ...  36.0788  -81.1781   \n",
       "1  43039 Riley Greens Suite 393          Orient  ...  48.8878 -118.2105   \n",
       "2      594 White Dale Suite 530      Malad City  ...  42.1808 -112.2620   \n",
       "3   9443 Cynthia Court Apt. 038         Boulder  ...  46.2306 -112.1138   \n",
       "4              408 Bradley Rest        Doe Hill  ...  38.4207  -79.4629   \n",
       "\n",
       "   city_pop                                job         dob  \\\n",
       "0      3495          Psychologist, counselling  1988-03-09   \n",
       "1       149  Special educational needs teacher  1978-06-21   \n",
       "2      4154        Nature conservation officer  1962-01-19   \n",
       "3      1939                    Patent attorney  1967-01-12   \n",
       "4        99     Dance movement psychotherapist  1986-03-28   \n",
       "\n",
       "                          trans_num   unix_time  merch_lat  merch_long  \\\n",
       "0  0b242abb623afc578575680df30655b9  1325376018  36.011293  -82.048315   \n",
       "1  1f76529f8574734946361c461b024d99  1325376044  49.159047 -118.186462   \n",
       "2  a1a22d70485983eac12b5b88dad1cf95  1325376051  43.150704 -112.154481   \n",
       "3  6b849c168bdad6f867558c3793159a81  1325376076  47.034331 -112.561071   \n",
       "4  a41d7549acf90789359a9aa5346dcb46  1325376186  38.674999  -78.632459   \n",
       "\n",
       "   is_fraud  \n",
       "0         0  \n",
       "1         0  \n",
       "2         0  \n",
       "3         0  \n",
       "4         0  \n",
       "\n",
       "[5 rows x 22 columns]"
      ]
     },
     "execution_count": 1,
     "metadata": {},
     "output_type": "execute_result"
    }
   ],
   "source": [
    "import pandas as pd\n",
    "import numpy as np\n",
    "import matplotlib.pyplot as plt\n",
    "import seaborn as sns\n",
    "\n",
    "df = pd.read_csv('https://media.githubusercontent.com/media/musthave-ML10/data_source/main/fraud.csv')\n",
    "#데이터 출처 : https://media.githubusercontent.com/media/musthave-ML10\n",
    "df.head()"
   ]
  },
  {
   "cell_type": "code",
   "execution_count": 3,
   "id": "2906225d",
   "metadata": {
    "scrolled": true
   },
   "outputs": [
    {
     "name": "stdout",
     "output_type": "stream",
     "text": [
      "<class 'pandas.core.frame.DataFrame'>\n",
      "RangeIndex: 1852394 entries, 0 to 1852393\n",
      "Data columns (total 22 columns):\n",
      " #   Column                 Non-Null Count    Dtype  \n",
      "---  ------                 --------------    -----  \n",
      " 0   trans_date_trans_time  1852394 non-null  object \n",
      " 1   cc_num                 1852394 non-null  int64  \n",
      " 2   merchant               1852394 non-null  object \n",
      " 3   category               1852394 non-null  object \n",
      " 4   amt                    1852394 non-null  float64\n",
      " 5   first                  1852394 non-null  object \n",
      " 6   last                   1852394 non-null  object \n",
      " 7   gender                 1852394 non-null  object \n",
      " 8   street                 1852394 non-null  object \n",
      " 9   city                   1852394 non-null  object \n",
      " 10  state                  1852394 non-null  object \n",
      " 11  zip                    1852394 non-null  int64  \n",
      " 12  lat                    1852394 non-null  float64\n",
      " 13  long                   1852394 non-null  float64\n",
      " 14  city_pop               1852394 non-null  int64  \n",
      " 15  job                    1852394 non-null  object \n",
      " 16  dob                    1852394 non-null  object \n",
      " 17  trans_num              1852394 non-null  object \n",
      " 18  unix_time              1852394 non-null  int64  \n",
      " 19  merch_lat              1852394 non-null  float64\n",
      " 20  merch_long             1852394 non-null  float64\n",
      " 21  is_fraud               1852394 non-null  int64  \n",
      "dtypes: float64(5), int64(5), object(12)\n",
      "memory usage: 310.9+ MB\n"
     ]
    }
   ],
   "source": [
    "df.info(show_counts = True)\n",
    "#total : 1852394 rows / 22 cols\n",
    "#결측치 없음\n",
    "\n",
    "#trans_date_trans_time : 거래 시간\n",
    "#cc_num : 카드 번호(고윳값, id 로 활용 가능)\n",
    "#merchant : 거래 상점\n",
    "#category : 거래 상점의 범주(애완용품, 여행, 엔터테인먼트 등)\n",
    "#amt : 거래 금액\n",
    "#first / last : 이름\n",
    "#gender : 성별\n",
    "#street / state / zip : 고객 거주지 정보\n",
    "#lat / long : 고객 주소에 대한 위도 / 경도\n",
    "#city_pop : 고객 zipcode 에 속하는 인구 수\n",
    "#job : 직업\n",
    "#dob : 생년월일\n",
    "#trans_num : 거래번호\n",
    "#unix_time : 거래 시간(unix 타임스탬프 형식)\n",
    "#merch_lat / merch_long : 상점 위치에 대한 위도 / 경도\n",
    "\n",
    "#is_fraud : 사기거래 여부(종속변수, target)"
   ]
  },
  {
   "cell_type": "code",
   "execution_count": 3,
   "id": "010aaec3",
   "metadata": {
    "scrolled": true
   },
   "outputs": [
    {
     "data": {
      "text/html": [
       "<div>\n",
       "<style scoped>\n",
       "    .dataframe tbody tr th:only-of-type {\n",
       "        vertical-align: middle;\n",
       "    }\n",
       "\n",
       "    .dataframe tbody tr th {\n",
       "        vertical-align: top;\n",
       "    }\n",
       "\n",
       "    .dataframe thead th {\n",
       "        text-align: right;\n",
       "    }\n",
       "</style>\n",
       "<table border=\"1\" class=\"dataframe\">\n",
       "  <thead>\n",
       "    <tr style=\"text-align: right;\">\n",
       "      <th></th>\n",
       "      <th>cc_num</th>\n",
       "      <th>amt</th>\n",
       "      <th>zip</th>\n",
       "      <th>lat</th>\n",
       "      <th>long</th>\n",
       "      <th>city_pop</th>\n",
       "      <th>unix_time</th>\n",
       "      <th>merch_lat</th>\n",
       "      <th>merch_long</th>\n",
       "      <th>is_fraud</th>\n",
       "    </tr>\n",
       "  </thead>\n",
       "  <tbody>\n",
       "    <tr>\n",
       "      <th>count</th>\n",
       "      <td>1.852394e+06</td>\n",
       "      <td>1852394.00</td>\n",
       "      <td>1852394.00</td>\n",
       "      <td>1852394.00</td>\n",
       "      <td>1852394.00</td>\n",
       "      <td>1852394.00</td>\n",
       "      <td>1.852394e+06</td>\n",
       "      <td>1852394.00</td>\n",
       "      <td>1852394.00</td>\n",
       "      <td>1852394.00</td>\n",
       "    </tr>\n",
       "    <tr>\n",
       "      <th>mean</th>\n",
       "      <td>4.173860e+17</td>\n",
       "      <td>70.06</td>\n",
       "      <td>48813.26</td>\n",
       "      <td>38.54</td>\n",
       "      <td>-90.23</td>\n",
       "      <td>88643.67</td>\n",
       "      <td>1.358674e+09</td>\n",
       "      <td>38.54</td>\n",
       "      <td>-90.23</td>\n",
       "      <td>0.01</td>\n",
       "    </tr>\n",
       "    <tr>\n",
       "      <th>std</th>\n",
       "      <td>1.309115e+18</td>\n",
       "      <td>159.25</td>\n",
       "      <td>26881.85</td>\n",
       "      <td>5.07</td>\n",
       "      <td>13.75</td>\n",
       "      <td>301487.62</td>\n",
       "      <td>1.819508e+07</td>\n",
       "      <td>5.11</td>\n",
       "      <td>13.76</td>\n",
       "      <td>0.07</td>\n",
       "    </tr>\n",
       "    <tr>\n",
       "      <th>min</th>\n",
       "      <td>6.041621e+10</td>\n",
       "      <td>1.00</td>\n",
       "      <td>1257.00</td>\n",
       "      <td>20.03</td>\n",
       "      <td>-165.67</td>\n",
       "      <td>23.00</td>\n",
       "      <td>1.325376e+09</td>\n",
       "      <td>19.03</td>\n",
       "      <td>-166.67</td>\n",
       "      <td>0.00</td>\n",
       "    </tr>\n",
       "    <tr>\n",
       "      <th>25%</th>\n",
       "      <td>1.800429e+14</td>\n",
       "      <td>9.64</td>\n",
       "      <td>26237.00</td>\n",
       "      <td>34.67</td>\n",
       "      <td>-96.80</td>\n",
       "      <td>741.00</td>\n",
       "      <td>1.343017e+09</td>\n",
       "      <td>34.74</td>\n",
       "      <td>-96.90</td>\n",
       "      <td>0.00</td>\n",
       "    </tr>\n",
       "    <tr>\n",
       "      <th>50%</th>\n",
       "      <td>3.521417e+15</td>\n",
       "      <td>47.45</td>\n",
       "      <td>48174.00</td>\n",
       "      <td>39.35</td>\n",
       "      <td>-87.48</td>\n",
       "      <td>2443.00</td>\n",
       "      <td>1.357089e+09</td>\n",
       "      <td>39.37</td>\n",
       "      <td>-87.44</td>\n",
       "      <td>0.00</td>\n",
       "    </tr>\n",
       "    <tr>\n",
       "      <th>75%</th>\n",
       "      <td>4.642255e+15</td>\n",
       "      <td>83.10</td>\n",
       "      <td>72042.00</td>\n",
       "      <td>41.94</td>\n",
       "      <td>-80.16</td>\n",
       "      <td>20328.00</td>\n",
       "      <td>1.374581e+09</td>\n",
       "      <td>41.96</td>\n",
       "      <td>-80.25</td>\n",
       "      <td>0.00</td>\n",
       "    </tr>\n",
       "    <tr>\n",
       "      <th>max</th>\n",
       "      <td>4.992346e+18</td>\n",
       "      <td>28948.90</td>\n",
       "      <td>99921.00</td>\n",
       "      <td>66.69</td>\n",
       "      <td>-67.95</td>\n",
       "      <td>2906700.00</td>\n",
       "      <td>1.388534e+09</td>\n",
       "      <td>67.51</td>\n",
       "      <td>-66.95</td>\n",
       "      <td>1.00</td>\n",
       "    </tr>\n",
       "  </tbody>\n",
       "</table>\n",
       "</div>"
      ],
      "text/plain": [
       "             cc_num         amt         zip         lat        long  \\\n",
       "count  1.852394e+06  1852394.00  1852394.00  1852394.00  1852394.00   \n",
       "mean   4.173860e+17       70.06    48813.26       38.54      -90.23   \n",
       "std    1.309115e+18      159.25    26881.85        5.07       13.75   \n",
       "min    6.041621e+10        1.00     1257.00       20.03     -165.67   \n",
       "25%    1.800429e+14        9.64    26237.00       34.67      -96.80   \n",
       "50%    3.521417e+15       47.45    48174.00       39.35      -87.48   \n",
       "75%    4.642255e+15       83.10    72042.00       41.94      -80.16   \n",
       "max    4.992346e+18    28948.90    99921.00       66.69      -67.95   \n",
       "\n",
       "         city_pop     unix_time   merch_lat  merch_long    is_fraud  \n",
       "count  1852394.00  1.852394e+06  1852394.00  1852394.00  1852394.00  \n",
       "mean     88643.67  1.358674e+09       38.54      -90.23        0.01  \n",
       "std     301487.62  1.819508e+07        5.11       13.76        0.07  \n",
       "min         23.00  1.325376e+09       19.03     -166.67        0.00  \n",
       "25%        741.00  1.343017e+09       34.74      -96.90        0.00  \n",
       "50%       2443.00  1.357089e+09       39.37      -87.44        0.00  \n",
       "75%      20328.00  1.374581e+09       41.96      -80.25        0.00  \n",
       "max    2906700.00  1.388534e+09       67.51      -66.95        1.00  "
      ]
     },
     "execution_count": 3,
     "metadata": {},
     "output_type": "execute_result"
    }
   ],
   "source": [
    "round(df.describe(), 2)\n",
    "#통계 정보 확인"
   ]
  },
  {
   "cell_type": "markdown",
   "id": "b4fb3c2d",
   "metadata": {},
   "source": []
  },
  {
   "cell_type": "markdown",
   "id": "6fb67a0d",
   "metadata": {},
   "source": [
    "*amt(거래 금액) / city_pop(고객 zipcode 속하는 인구수)  : max 값이 급격히 높아져 outlier 를 의심해볼 수 있지만,\n",
    "변수 특성상 충분히 일어날 수 있으므로 별도의 처리 작업은 하지 않을 예정입니다.\n",
    "*is_fraud(target) 의 mean 이 0.01 로 매우 낮습니다(imbalanced data). 이는 만들어진 모델 정확도가 99% 여도 성능이 좋은 모델이라 보장할 수 없습니다. 오버샘플링 작업을 통해 모델의 예측 정확도를 높일 예정입니다."
   ]
  },
  {
   "cell_type": "markdown",
   "id": "9b6ced04",
   "metadata": {},
   "source": []
  },
  {
   "cell_type": "code",
   "execution_count": 6,
   "id": "bbaa8b70",
   "metadata": {},
   "outputs": [],
   "source": [
    "#이상거래 탐지에 불필요하다 생각하는 변수 제거\n",
    "\n",
    "df.drop(['first','last','city','state','zip','trans_num','unix_time','job','merchant'],\\\n",
    "       axis = 1, inplace = True)\n",
    "#first / last : 이름 정보\n",
    "#city / state / zip : 위도와 경도 정보가 따로 있어 제거\n",
    "#trans_num : id 정보(거래 번호, 고윳값)\n",
    "#unix_time : trans_date_trans_time 정보를 사용할 예정이므로 제거\n",
    "#job / merchant : category 변수로 대체"
   ]
  },
  {
   "cell_type": "code",
   "execution_count": 7,
   "id": "f2754add",
   "metadata": {},
   "outputs": [],
   "source": [
    "df['trans_date_trans_time'] = pd.to_datetime(df['trans_date_trans_time'])\n",
    "#날짜 형식으로 변환"
   ]
  },
  {
   "cell_type": "code",
   "execution_count": 8,
   "id": "42f94b00",
   "metadata": {
    "scrolled": true
   },
   "outputs": [
    {
     "name": "stdout",
     "output_type": "stream",
     "text": [
      "<class 'pandas.core.frame.DataFrame'>\n",
      "RangeIndex: 1852394 entries, 0 to 1852393\n",
      "Data columns (total 13 columns):\n",
      " #   Column                 Dtype         \n",
      "---  ------                 -----         \n",
      " 0   trans_date_trans_time  datetime64[ns]\n",
      " 1   cc_num                 int64         \n",
      " 2   category               object        \n",
      " 3   amt                    float64       \n",
      " 4   gender                 object        \n",
      " 5   street                 object        \n",
      " 6   lat                    float64       \n",
      " 7   long                   float64       \n",
      " 8   city_pop               int64         \n",
      " 9   dob                    object        \n",
      " 10  merch_lat              float64       \n",
      " 11  merch_long             float64       \n",
      " 12  is_fraud               int64         \n",
      "dtypes: datetime64[ns](1), float64(5), int64(3), object(4)\n",
      "memory usage: 183.7+ MB\n"
     ]
    }
   ],
   "source": [
    "df.info()"
   ]
  },
  {
   "cell_type": "markdown",
   "id": "d0183f07",
   "metadata": {},
   "source": []
  },
  {
   "cell_type": "markdown",
   "id": "e8f652bb",
   "metadata": {},
   "source": [
    "* Feature Engineering"
   ]
  },
  {
   "cell_type": "markdown",
   "id": "1c5697e4",
   "metadata": {},
   "source": []
  },
  {
   "cell_type": "code",
   "execution_count": 9,
   "id": "9b13096d",
   "metadata": {},
   "outputs": [
    {
     "data": {
      "text/html": [
       "<div>\n",
       "<style scoped>\n",
       "    .dataframe tbody tr th:only-of-type {\n",
       "        vertical-align: middle;\n",
       "    }\n",
       "\n",
       "    .dataframe tbody tr th {\n",
       "        vertical-align: top;\n",
       "    }\n",
       "\n",
       "    .dataframe thead th {\n",
       "        text-align: right;\n",
       "    }\n",
       "</style>\n",
       "<table border=\"1\" class=\"dataframe\">\n",
       "  <thead>\n",
       "    <tr style=\"text-align: right;\">\n",
       "      <th></th>\n",
       "      <th>cc_num</th>\n",
       "      <th>mean</th>\n",
       "      <th>std</th>\n",
       "    </tr>\n",
       "  </thead>\n",
       "  <tbody>\n",
       "    <tr>\n",
       "      <th>0</th>\n",
       "      <td>60416207185</td>\n",
       "      <td>59.257796</td>\n",
       "      <td>142.869746</td>\n",
       "    </tr>\n",
       "    <tr>\n",
       "      <th>1</th>\n",
       "      <td>60422928733</td>\n",
       "      <td>65.483159</td>\n",
       "      <td>92.042844</td>\n",
       "    </tr>\n",
       "    <tr>\n",
       "      <th>2</th>\n",
       "      <td>60423098130</td>\n",
       "      <td>96.376084</td>\n",
       "      <td>1000.693872</td>\n",
       "    </tr>\n",
       "    <tr>\n",
       "      <th>3</th>\n",
       "      <td>60427851591</td>\n",
       "      <td>107.487550</td>\n",
       "      <td>131.014534</td>\n",
       "    </tr>\n",
       "    <tr>\n",
       "      <th>4</th>\n",
       "      <td>60487002085</td>\n",
       "      <td>64.096925</td>\n",
       "      <td>153.207660</td>\n",
       "    </tr>\n",
       "  </tbody>\n",
       "</table>\n",
       "</div>"
      ],
      "text/plain": [
       "        cc_num        mean          std\n",
       "0  60416207185   59.257796   142.869746\n",
       "1  60422928733   65.483159    92.042844\n",
       "2  60423098130   96.376084  1000.693872\n",
       "3  60427851591  107.487550   131.014534\n",
       "4  60487002085   64.096925   153.207660"
      ]
     },
     "execution_count": 9,
     "metadata": {},
     "output_type": "execute_result"
    }
   ],
   "source": [
    "#amt(거래량)\n",
    "#평소 소비 패턴 대비 이상 금액을 찾기 위해 Z-score(표준 점수) 사용\n",
    "\n",
    "amt_info = df.groupby('cc_num').agg(['mean','std'])['amt'].reset_index()\n",
    "#cc_num 별 amt 평균 및 표준편차 계산\n",
    "amt_info.head()"
   ]
  },
  {
   "cell_type": "code",
   "execution_count": 10,
   "id": "f7419ada",
   "metadata": {},
   "outputs": [],
   "source": [
    "df = df.merge(amt_info, on = 'cc_num', how = 'left')\n",
    "#생성한 데이터 left join\n",
    "\n",
    "#Z-score 계산 후 변수 추가\n",
    "df['amt_z_score'] = (df['amt'] - df['mean'])/df['std']"
   ]
  },
  {
   "cell_type": "code",
   "execution_count": 11,
   "id": "8bb54439",
   "metadata": {
    "scrolled": true
   },
   "outputs": [
    {
     "data": {
      "text/html": [
       "<div>\n",
       "<style scoped>\n",
       "    .dataframe tbody tr th:only-of-type {\n",
       "        vertical-align: middle;\n",
       "    }\n",
       "\n",
       "    .dataframe tbody tr th {\n",
       "        vertical-align: top;\n",
       "    }\n",
       "\n",
       "    .dataframe thead th {\n",
       "        text-align: right;\n",
       "    }\n",
       "</style>\n",
       "<table border=\"1\" class=\"dataframe\">\n",
       "  <thead>\n",
       "    <tr style=\"text-align: right;\">\n",
       "      <th></th>\n",
       "      <th>amt</th>\n",
       "      <th>mean</th>\n",
       "      <th>std</th>\n",
       "      <th>amt_z_score</th>\n",
       "    </tr>\n",
       "  </thead>\n",
       "  <tbody>\n",
       "    <tr>\n",
       "      <th>0</th>\n",
       "      <td>4.97</td>\n",
       "      <td>89.408743</td>\n",
       "      <td>127.530101</td>\n",
       "      <td>-0.662108</td>\n",
       "    </tr>\n",
       "    <tr>\n",
       "      <th>1</th>\n",
       "      <td>107.23</td>\n",
       "      <td>56.078113</td>\n",
       "      <td>159.201852</td>\n",
       "      <td>0.321302</td>\n",
       "    </tr>\n",
       "    <tr>\n",
       "      <th>2</th>\n",
       "      <td>220.11</td>\n",
       "      <td>69.924272</td>\n",
       "      <td>116.688602</td>\n",
       "      <td>1.287064</td>\n",
       "    </tr>\n",
       "    <tr>\n",
       "      <th>3</th>\n",
       "      <td>45.00</td>\n",
       "      <td>80.090040</td>\n",
       "      <td>280.077880</td>\n",
       "      <td>-0.125287</td>\n",
       "    </tr>\n",
       "    <tr>\n",
       "      <th>4</th>\n",
       "      <td>41.96</td>\n",
       "      <td>95.341146</td>\n",
       "      <td>94.322842</td>\n",
       "      <td>-0.565941</td>\n",
       "    </tr>\n",
       "  </tbody>\n",
       "</table>\n",
       "</div>"
      ],
      "text/plain": [
       "      amt       mean         std  amt_z_score\n",
       "0    4.97  89.408743  127.530101    -0.662108\n",
       "1  107.23  56.078113  159.201852     0.321302\n",
       "2  220.11  69.924272  116.688602     1.287064\n",
       "3   45.00  80.090040  280.077880    -0.125287\n",
       "4   41.96  95.341146   94.322842    -0.565941"
      ]
     },
     "execution_count": 11,
     "metadata": {},
     "output_type": "execute_result"
    }
   ],
   "source": [
    "df[['amt','mean','std','amt_z_score']].head()"
   ]
  },
  {
   "cell_type": "markdown",
   "id": "d6021cde",
   "metadata": {},
   "source": []
  },
  {
   "cell_type": "markdown",
   "id": "a49397c5",
   "metadata": {},
   "source": [
    "*2행 값에서 평균 거래 금액이 $69.92 수준인데 해당 지출 금액은 $220 로 상당한 차이를 보입니다."
   ]
  },
  {
   "cell_type": "markdown",
   "id": "62138899",
   "metadata": {},
   "source": []
  },
  {
   "cell_type": "code",
   "execution_count": 12,
   "id": "83cb81ad",
   "metadata": {},
   "outputs": [],
   "source": [
    "df.drop(['mean','std'], axis = 1, inplace = True)\n",
    "#Z-score 외의 변수 제거"
   ]
  },
  {
   "cell_type": "code",
   "execution_count": 13,
   "id": "c0592585",
   "metadata": {},
   "outputs": [],
   "source": [
    "#category - 거래 상점의 범주(애완용품, 여행, 엔터테인먼트 등)\n",
    "#각 개인마다 어떤 범주에서 얼만큼의 금액을 쓰는지 또한 다르므로, cc_num / category 에 대한 Z-score 계산\n",
    "\n",
    "category_info = df.groupby(['cc_num','category']).agg(['mean','std'])['amt'].reset_index()"
   ]
  },
  {
   "cell_type": "code",
   "execution_count": 14,
   "id": "2982bcde",
   "metadata": {},
   "outputs": [],
   "source": [
    "df = df.merge(category_info, on = ['cc_num','category'], how = 'left')"
   ]
  },
  {
   "cell_type": "code",
   "execution_count": 15,
   "id": "a8f6824c",
   "metadata": {},
   "outputs": [],
   "source": [
    "df['cat_z_score'] = (df['amt'] - df['mean']) / df['std']\n",
    "#Z-score 변수 추가\n",
    "df.drop(['mean', 'std'], axis = 1, inplace = True)\n",
    "#제거"
   ]
  },
  {
   "cell_type": "code",
   "execution_count": 17,
   "id": "1ad5593e",
   "metadata": {},
   "outputs": [],
   "source": [
    "#고객 위치와 상점의 위치(둘 사이의 거리 계산, Z-score 활용)\n",
    "#ex.) 고객이 주로 주소지 부근 100km 반경에서만 거래하다가,\n",
    "#3,000km 떨어진 지역에서 거래가 발생했다면, 이상거래를 의심할 여지가 있습니다.\n",
    "\n",
    "import geopy.distance\n",
    "#두 지점 거리 계산에 필요한 geopy library import\n",
    "#geopy.distance.distance 모듈 : 두 지점에 대한 위도와 경도를 튜플 형태로 받아서 계산\n",
    "\n",
    "df['merch_coord'] = pd.Series(zip(df['merch_lat'], df['merch_long']))\n",
    "#상점의 위도와 경도를 한 변수로 합치기\n",
    "df['cust_coord'] = pd.Series(zip(df['lat'], df['long']))\n",
    "#고객 주소지의 위도와 경도를 한 변수로 합치기"
   ]
  },
  {
   "cell_type": "code",
   "execution_count": 18,
   "id": "78169458",
   "metadata": {},
   "outputs": [],
   "source": [
    "df['distance'] = df.apply(lambda x: geopy.distance.distance(x['merch_coord'], x['cust_coord']).km\\\n",
    "                         , axis = 1)\n",
    "#거리 계산"
   ]
  },
  {
   "cell_type": "code",
   "execution_count": 19,
   "id": "2a2e0c9b",
   "metadata": {},
   "outputs": [
    {
     "data": {
      "text/html": [
       "<div>\n",
       "<style scoped>\n",
       "    .dataframe tbody tr th:only-of-type {\n",
       "        vertical-align: middle;\n",
       "    }\n",
       "\n",
       "    .dataframe tbody tr th {\n",
       "        vertical-align: top;\n",
       "    }\n",
       "\n",
       "    .dataframe thead th {\n",
       "        text-align: right;\n",
       "    }\n",
       "</style>\n",
       "<table border=\"1\" class=\"dataframe\">\n",
       "  <thead>\n",
       "    <tr style=\"text-align: right;\">\n",
       "      <th></th>\n",
       "      <th>trans_date_trans_time</th>\n",
       "      <th>cc_num</th>\n",
       "      <th>category</th>\n",
       "      <th>amt</th>\n",
       "      <th>gender</th>\n",
       "      <th>street</th>\n",
       "      <th>lat</th>\n",
       "      <th>long</th>\n",
       "      <th>city_pop</th>\n",
       "      <th>dob</th>\n",
       "      <th>merch_lat</th>\n",
       "      <th>merch_long</th>\n",
       "      <th>is_fraud</th>\n",
       "      <th>amt_z_score</th>\n",
       "      <th>cat_z_score</th>\n",
       "      <th>merch_coord</th>\n",
       "      <th>cust_coord</th>\n",
       "      <th>distance</th>\n",
       "      <th>distance_z_score</th>\n",
       "    </tr>\n",
       "  </thead>\n",
       "  <tbody>\n",
       "    <tr>\n",
       "      <th>0</th>\n",
       "      <td>2019-01-01 00:00:18</td>\n",
       "      <td>2703186189652095</td>\n",
       "      <td>misc_net</td>\n",
       "      <td>4.97</td>\n",
       "      <td>F</td>\n",
       "      <td>561 Perry Cove</td>\n",
       "      <td>36.0788</td>\n",
       "      <td>-81.1781</td>\n",
       "      <td>3495</td>\n",
       "      <td>1988-03-09</td>\n",
       "      <td>36.011293</td>\n",
       "      <td>-82.048315</td>\n",
       "      <td>0</td>\n",
       "      <td>-0.662108</td>\n",
       "      <td>-0.688297</td>\n",
       "      <td>(36.011293, -82.048315)</td>\n",
       "      <td>(36.0788, -81.1781)</td>\n",
       "      <td>78.773821</td>\n",
       "      <td>0.030974</td>\n",
       "    </tr>\n",
       "    <tr>\n",
       "      <th>1</th>\n",
       "      <td>2019-01-01 00:00:44</td>\n",
       "      <td>630423337322</td>\n",
       "      <td>grocery_pos</td>\n",
       "      <td>107.23</td>\n",
       "      <td>F</td>\n",
       "      <td>43039 Riley Greens Suite 393</td>\n",
       "      <td>48.8878</td>\n",
       "      <td>-118.2105</td>\n",
       "      <td>149</td>\n",
       "      <td>1978-06-21</td>\n",
       "      <td>49.159047</td>\n",
       "      <td>-118.186462</td>\n",
       "      <td>0</td>\n",
       "      <td>0.321302</td>\n",
       "      <td>0.317631</td>\n",
       "      <td>(49.159047, -118.186462)</td>\n",
       "      <td>(48.8878, -118.2105)</td>\n",
       "      <td>30.216618</td>\n",
       "      <td>-1.475224</td>\n",
       "    </tr>\n",
       "    <tr>\n",
       "      <th>2</th>\n",
       "      <td>2019-01-01 00:00:51</td>\n",
       "      <td>38859492057661</td>\n",
       "      <td>entertainment</td>\n",
       "      <td>220.11</td>\n",
       "      <td>M</td>\n",
       "      <td>594 White Dale Suite 530</td>\n",
       "      <td>42.1808</td>\n",
       "      <td>-112.2620</td>\n",
       "      <td>4154</td>\n",
       "      <td>1962-01-19</td>\n",
       "      <td>43.150704</td>\n",
       "      <td>-112.154481</td>\n",
       "      <td>0</td>\n",
       "      <td>1.287064</td>\n",
       "      <td>2.872509</td>\n",
       "      <td>(43.150704, -112.154481)</td>\n",
       "      <td>(42.1808, -112.262)</td>\n",
       "      <td>108.102912</td>\n",
       "      <td>1.160572</td>\n",
       "    </tr>\n",
       "    <tr>\n",
       "      <th>3</th>\n",
       "      <td>2019-01-01 00:01:16</td>\n",
       "      <td>3534093764340240</td>\n",
       "      <td>gas_transport</td>\n",
       "      <td>45.00</td>\n",
       "      <td>M</td>\n",
       "      <td>9443 Cynthia Court Apt. 038</td>\n",
       "      <td>46.2306</td>\n",
       "      <td>-112.1138</td>\n",
       "      <td>1939</td>\n",
       "      <td>1967-01-12</td>\n",
       "      <td>47.034331</td>\n",
       "      <td>-112.561071</td>\n",
       "      <td>0</td>\n",
       "      <td>-0.125287</td>\n",
       "      <td>-1.050197</td>\n",
       "      <td>(47.034331, -112.561071)</td>\n",
       "      <td>(46.2306, -112.1138)</td>\n",
       "      <td>95.685115</td>\n",
       "      <td>0.818063</td>\n",
       "    </tr>\n",
       "    <tr>\n",
       "      <th>4</th>\n",
       "      <td>2019-01-01 00:03:06</td>\n",
       "      <td>375534208663984</td>\n",
       "      <td>misc_pos</td>\n",
       "      <td>41.96</td>\n",
       "      <td>M</td>\n",
       "      <td>408 Bradley Rest</td>\n",
       "      <td>38.4207</td>\n",
       "      <td>-79.4629</td>\n",
       "      <td>99</td>\n",
       "      <td>1986-03-28</td>\n",
       "      <td>38.674999</td>\n",
       "      <td>-78.632459</td>\n",
       "      <td>0</td>\n",
       "      <td>-0.565941</td>\n",
       "      <td>1.312866</td>\n",
       "      <td>(38.674999, -78.632459)</td>\n",
       "      <td>(38.4207, -79.4629)</td>\n",
       "      <td>77.702395</td>\n",
       "      <td>0.064037</td>\n",
       "    </tr>\n",
       "  </tbody>\n",
       "</table>\n",
       "</div>"
      ],
      "text/plain": [
       "  trans_date_trans_time            cc_num       category     amt gender  \\\n",
       "0   2019-01-01 00:00:18  2703186189652095       misc_net    4.97      F   \n",
       "1   2019-01-01 00:00:44      630423337322    grocery_pos  107.23      F   \n",
       "2   2019-01-01 00:00:51    38859492057661  entertainment  220.11      M   \n",
       "3   2019-01-01 00:01:16  3534093764340240  gas_transport   45.00      M   \n",
       "4   2019-01-01 00:03:06   375534208663984       misc_pos   41.96      M   \n",
       "\n",
       "                         street      lat      long  city_pop         dob  \\\n",
       "0                561 Perry Cove  36.0788  -81.1781      3495  1988-03-09   \n",
       "1  43039 Riley Greens Suite 393  48.8878 -118.2105       149  1978-06-21   \n",
       "2      594 White Dale Suite 530  42.1808 -112.2620      4154  1962-01-19   \n",
       "3   9443 Cynthia Court Apt. 038  46.2306 -112.1138      1939  1967-01-12   \n",
       "4              408 Bradley Rest  38.4207  -79.4629        99  1986-03-28   \n",
       "\n",
       "   merch_lat  merch_long  is_fraud  amt_z_score  cat_z_score  \\\n",
       "0  36.011293  -82.048315         0    -0.662108    -0.688297   \n",
       "1  49.159047 -118.186462         0     0.321302     0.317631   \n",
       "2  43.150704 -112.154481         0     1.287064     2.872509   \n",
       "3  47.034331 -112.561071         0    -0.125287    -1.050197   \n",
       "4  38.674999  -78.632459         0    -0.565941     1.312866   \n",
       "\n",
       "                merch_coord            cust_coord    distance  \\\n",
       "0   (36.011293, -82.048315)   (36.0788, -81.1781)   78.773821   \n",
       "1  (49.159047, -118.186462)  (48.8878, -118.2105)   30.216618   \n",
       "2  (43.150704, -112.154481)   (42.1808, -112.262)  108.102912   \n",
       "3  (47.034331, -112.561071)  (46.2306, -112.1138)   95.685115   \n",
       "4   (38.674999, -78.632459)   (38.4207, -79.4629)   77.702395   \n",
       "\n",
       "   distance_z_score  \n",
       "0          0.030974  \n",
       "1         -1.475224  \n",
       "2          1.160572  \n",
       "3          0.818063  \n",
       "4          0.064037  "
      ]
     },
     "execution_count": 19,
     "metadata": {},
     "output_type": "execute_result"
    }
   ],
   "source": [
    "#상점 위치, 고객 주소지 사이 거리에 대한 Z-score 계산\n",
    "\n",
    "distance_info = df.groupby('cc_num').agg(['mean','std'])['distance'].reset_index()\n",
    "#cc_num 별 거리 정보 계산(mean, std)\n",
    "df = df.merge(distance_info, on = 'cc_num', how = 'left')\n",
    "df['distance_z_score'] = (df['distance'] - df['mean']) / df['std']\n",
    "#Z-score 계산 후 새로운 변수 추가\n",
    "df.drop(['mean','std'], axis = 1, inplace = True)\n",
    "#이외 변수 제거\n",
    "df.head()"
   ]
  },
  {
   "cell_type": "code",
   "execution_count": 20,
   "id": "01e1ea87",
   "metadata": {},
   "outputs": [],
   "source": [
    "#age(나이)\n",
    "#dob(생년월일) 데이터를 datetime 을 활용해 나이를 계산\n",
    "\n",
    "df['age'] = 2021 - pd.to_datetime(df['dob']).dt.year"
   ]
  },
  {
   "cell_type": "code",
   "execution_count": 21,
   "id": "9af51829",
   "metadata": {},
   "outputs": [
    {
     "data": {
      "text/html": [
       "<div>\n",
       "<style scoped>\n",
       "    .dataframe tbody tr th:only-of-type {\n",
       "        vertical-align: middle;\n",
       "    }\n",
       "\n",
       "    .dataframe tbody tr th {\n",
       "        vertical-align: top;\n",
       "    }\n",
       "\n",
       "    .dataframe thead th {\n",
       "        text-align: right;\n",
       "    }\n",
       "</style>\n",
       "<table border=\"1\" class=\"dataframe\">\n",
       "  <thead>\n",
       "    <tr style=\"text-align: right;\">\n",
       "      <th></th>\n",
       "      <th>trans_date_trans_time</th>\n",
       "      <th>category</th>\n",
       "      <th>amt</th>\n",
       "      <th>gender</th>\n",
       "      <th>street</th>\n",
       "      <th>city_pop</th>\n",
       "      <th>is_fraud</th>\n",
       "      <th>amt_z_score</th>\n",
       "      <th>cat_z_score</th>\n",
       "      <th>distance</th>\n",
       "      <th>distance_z_score</th>\n",
       "      <th>age</th>\n",
       "    </tr>\n",
       "  </thead>\n",
       "  <tbody>\n",
       "    <tr>\n",
       "      <th>0</th>\n",
       "      <td>2019-01-01 00:00:18</td>\n",
       "      <td>misc_net</td>\n",
       "      <td>4.97</td>\n",
       "      <td>F</td>\n",
       "      <td>561 Perry Cove</td>\n",
       "      <td>3495</td>\n",
       "      <td>0</td>\n",
       "      <td>-0.662108</td>\n",
       "      <td>-0.688297</td>\n",
       "      <td>78.773821</td>\n",
       "      <td>0.030974</td>\n",
       "      <td>33</td>\n",
       "    </tr>\n",
       "    <tr>\n",
       "      <th>1</th>\n",
       "      <td>2019-01-01 00:00:44</td>\n",
       "      <td>grocery_pos</td>\n",
       "      <td>107.23</td>\n",
       "      <td>F</td>\n",
       "      <td>43039 Riley Greens Suite 393</td>\n",
       "      <td>149</td>\n",
       "      <td>0</td>\n",
       "      <td>0.321302</td>\n",
       "      <td>0.317631</td>\n",
       "      <td>30.216618</td>\n",
       "      <td>-1.475224</td>\n",
       "      <td>43</td>\n",
       "    </tr>\n",
       "    <tr>\n",
       "      <th>2</th>\n",
       "      <td>2019-01-01 00:00:51</td>\n",
       "      <td>entertainment</td>\n",
       "      <td>220.11</td>\n",
       "      <td>M</td>\n",
       "      <td>594 White Dale Suite 530</td>\n",
       "      <td>4154</td>\n",
       "      <td>0</td>\n",
       "      <td>1.287064</td>\n",
       "      <td>2.872509</td>\n",
       "      <td>108.102912</td>\n",
       "      <td>1.160572</td>\n",
       "      <td>59</td>\n",
       "    </tr>\n",
       "    <tr>\n",
       "      <th>3</th>\n",
       "      <td>2019-01-01 00:01:16</td>\n",
       "      <td>gas_transport</td>\n",
       "      <td>45.00</td>\n",
       "      <td>M</td>\n",
       "      <td>9443 Cynthia Court Apt. 038</td>\n",
       "      <td>1939</td>\n",
       "      <td>0</td>\n",
       "      <td>-0.125287</td>\n",
       "      <td>-1.050197</td>\n",
       "      <td>95.685115</td>\n",
       "      <td>0.818063</td>\n",
       "      <td>54</td>\n",
       "    </tr>\n",
       "    <tr>\n",
       "      <th>4</th>\n",
       "      <td>2019-01-01 00:03:06</td>\n",
       "      <td>misc_pos</td>\n",
       "      <td>41.96</td>\n",
       "      <td>M</td>\n",
       "      <td>408 Bradley Rest</td>\n",
       "      <td>99</td>\n",
       "      <td>0</td>\n",
       "      <td>-0.565941</td>\n",
       "      <td>1.312866</td>\n",
       "      <td>77.702395</td>\n",
       "      <td>0.064037</td>\n",
       "      <td>35</td>\n",
       "    </tr>\n",
       "  </tbody>\n",
       "</table>\n",
       "</div>"
      ],
      "text/plain": [
       "  trans_date_trans_time       category     amt gender  \\\n",
       "0   2019-01-01 00:00:18       misc_net    4.97      F   \n",
       "1   2019-01-01 00:00:44    grocery_pos  107.23      F   \n",
       "2   2019-01-01 00:00:51  entertainment  220.11      M   \n",
       "3   2019-01-01 00:01:16  gas_transport   45.00      M   \n",
       "4   2019-01-01 00:03:06       misc_pos   41.96      M   \n",
       "\n",
       "                         street  city_pop  is_fraud  amt_z_score  cat_z_score  \\\n",
       "0                561 Perry Cove      3495         0    -0.662108    -0.688297   \n",
       "1  43039 Riley Greens Suite 393       149         0     0.321302     0.317631   \n",
       "2      594 White Dale Suite 530      4154         0     1.287064     2.872509   \n",
       "3   9443 Cynthia Court Apt. 038      1939         0    -0.125287    -1.050197   \n",
       "4              408 Bradley Rest        99         0    -0.565941     1.312866   \n",
       "\n",
       "     distance  distance_z_score  age  \n",
       "0   78.773821          0.030974   33  \n",
       "1   30.216618         -1.475224   43  \n",
       "2  108.102912          1.160572   59  \n",
       "3   95.685115          0.818063   54  \n",
       "4   77.702395          0.064037   35  "
      ]
     },
     "execution_count": 21,
     "metadata": {},
     "output_type": "execute_result"
    }
   ],
   "source": [
    "df.drop(['cc_num','lat','long','merch_lat','merch_long','dob','merch_coord','cust_coord'],\\\n",
    "       axis = 1, inplace = True)\n",
    "#feature engineering 작업 후 불필요 변수 제거\n",
    "df.head()"
   ]
  },
  {
   "cell_type": "code",
   "execution_count": 23,
   "id": "5e3412c1",
   "metadata": {},
   "outputs": [],
   "source": [
    "df = pd.get_dummies(df, columns = ['category', 'gender'], drop_first = True)\n",
    "#남아있는 object 변수 더미 처리"
   ]
  },
  {
   "cell_type": "code",
   "execution_count": 24,
   "id": "283769b0",
   "metadata": {
    "scrolled": true
   },
   "outputs": [
    {
     "data": {
      "text/html": [
       "<div>\n",
       "<style scoped>\n",
       "    .dataframe tbody tr th:only-of-type {\n",
       "        vertical-align: middle;\n",
       "    }\n",
       "\n",
       "    .dataframe tbody tr th {\n",
       "        vertical-align: top;\n",
       "    }\n",
       "\n",
       "    .dataframe thead th {\n",
       "        text-align: right;\n",
       "    }\n",
       "</style>\n",
       "<table border=\"1\" class=\"dataframe\">\n",
       "  <thead>\n",
       "    <tr style=\"text-align: right;\">\n",
       "      <th></th>\n",
       "      <th>amt</th>\n",
       "      <th>street</th>\n",
       "      <th>city_pop</th>\n",
       "      <th>is_fraud</th>\n",
       "      <th>amt_z_score</th>\n",
       "      <th>cat_z_score</th>\n",
       "      <th>distance</th>\n",
       "      <th>distance_z_score</th>\n",
       "      <th>age</th>\n",
       "      <th>category_food_dining</th>\n",
       "      <th>...</th>\n",
       "      <th>category_health_fitness</th>\n",
       "      <th>category_home</th>\n",
       "      <th>category_kids_pets</th>\n",
       "      <th>category_misc_net</th>\n",
       "      <th>category_misc_pos</th>\n",
       "      <th>category_personal_care</th>\n",
       "      <th>category_shopping_net</th>\n",
       "      <th>category_shopping_pos</th>\n",
       "      <th>category_travel</th>\n",
       "      <th>gender_M</th>\n",
       "    </tr>\n",
       "    <tr>\n",
       "      <th>trans_date_trans_time</th>\n",
       "      <th></th>\n",
       "      <th></th>\n",
       "      <th></th>\n",
       "      <th></th>\n",
       "      <th></th>\n",
       "      <th></th>\n",
       "      <th></th>\n",
       "      <th></th>\n",
       "      <th></th>\n",
       "      <th></th>\n",
       "      <th></th>\n",
       "      <th></th>\n",
       "      <th></th>\n",
       "      <th></th>\n",
       "      <th></th>\n",
       "      <th></th>\n",
       "      <th></th>\n",
       "      <th></th>\n",
       "      <th></th>\n",
       "      <th></th>\n",
       "      <th></th>\n",
       "    </tr>\n",
       "  </thead>\n",
       "  <tbody>\n",
       "    <tr>\n",
       "      <th>2019-01-01 00:00:18</th>\n",
       "      <td>4.97</td>\n",
       "      <td>561 Perry Cove</td>\n",
       "      <td>3495</td>\n",
       "      <td>0</td>\n",
       "      <td>-0.662108</td>\n",
       "      <td>-0.688297</td>\n",
       "      <td>78.773821</td>\n",
       "      <td>0.030974</td>\n",
       "      <td>33</td>\n",
       "      <td>0</td>\n",
       "      <td>...</td>\n",
       "      <td>0</td>\n",
       "      <td>0</td>\n",
       "      <td>0</td>\n",
       "      <td>1</td>\n",
       "      <td>0</td>\n",
       "      <td>0</td>\n",
       "      <td>0</td>\n",
       "      <td>0</td>\n",
       "      <td>0</td>\n",
       "      <td>0</td>\n",
       "    </tr>\n",
       "    <tr>\n",
       "      <th>2019-01-01 00:00:44</th>\n",
       "      <td>107.23</td>\n",
       "      <td>43039 Riley Greens Suite 393</td>\n",
       "      <td>149</td>\n",
       "      <td>0</td>\n",
       "      <td>0.321302</td>\n",
       "      <td>0.317631</td>\n",
       "      <td>30.216618</td>\n",
       "      <td>-1.475224</td>\n",
       "      <td>43</td>\n",
       "      <td>0</td>\n",
       "      <td>...</td>\n",
       "      <td>0</td>\n",
       "      <td>0</td>\n",
       "      <td>0</td>\n",
       "      <td>0</td>\n",
       "      <td>0</td>\n",
       "      <td>0</td>\n",
       "      <td>0</td>\n",
       "      <td>0</td>\n",
       "      <td>0</td>\n",
       "      <td>0</td>\n",
       "    </tr>\n",
       "    <tr>\n",
       "      <th>2019-01-01 00:00:51</th>\n",
       "      <td>220.11</td>\n",
       "      <td>594 White Dale Suite 530</td>\n",
       "      <td>4154</td>\n",
       "      <td>0</td>\n",
       "      <td>1.287064</td>\n",
       "      <td>2.872509</td>\n",
       "      <td>108.102912</td>\n",
       "      <td>1.160572</td>\n",
       "      <td>59</td>\n",
       "      <td>0</td>\n",
       "      <td>...</td>\n",
       "      <td>0</td>\n",
       "      <td>0</td>\n",
       "      <td>0</td>\n",
       "      <td>0</td>\n",
       "      <td>0</td>\n",
       "      <td>0</td>\n",
       "      <td>0</td>\n",
       "      <td>0</td>\n",
       "      <td>0</td>\n",
       "      <td>1</td>\n",
       "    </tr>\n",
       "    <tr>\n",
       "      <th>2019-01-01 00:01:16</th>\n",
       "      <td>45.00</td>\n",
       "      <td>9443 Cynthia Court Apt. 038</td>\n",
       "      <td>1939</td>\n",
       "      <td>0</td>\n",
       "      <td>-0.125287</td>\n",
       "      <td>-1.050197</td>\n",
       "      <td>95.685115</td>\n",
       "      <td>0.818063</td>\n",
       "      <td>54</td>\n",
       "      <td>0</td>\n",
       "      <td>...</td>\n",
       "      <td>0</td>\n",
       "      <td>0</td>\n",
       "      <td>0</td>\n",
       "      <td>0</td>\n",
       "      <td>0</td>\n",
       "      <td>0</td>\n",
       "      <td>0</td>\n",
       "      <td>0</td>\n",
       "      <td>0</td>\n",
       "      <td>1</td>\n",
       "    </tr>\n",
       "    <tr>\n",
       "      <th>2019-01-01 00:03:06</th>\n",
       "      <td>41.96</td>\n",
       "      <td>408 Bradley Rest</td>\n",
       "      <td>99</td>\n",
       "      <td>0</td>\n",
       "      <td>-0.565941</td>\n",
       "      <td>1.312866</td>\n",
       "      <td>77.702395</td>\n",
       "      <td>0.064037</td>\n",
       "      <td>35</td>\n",
       "      <td>0</td>\n",
       "      <td>...</td>\n",
       "      <td>0</td>\n",
       "      <td>0</td>\n",
       "      <td>0</td>\n",
       "      <td>0</td>\n",
       "      <td>1</td>\n",
       "      <td>0</td>\n",
       "      <td>0</td>\n",
       "      <td>0</td>\n",
       "      <td>0</td>\n",
       "      <td>1</td>\n",
       "    </tr>\n",
       "  </tbody>\n",
       "</table>\n",
       "<p>5 rows × 23 columns</p>\n",
       "</div>"
      ],
      "text/plain": [
       "                          amt                        street  city_pop  \\\n",
       "trans_date_trans_time                                                   \n",
       "2019-01-01 00:00:18      4.97                561 Perry Cove      3495   \n",
       "2019-01-01 00:00:44    107.23  43039 Riley Greens Suite 393       149   \n",
       "2019-01-01 00:00:51    220.11      594 White Dale Suite 530      4154   \n",
       "2019-01-01 00:01:16     45.00   9443 Cynthia Court Apt. 038      1939   \n",
       "2019-01-01 00:03:06     41.96              408 Bradley Rest        99   \n",
       "\n",
       "                       is_fraud  amt_z_score  cat_z_score    distance  \\\n",
       "trans_date_trans_time                                                   \n",
       "2019-01-01 00:00:18           0    -0.662108    -0.688297   78.773821   \n",
       "2019-01-01 00:00:44           0     0.321302     0.317631   30.216618   \n",
       "2019-01-01 00:00:51           0     1.287064     2.872509  108.102912   \n",
       "2019-01-01 00:01:16           0    -0.125287    -1.050197   95.685115   \n",
       "2019-01-01 00:03:06           0    -0.565941     1.312866   77.702395   \n",
       "\n",
       "                       distance_z_score  age  category_food_dining  ...  \\\n",
       "trans_date_trans_time                                               ...   \n",
       "2019-01-01 00:00:18            0.030974   33                     0  ...   \n",
       "2019-01-01 00:00:44           -1.475224   43                     0  ...   \n",
       "2019-01-01 00:00:51            1.160572   59                     0  ...   \n",
       "2019-01-01 00:01:16            0.818063   54                     0  ...   \n",
       "2019-01-01 00:03:06            0.064037   35                     0  ...   \n",
       "\n",
       "                       category_health_fitness  category_home  \\\n",
       "trans_date_trans_time                                           \n",
       "2019-01-01 00:00:18                          0              0   \n",
       "2019-01-01 00:00:44                          0              0   \n",
       "2019-01-01 00:00:51                          0              0   \n",
       "2019-01-01 00:01:16                          0              0   \n",
       "2019-01-01 00:03:06                          0              0   \n",
       "\n",
       "                       category_kids_pets  category_misc_net  \\\n",
       "trans_date_trans_time                                          \n",
       "2019-01-01 00:00:18                     0                  1   \n",
       "2019-01-01 00:00:44                     0                  0   \n",
       "2019-01-01 00:00:51                     0                  0   \n",
       "2019-01-01 00:01:16                     0                  0   \n",
       "2019-01-01 00:03:06                     0                  0   \n",
       "\n",
       "                       category_misc_pos  category_personal_care  \\\n",
       "trans_date_trans_time                                              \n",
       "2019-01-01 00:00:18                    0                       0   \n",
       "2019-01-01 00:00:44                    0                       0   \n",
       "2019-01-01 00:00:51                    0                       0   \n",
       "2019-01-01 00:01:16                    0                       0   \n",
       "2019-01-01 00:03:06                    1                       0   \n",
       "\n",
       "                       category_shopping_net  category_shopping_pos  \\\n",
       "trans_date_trans_time                                                 \n",
       "2019-01-01 00:00:18                        0                      0   \n",
       "2019-01-01 00:00:44                        0                      0   \n",
       "2019-01-01 00:00:51                        0                      0   \n",
       "2019-01-01 00:01:16                        0                      0   \n",
       "2019-01-01 00:03:06                        0                      0   \n",
       "\n",
       "                       category_travel  gender_M  \n",
       "trans_date_trans_time                             \n",
       "2019-01-01 00:00:18                  0         0  \n",
       "2019-01-01 00:00:44                  0         0  \n",
       "2019-01-01 00:00:51                  0         1  \n",
       "2019-01-01 00:01:16                  0         1  \n",
       "2019-01-01 00:03:06                  0         1  \n",
       "\n",
       "[5 rows x 23 columns]"
      ]
     },
     "execution_count": 24,
     "metadata": {},
     "output_type": "execute_result"
    }
   ],
   "source": [
    "#trans_date_trans_time : 예측에는 불필요하나, 훈련/테스트셋 분할에 사용하기 위해 인덱스 처리\n",
    "\n",
    "df.set_index('trans_date_trans_time', inplace = True)\n",
    "df.head()"
   ]
  },
  {
   "cell_type": "code",
   "execution_count": 30,
   "id": "e0f0443d",
   "metadata": {},
   "outputs": [],
   "source": [
    "df.drop('street', axis = 1, inplace = True)"
   ]
  },
  {
   "cell_type": "markdown",
   "id": "8a5cc64c",
   "metadata": {},
   "source": []
  },
  {
   "cell_type": "markdown",
   "id": "36013f1d",
   "metadata": {},
   "source": [
    "* Modeling"
   ]
  },
  {
   "cell_type": "markdown",
   "id": "bf9a1022",
   "metadata": {},
   "source": [
    "*지금까지 발생한 거래 데이터를 기반으로 모델을 학습시키고, 모델을 활용해 앞으로 일어나는 거래에 대한 이상 여부를 예측.\n",
    "*train_test_split 을 사용하지 않고, 특정 날짜를 기준으로 훈련과 시험셋을 분할했습니다."
   ]
  },
  {
   "cell_type": "markdown",
   "id": "e70f528b",
   "metadata": {},
   "source": []
  },
  {
   "cell_type": "code",
   "execution_count": 31,
   "id": "0c39ea89",
   "metadata": {},
   "outputs": [
    {
     "data": {
      "text/plain": [
       "0.2837738623640543"
      ]
     },
     "execution_count": 31,
     "metadata": {},
     "output_type": "execute_result"
    }
   ],
   "source": [
    "train = df[df.index < '2020-07-01']\n",
    "#훈련셋\n",
    "test = df[df.index >= '2020-07-01']\n",
    "#시험셋\n",
    "\n",
    "len(test)/len(df)\n",
    "#시험셋 비율 확인"
   ]
  },
  {
   "cell_type": "code",
   "execution_count": 32,
   "id": "a8759ac2",
   "metadata": {},
   "outputs": [],
   "source": [
    "xtr = train.drop('is_fraud', axis = 1)\n",
    "#x_train\n",
    "xt = test.drop('is_fraud', axis = 1)\n",
    "#x_test\n",
    "ytr = train['is_fraud']\n",
    "#y_train\n",
    "yt = test['is_fraud']\n",
    "#y_test"
   ]
  },
  {
   "cell_type": "code",
   "execution_count": 33,
   "id": "3835df78",
   "metadata": {},
   "outputs": [],
   "source": [
    "import lightgbm as lgb\n",
    "#LightGBM import\n",
    "\n",
    "md1 = lgb.LGBMClassifier(random_state = 100)\n",
    "md1.fit(xtr, ytr)\n",
    "#학습\n",
    "pred1 = md1.predict(xt)\n",
    "#예측1"
   ]
  },
  {
   "cell_type": "code",
   "execution_count": 34,
   "id": "ae0cb7ce",
   "metadata": {},
   "outputs": [
    {
     "data": {
      "text/plain": [
       "0.9970798670626126"
      ]
     },
     "execution_count": 34,
     "metadata": {},
     "output_type": "execute_result"
    }
   ],
   "source": [
    "from sklearn.metrics import accuracy_score, confusion_matrix, classification_report, roc_auc_score\n",
    "\n",
    "accuracy_score(yt, pred1)\n",
    "#정확도 확인"
   ]
  },
  {
   "cell_type": "markdown",
   "id": "b9b5e24a",
   "metadata": {},
   "source": []
  },
  {
   "cell_type": "markdown",
   "id": "73c8e9d0",
   "metadata": {},
   "source": [
    "*종속 변수 구성이 한쪽으로 치우친 imbalanced data 이기 때문에, 높은 정확도를 보입니다."
   ]
  },
  {
   "cell_type": "markdown",
   "id": "7049b0d1",
   "metadata": {},
   "source": []
  },
  {
   "cell_type": "code",
   "execution_count": 35,
   "id": "7b6e81cc",
   "metadata": {
    "scrolled": true
   },
   "outputs": [
    {
     "name": "stdout",
     "output_type": "stream",
     "text": [
      "[[522935    714]\n",
      " [   821   1191]]\n"
     ]
    }
   ],
   "source": [
    "print(confusion_matrix(yt, pred1))"
   ]
  },
  {
   "cell_type": "markdown",
   "id": "fcea6a30",
   "metadata": {},
   "source": []
  },
  {
   "cell_type": "markdown",
   "id": "c7c18605",
   "metadata": {},
   "source": [
    "*2종 오류가 821 건으로, 821 건의 이상거래를 잡아내지 못했습니다.\n",
    "*714 건의 정상 거래 건이 이상거래 건으로 잘못 감지됐습니다(1종 오류)."
   ]
  },
  {
   "cell_type": "markdown",
   "id": "c5fe7088",
   "metadata": {},
   "source": []
  },
  {
   "cell_type": "code",
   "execution_count": 36,
   "id": "9794597c",
   "metadata": {
    "scrolled": true
   },
   "outputs": [
    {
     "name": "stdout",
     "output_type": "stream",
     "text": [
      "              precision    recall  f1-score   support\n",
      "\n",
      "           0       1.00      1.00      1.00    523649\n",
      "           1       0.63      0.59      0.61      2012\n",
      "\n",
      "    accuracy                           1.00    525661\n",
      "   macro avg       0.81      0.80      0.80    525661\n",
      "weighted avg       1.00      1.00      1.00    525661\n",
      "\n"
     ]
    }
   ],
   "source": [
    "print(classification_report(yt, pred1))\n",
    "#분류 리포트 확인"
   ]
  },
  {
   "cell_type": "markdown",
   "id": "cde1b979",
   "metadata": {},
   "source": []
  },
  {
   "cell_type": "markdown",
   "id": "64cca9d1",
   "metadata": {},
   "source": [
    "*정상 거래를 한 고객이 확인 절차를 거치는 불편함이 조금 더 발생하더라도, 이상거래를 조금 더 포착하는게 중요합니다(예민하게 반응하는 모델).\n",
    "*즉, 실제 이상거래(1) 를 얼마나 많이 예측하는지 의미하는 재현율(recall, 0.59) 수치가 precision(0.63) 수치보다 중요합니다."
   ]
  },
  {
   "cell_type": "markdown",
   "id": "3630dc95",
   "metadata": {},
   "source": []
  },
  {
   "cell_type": "code",
   "execution_count": 37,
   "id": "8f03adae",
   "metadata": {},
   "outputs": [
    {
     "data": {
      "text/plain": [
       "array([[9.99968780e-01, 3.12200192e-05],\n",
       "       [9.99973950e-01, 2.60503805e-05],\n",
       "       [9.99960796e-01, 3.92036839e-05],\n",
       "       ...,\n",
       "       [9.99964825e-01, 3.51745939e-05],\n",
       "       [9.99844073e-01, 1.55926901e-04],\n",
       "       [9.99945924e-01, 5.40758219e-05]])"
      ]
     },
     "execution_count": 37,
     "metadata": {},
     "output_type": "execute_result"
    }
   ],
   "source": [
    "proba1 = md1.predict_proba(xt)\n",
    "#이진 분류가 아닌, 확률 형태로 예측\n",
    "proba1"
   ]
  },
  {
   "cell_type": "code",
   "execution_count": 38,
   "id": "935d904a",
   "metadata": {},
   "outputs": [],
   "source": [
    "proba1 = proba1[:,1]\n",
    "#1에 대한 예측 결과만 분리"
   ]
  },
  {
   "cell_type": "code",
   "execution_count": 39,
   "id": "adb196bd",
   "metadata": {},
   "outputs": [],
   "source": [
    "proba_int1 = (proba1 > 0.2).astype('int')\n",
    "#0.2 확률 초과 시 1(이상거래), 비교적 예민한 반응\n",
    "proba_int2 = (proba1 > 0.8).astype('int')\n",
    "#0.8 확률 초과 시 1(이상거래), 비교적 둔감한 반응"
   ]
  },
  {
   "cell_type": "code",
   "execution_count": 40,
   "id": "dcbf2275",
   "metadata": {},
   "outputs": [
    {
     "name": "stdout",
     "output_type": "stream",
     "text": [
      "[[522107   1542]\n",
      " [   598   1414]]\n"
     ]
    }
   ],
   "source": [
    "#비교적 예민한 반응 모델에 대한 분류 리포트\n",
    "print(confusion_matrix(yt, proba_int1))"
   ]
  },
  {
   "cell_type": "code",
   "execution_count": 41,
   "id": "52b12ecd",
   "metadata": {
    "scrolled": true
   },
   "outputs": [
    {
     "name": "stdout",
     "output_type": "stream",
     "text": [
      "              precision    recall  f1-score   support\n",
      "\n",
      "           0       1.00      1.00      1.00    523649\n",
      "           1       0.48      0.70      0.57      2012\n",
      "\n",
      "    accuracy                           1.00    525661\n",
      "   macro avg       0.74      0.85      0.78    525661\n",
      "weighted avg       1.00      1.00      1.00    525661\n",
      "\n"
     ]
    }
   ],
   "source": [
    "print(classification_report(yt, proba_int1))"
   ]
  },
  {
   "cell_type": "markdown",
   "id": "f4c9db0c",
   "metadata": {},
   "source": []
  },
  {
   "cell_type": "markdown",
   "id": "b10ac081",
   "metadata": {},
   "source": [
    "*재현율(recall) 수치가 0.7 로 확연히 개선된 모습을 보였습니다.\n",
    "*정밀도(precision) 가 지나치게 낮아지는 것 또한 조심해야 하기 때문에, 적절한 기준점을 잡아야합니다."
   ]
  },
  {
   "cell_type": "markdown",
   "id": "c2b2eb7d",
   "metadata": {},
   "source": []
  },
  {
   "cell_type": "code",
   "execution_count": 42,
   "id": "390e1f0d",
   "metadata": {},
   "outputs": [
    {
     "name": "stdout",
     "output_type": "stream",
     "text": [
      "[[523185    464]\n",
      " [   958   1054]]\n"
     ]
    }
   ],
   "source": [
    "#비교적 둔감한 반응 모델에 대한 분류 리포트\n",
    "print(confusion_matrix(yt, proba_int2))"
   ]
  },
  {
   "cell_type": "code",
   "execution_count": 43,
   "id": "2fd0ea38",
   "metadata": {},
   "outputs": [
    {
     "name": "stdout",
     "output_type": "stream",
     "text": [
      "              precision    recall  f1-score   support\n",
      "\n",
      "           0       1.00      1.00      1.00    523649\n",
      "           1       0.69      0.52      0.60      2012\n",
      "\n",
      "    accuracy                           1.00    525661\n",
      "   macro avg       0.85      0.76      0.80    525661\n",
      "weighted avg       1.00      1.00      1.00    525661\n",
      "\n"
     ]
    }
   ],
   "source": [
    "print(classification_report(yt, proba_int2))"
   ]
  },
  {
   "cell_type": "code",
   "execution_count": 46,
   "id": "fbab65ef",
   "metadata": {},
   "outputs": [
    {
     "data": {
      "text/plain": [
       "0.9366034338664935"
      ]
     },
     "execution_count": 46,
     "metadata": {},
     "output_type": "execute_result"
    }
   ],
   "source": [
    "#roc_auc_score 확인\n",
    "\n",
    "roc_auc_score(yt, proba1)"
   ]
  },
  {
   "cell_type": "markdown",
   "id": "0b899546",
   "metadata": {},
   "source": []
  },
  {
   "cell_type": "markdown",
   "id": "111b5314",
   "metadata": {},
   "source": [
    "*0.8 이상이면 높은 편이지만, 이 점수 또한 종속변수가 한 쪽으로 편향돼있을 때, 자연스럽게 높게 나오는 경향이 있습니다."
   ]
  },
  {
   "cell_type": "markdown",
   "id": "e30f9859",
   "metadata": {},
   "source": []
  },
  {
   "cell_type": "code",
   "execution_count": 52,
   "id": "7444519d",
   "metadata": {},
   "outputs": [],
   "source": [
    "#LightGBM 의 train() 함수 사용\n",
    "#검증셋(validation) 을 함께 사용하고, 특정 metrics 를 기준으로 평가하며 개선해나갑니다.\n",
    "\n",
    "train = df[df.index < '2020-01-01']\n",
    "#훈련셋 설정, 2019년 1월 ~ 2019년 12월\n",
    "val = df[(df.index >= '2020-01-01')&(df.index < '2020-07-01')]\n",
    "#검증셋 설정, 2020년 1월 ~ 2020년 6월\n",
    "test = df[df.index >= '2020-07-01']\n",
    "#시험셋 설정, 2020년 7월 ~ 2020년 12월"
   ]
  },
  {
   "cell_type": "code",
   "execution_count": 54,
   "id": "2cb59a81",
   "metadata": {},
   "outputs": [],
   "source": [
    "xtr = train.drop('is_fraud', axis = 1)\n",
    "#x_train\n",
    "xval = val.drop('is_fraud', axis = 1)\n",
    "#x_val\n",
    "xt = test.drop('is_fraud', axis = 1)\n",
    "#x_test\n",
    "ytr = train['is_fraud']\n",
    "#y_train\n",
    "yval = val['is_fraud']\n",
    "#y_val\n",
    "yt = test['is_fraud']\n",
    "#y_test"
   ]
  },
  {
   "cell_type": "code",
   "execution_count": 55,
   "id": "3fd57c7a",
   "metadata": {},
   "outputs": [],
   "source": [
    "#LightGBM 에서 제시하는 고유한 데이터셋 형태로 변환\n",
    "\n",
    "d_train = lgb.Dataset(xtr, label = ytr)\n",
    "#훈련셋\n",
    "d_val = lgb.Dataset(xval, label = yval)\n",
    "#검증셋"
   ]
  },
  {
   "cell_type": "code",
   "execution_count": 56,
   "id": "1385c1ff",
   "metadata": {},
   "outputs": [],
   "source": [
    "#하이퍼파라미터 튜닝 작업 후, 가장 좋은 성능을 보인 셋 변수 생성\n",
    "\n",
    "best = {\n",
    "    'n_estimators':1000,\n",
    "    #반복 횟수\n",
    "    'learning_rate':0.05,\n",
    "    #학습률\n",
    "    'lambda_l1': 0,\n",
    "    #L1 정규화\n",
    "    'lambda_l2':20,\n",
    "    #L2 정규화\n",
    "    'max_depth':15,\n",
    "    #최대 깊이\n",
    "    'subsample':1\n",
    "    #서브 샘플 비율\n",
    "}"
   ]
  },
  {
   "cell_type": "code",
   "execution_count": 57,
   "id": "b35858e8",
   "metadata": {},
   "outputs": [],
   "source": [
    "params_set = best\n",
    "#최적 파라미터 설정\n",
    "params_set['metrics'] = 'auc'\n",
    "#평가 기준 추가"
   ]
  },
  {
   "cell_type": "code",
   "execution_count": 58,
   "id": "3fe386d3",
   "metadata": {},
   "outputs": [
    {
     "data": {
      "text/plain": [
       "{'n_estimators': 1000,\n",
       " 'learning_rate': 0.05,\n",
       " 'lambda_l1': 0,\n",
       " 'lambda_l2': 20,\n",
       " 'max_depth': 15,\n",
       " 'subsample': 1,\n",
       " 'metrics': 'auc'}"
      ]
     },
     "execution_count": 58,
     "metadata": {},
     "output_type": "execute_result"
    }
   ],
   "source": [
    "params_set"
   ]
  },
  {
   "cell_type": "code",
   "execution_count": 59,
   "id": "3c43f9ee",
   "metadata": {
    "scrolled": false
   },
   "outputs": [
    {
     "name": "stderr",
     "output_type": "stream",
     "text": [
      "/Users/hyosasiburi/opt/anaconda3/lib/python3.8/site-packages/lightgbm/engine.py:177: UserWarning: Found `n_estimators` in params. Will use it instead of argument\n",
      "  _log_warning(f\"Found `{alias}` in params. Will use it instead of argument\")\n",
      "/Users/hyosasiburi/opt/anaconda3/lib/python3.8/site-packages/lightgbm/engine.py:181: UserWarning: 'early_stopping_rounds' argument is deprecated and will be removed in a future release of LightGBM. Pass 'early_stopping()' callback via 'callbacks' argument instead.\n",
      "  _log_warning(\"'early_stopping_rounds' argument is deprecated and will be removed in a future release of LightGBM. \"\n",
      "/Users/hyosasiburi/opt/anaconda3/lib/python3.8/site-packages/lightgbm/engine.py:239: UserWarning: 'verbose_eval' argument is deprecated and will be removed in a future release of LightGBM. Pass 'log_evaluation()' callback via 'callbacks' argument instead.\n",
      "  _log_warning(\"'verbose_eval' argument is deprecated and will be removed in a future release of LightGBM. \"\n"
     ]
    },
    {
     "name": "stdout",
     "output_type": "stream",
     "text": [
      "[LightGBM] [Warning] Accuracy may be bad since you didn't explicitly set num_leaves OR 2^max_depth > num_leaves. (num_leaves=31).\n",
      "[LightGBM] [Warning] Accuracy may be bad since you didn't explicitly set num_leaves OR 2^max_depth > num_leaves. (num_leaves=31).\n",
      "[LightGBM] [Warning] Auto-choosing row-wise multi-threading, the overhead of testing was 0.018827 seconds.\n",
      "You can set `force_row_wise=true` to remove the overhead.\n",
      "And if memory is not enough, you can set `force_col_wise=true`.\n",
      "[LightGBM] [Info] Total Bins 1633\n",
      "[LightGBM] [Info] Number of data points in the train set: 924850, number of used features: 21\n",
      "[LightGBM] [Warning] Accuracy may be bad since you didn't explicitly set num_leaves OR 2^max_depth > num_leaves. (num_leaves=31).\n",
      "[LightGBM] [Info] Start training from score 0.005644\n",
      "Training until validation scores don't improve for 100 rounds\n",
      "[100]\tvalid_0's auc: 0.97237\n",
      "[200]\tvalid_0's auc: 0.988574\n",
      "[300]\tvalid_0's auc: 0.993031\n",
      "[400]\tvalid_0's auc: 0.992582\n",
      "Early stopping, best iteration is:\n",
      "[327]\tvalid_0's auc: 0.993459\n"
     ]
    }
   ],
   "source": [
    "md3 = lgb.train(params_set, d_train, valid_sets = [d_val],\\\n",
    "               early_stopping_rounds = 100\\\n",
    "                #학습 시간 제한\n",
    "                , verbose_eval = 100)\n",
    "                #출력물을 특정 간격으로 보여줌"
   ]
  },
  {
   "cell_type": "markdown",
   "id": "e76ebc00",
   "metadata": {},
   "source": []
  },
  {
   "cell_type": "markdown",
   "id": "66c52c9f",
   "metadata": {},
   "source": [
    "*327번째 트리에서 가장 좋은 auc 를 보여주었고, 이 뒤로 100 개 트리를 더 시도했으나 개선되지 않아 작업을 멈췄습니다."
   ]
  },
  {
   "cell_type": "markdown",
   "id": "bd46b5ca",
   "metadata": {},
   "source": []
  },
  {
   "cell_type": "code",
   "execution_count": 60,
   "id": "635ae076",
   "metadata": {},
   "outputs": [],
   "source": [
    "pred3 = md3.predict(xt)\n",
    "#개선된 모델을 활용한 예측"
   ]
  },
  {
   "cell_type": "code",
   "execution_count": 61,
   "id": "b3e63542",
   "metadata": {},
   "outputs": [
    {
     "data": {
      "text/plain": [
       "0.991352108964131"
      ]
     },
     "execution_count": 61,
     "metadata": {},
     "output_type": "execute_result"
    }
   ],
   "source": [
    "roc_auc_score(yt, pred3)\n",
    "#개선된 모델의 roc_auc_score 확인"
   ]
  },
  {
   "cell_type": "code",
   "execution_count": 65,
   "id": "e68a0af6",
   "metadata": {},
   "outputs": [
    {
     "data": {
      "image/png": "[encoded data removed]",
      "text/plain": [
       "<Figure size 1440x720 with 1 Axes>"
      ]
     },
     "metadata": {
      "needs_background": "light"
     },
     "output_type": "display_data"
    }
   ],
   "source": [
    "#중요 변수 정리 및 시각화\n",
    "\n",
    "feature_imp_3 = pd.DataFrame(sorted(zip(md3.feature_importance(), xtr.columns)),\\\n",
    "                            columns = ['Value', 'Feature'])\n",
    "plt.figure(figsize = (20,10))\n",
    "sns.barplot(x = 'importance', y = 'feature_name', data = feature_imp.head(10))\n",
    "plt.show()"
   ]
  }
 ],
 "metadata": {
  "kernelspec": {
   "display_name": "Python 3",
   "language": "python",
   "name": "python3"
  },
  "language_info": {
   "codemirror_mode": {
    "name": "ipython",
    "version": 3
   },
   "file_extension": ".py",
   "mimetype": "text/x-python",
   "name": "python",
   "nbconvert_exporter": "python",
   "pygments_lexer": "ipython3",
   "version": "3.8.8"
  }
 },
 "nbformat": 4,
 "nbformat_minor": 5
}
