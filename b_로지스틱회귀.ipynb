{
 "cells": [
  {
   "cell_type": "markdown",
   "id": "24fa4570",
   "metadata": {},
   "source": [
    "로지스틱회귀(Logistic Regression) : 타이타닉 생존자 예측"
   ]
  },
  {
   "cell_type": "markdown",
   "id": "4fb1888b",
   "metadata": {},
   "source": [
    "목표: 타이타닉 승객 데이터셋을 이용하여 생존 여부 예측"
   ]
  },
  {
   "cell_type": "markdown",
   "id": "1072b88e",
   "metadata": {},
   "source": [
    "via 최효원's Jupyter Notebook"
   ]
  },
  {
   "cell_type": "markdown",
   "id": "e815e90e",
   "metadata": {},
   "source": []
  },
  {
   "cell_type": "markdown",
   "id": "e3bcdd70",
   "metadata": {},
   "source": [
    "타이타닉 사고 당시 승선한 승객의 정보를 담고있는 데이터셋입니다(이름, 성별, 나이, 티켓 번호 등).\n",
    "\n",
    "독립, 종속변수가 선형 관계에 놓여있을 때 적합하고, 다른 분류 모델과 성능을 비교하는 baseline 으로 사용되는\n",
    "로지스틱 회귀 알고리즘을 데이터셋에 적용 후, 여러 정보가 실제로 승객의 생존에 어떤 영향을 미치는지 예측하기 위한 작업을 진행했습니다."
   ]
  },
  {
   "cell_type": "markdown",
   "id": "d33489e7",
   "metadata": {},
   "source": []
  },
  {
   "cell_type": "code",
   "execution_count": 1,
   "id": "574773d0",
   "metadata": {},
   "outputs": [
    {
     "data": {
      "text/html": [
       "<div>\n",
       "<style scoped>\n",
       "    .dataframe tbody tr th:only-of-type {\n",
       "        vertical-align: middle;\n",
       "    }\n",
       "\n",
       "    .dataframe tbody tr th {\n",
       "        vertical-align: top;\n",
       "    }\n",
       "\n",
       "    .dataframe thead th {\n",
       "        text-align: right;\n",
       "    }\n",
       "</style>\n",
       "<table border=\"1\" class=\"dataframe\">\n",
       "  <thead>\n",
       "    <tr style=\"text-align: right;\">\n",
       "      <th></th>\n",
       "      <th>Pclass</th>\n",
       "      <th>Name</th>\n",
       "      <th>Sex</th>\n",
       "      <th>Age</th>\n",
       "      <th>SibSp</th>\n",
       "      <th>Parch</th>\n",
       "      <th>Ticket</th>\n",
       "      <th>Embarked</th>\n",
       "      <th>Survived</th>\n",
       "    </tr>\n",
       "  </thead>\n",
       "  <tbody>\n",
       "    <tr>\n",
       "      <th>0</th>\n",
       "      <td>3</td>\n",
       "      <td>Braund, Mr. Owen Harris</td>\n",
       "      <td>male</td>\n",
       "      <td>22.0</td>\n",
       "      <td>1</td>\n",
       "      <td>0</td>\n",
       "      <td>A/5 21171</td>\n",
       "      <td>S</td>\n",
       "      <td>0</td>\n",
       "    </tr>\n",
       "    <tr>\n",
       "      <th>1</th>\n",
       "      <td>1</td>\n",
       "      <td>Cumings, Mrs. John Bradley (Florence Briggs Th...</td>\n",
       "      <td>female</td>\n",
       "      <td>38.0</td>\n",
       "      <td>1</td>\n",
       "      <td>0</td>\n",
       "      <td>PC 17599</td>\n",
       "      <td>C</td>\n",
       "      <td>1</td>\n",
       "    </tr>\n",
       "    <tr>\n",
       "      <th>2</th>\n",
       "      <td>3</td>\n",
       "      <td>Heikkinen, Miss. Laina</td>\n",
       "      <td>female</td>\n",
       "      <td>26.0</td>\n",
       "      <td>0</td>\n",
       "      <td>0</td>\n",
       "      <td>STON/O2. 3101282</td>\n",
       "      <td>S</td>\n",
       "      <td>1</td>\n",
       "    </tr>\n",
       "    <tr>\n",
       "      <th>3</th>\n",
       "      <td>1</td>\n",
       "      <td>Futrelle, Mrs. Jacques Heath (Lily May Peel)</td>\n",
       "      <td>female</td>\n",
       "      <td>35.0</td>\n",
       "      <td>1</td>\n",
       "      <td>0</td>\n",
       "      <td>113803</td>\n",
       "      <td>S</td>\n",
       "      <td>1</td>\n",
       "    </tr>\n",
       "    <tr>\n",
       "      <th>4</th>\n",
       "      <td>3</td>\n",
       "      <td>Allen, Mr. William Henry</td>\n",
       "      <td>male</td>\n",
       "      <td>35.0</td>\n",
       "      <td>0</td>\n",
       "      <td>0</td>\n",
       "      <td>373450</td>\n",
       "      <td>S</td>\n",
       "      <td>0</td>\n",
       "    </tr>\n",
       "  </tbody>\n",
       "</table>\n",
       "</div>"
      ],
      "text/plain": [
       "   Pclass                                               Name     Sex   Age  \\\n",
       "0       3                            Braund, Mr. Owen Harris    male  22.0   \n",
       "1       1  Cumings, Mrs. John Bradley (Florence Briggs Th...  female  38.0   \n",
       "2       3                             Heikkinen, Miss. Laina  female  26.0   \n",
       "3       1       Futrelle, Mrs. Jacques Heath (Lily May Peel)  female  35.0   \n",
       "4       3                           Allen, Mr. William Henry    male  35.0   \n",
       "\n",
       "   SibSp  Parch            Ticket Embarked  Survived  \n",
       "0      1      0         A/5 21171        S         0  \n",
       "1      1      0          PC 17599        C         1  \n",
       "2      0      0  STON/O2. 3101282        S         1  \n",
       "3      1      0            113803        S         1  \n",
       "4      0      0            373450        S         0  "
      ]
     },
     "execution_count": 1,
     "metadata": {},
     "output_type": "execute_result"
    }
   ],
   "source": [
    "import pandas as pd\n",
    "\n",
    "df = pd.read_csv('https://media.githubusercontent.com/media/musthave-ML10/data_source/main/titanic.csv')\n",
    "#데이터 출처: https://media.githubusercontent.com/media/musthave-ML10\n",
    "df.head()\n",
    "#티켓 클래스 #이름(o) #성별(o) #나이 #함께 탑승한 형제 및 배우자 수\n",
    "#함께 탑승한 부모 및 자녀 수 #티켓번호(o) #승선 항구(o) #생존여부(target)\n",
    "#o -> object 변수"
   ]
  },
  {
   "cell_type": "code",
   "execution_count": 2,
   "id": "01f67b95",
   "metadata": {},
   "outputs": [
    {
     "name": "stdout",
     "output_type": "stream",
     "text": [
      "<class 'pandas.core.frame.DataFrame'>\n",
      "RangeIndex: 889 entries, 0 to 888\n",
      "Data columns (total 9 columns):\n",
      " #   Column    Non-Null Count  Dtype  \n",
      "---  ------    --------------  -----  \n",
      " 0   Pclass    889 non-null    int64  \n",
      " 1   Name      889 non-null    object \n",
      " 2   Sex       889 non-null    object \n",
      " 3   Age       889 non-null    float64\n",
      " 4   SibSp     889 non-null    int64  \n",
      " 5   Parch     889 non-null    int64  \n",
      " 6   Ticket    889 non-null    object \n",
      " 7   Embarked  889 non-null    object \n",
      " 8   Survived  889 non-null    int64  \n",
      "dtypes: float64(1), int64(4), object(4)\n",
      "memory usage: 62.6+ KB\n"
     ]
    }
   ],
   "source": [
    "df.info()\n",
    "#total = 889 rows / 9 cols"
   ]
  },
  {
   "cell_type": "code",
   "execution_count": 4,
   "id": "21b91a0c",
   "metadata": {},
   "outputs": [
    {
     "data": {
      "text/html": [
       "<div>\n",
       "<style scoped>\n",
       "    .dataframe tbody tr th:only-of-type {\n",
       "        vertical-align: middle;\n",
       "    }\n",
       "\n",
       "    .dataframe tbody tr th {\n",
       "        vertical-align: top;\n",
       "    }\n",
       "\n",
       "    .dataframe thead th {\n",
       "        text-align: right;\n",
       "    }\n",
       "</style>\n",
       "<table border=\"1\" class=\"dataframe\">\n",
       "  <thead>\n",
       "    <tr style=\"text-align: right;\">\n",
       "      <th></th>\n",
       "      <th>count</th>\n",
       "      <th>mean</th>\n",
       "      <th>std</th>\n",
       "      <th>min</th>\n",
       "      <th>25%</th>\n",
       "      <th>50%</th>\n",
       "      <th>75%</th>\n",
       "      <th>max</th>\n",
       "    </tr>\n",
       "  </thead>\n",
       "  <tbody>\n",
       "    <tr>\n",
       "      <th>Pclass</th>\n",
       "      <td>889.0</td>\n",
       "      <td>2.311586</td>\n",
       "      <td>0.834700</td>\n",
       "      <td>1.00</td>\n",
       "      <td>2.0</td>\n",
       "      <td>3.0</td>\n",
       "      <td>3.0</td>\n",
       "      <td>3.0</td>\n",
       "    </tr>\n",
       "    <tr>\n",
       "      <th>Age</th>\n",
       "      <td>889.0</td>\n",
       "      <td>29.315152</td>\n",
       "      <td>12.984932</td>\n",
       "      <td>0.42</td>\n",
       "      <td>22.0</td>\n",
       "      <td>28.0</td>\n",
       "      <td>35.0</td>\n",
       "      <td>80.0</td>\n",
       "    </tr>\n",
       "    <tr>\n",
       "      <th>SibSp</th>\n",
       "      <td>889.0</td>\n",
       "      <td>0.524184</td>\n",
       "      <td>1.103705</td>\n",
       "      <td>0.00</td>\n",
       "      <td>0.0</td>\n",
       "      <td>0.0</td>\n",
       "      <td>1.0</td>\n",
       "      <td>8.0</td>\n",
       "    </tr>\n",
       "    <tr>\n",
       "      <th>Parch</th>\n",
       "      <td>889.0</td>\n",
       "      <td>0.382452</td>\n",
       "      <td>0.806761</td>\n",
       "      <td>0.00</td>\n",
       "      <td>0.0</td>\n",
       "      <td>0.0</td>\n",
       "      <td>0.0</td>\n",
       "      <td>6.0</td>\n",
       "    </tr>\n",
       "    <tr>\n",
       "      <th>Survived</th>\n",
       "      <td>889.0</td>\n",
       "      <td>0.382452</td>\n",
       "      <td>0.486260</td>\n",
       "      <td>0.00</td>\n",
       "      <td>0.0</td>\n",
       "      <td>0.0</td>\n",
       "      <td>1.0</td>\n",
       "      <td>1.0</td>\n",
       "    </tr>\n",
       "  </tbody>\n",
       "</table>\n",
       "</div>"
      ],
      "text/plain": [
       "          count       mean        std   min   25%   50%   75%   max\n",
       "Pclass    889.0   2.311586   0.834700  1.00   2.0   3.0   3.0   3.0\n",
       "Age       889.0  29.315152  12.984932  0.42  22.0  28.0  35.0  80.0\n",
       "SibSp     889.0   0.524184   1.103705  0.00   0.0   0.0   1.0   8.0\n",
       "Parch     889.0   0.382452   0.806761  0.00   0.0   0.0   0.0   6.0\n",
       "Survived  889.0   0.382452   0.486260  0.00   0.0   0.0   1.0   1.0"
      ]
     },
     "execution_count": 4,
     "metadata": {},
     "output_type": "execute_result"
    }
   ],
   "source": [
    "df.describe().T\n",
    "#Pclass = 1,2,3 총 세 가지 클래스 존재.\n",
    "#Age = 대부분 승객이 젊은 층, 일부 나이 많은 승객 존재.\n",
    "#SibSp, Parch = 대부분 승객이 가족을 동반하지 않고 혼자 탑승."
   ]
  },
  {
   "cell_type": "code",
   "execution_count": 5,
   "id": "7c0a77d9",
   "metadata": {
    "scrolled": true
   },
   "outputs": [
    {
     "data": {
      "text/html": [
       "<div>\n",
       "<style scoped>\n",
       "    .dataframe tbody tr th:only-of-type {\n",
       "        vertical-align: middle;\n",
       "    }\n",
       "\n",
       "    .dataframe tbody tr th {\n",
       "        vertical-align: top;\n",
       "    }\n",
       "\n",
       "    .dataframe thead th {\n",
       "        text-align: right;\n",
       "    }\n",
       "</style>\n",
       "<table border=\"1\" class=\"dataframe\">\n",
       "  <thead>\n",
       "    <tr style=\"text-align: right;\">\n",
       "      <th></th>\n",
       "      <th>Pclass</th>\n",
       "      <th>Age</th>\n",
       "      <th>SibSp</th>\n",
       "      <th>Parch</th>\n",
       "      <th>Survived</th>\n",
       "    </tr>\n",
       "  </thead>\n",
       "  <tbody>\n",
       "    <tr>\n",
       "      <th>Pclass</th>\n",
       "      <td>1.000000</td>\n",
       "      <td>-0.336512</td>\n",
       "      <td>0.081656</td>\n",
       "      <td>0.016824</td>\n",
       "      <td>-0.335549</td>\n",
       "    </tr>\n",
       "    <tr>\n",
       "      <th>Age</th>\n",
       "      <td>-0.336512</td>\n",
       "      <td>1.000000</td>\n",
       "      <td>-0.232543</td>\n",
       "      <td>-0.171485</td>\n",
       "      <td>-0.069822</td>\n",
       "    </tr>\n",
       "    <tr>\n",
       "      <th>SibSp</th>\n",
       "      <td>0.081656</td>\n",
       "      <td>-0.232543</td>\n",
       "      <td>1.000000</td>\n",
       "      <td>0.414542</td>\n",
       "      <td>-0.034040</td>\n",
       "    </tr>\n",
       "    <tr>\n",
       "      <th>Parch</th>\n",
       "      <td>0.016824</td>\n",
       "      <td>-0.171485</td>\n",
       "      <td>0.414542</td>\n",
       "      <td>1.000000</td>\n",
       "      <td>0.083151</td>\n",
       "    </tr>\n",
       "    <tr>\n",
       "      <th>Survived</th>\n",
       "      <td>-0.335549</td>\n",
       "      <td>-0.069822</td>\n",
       "      <td>-0.034040</td>\n",
       "      <td>0.083151</td>\n",
       "      <td>1.000000</td>\n",
       "    </tr>\n",
       "  </tbody>\n",
       "</table>\n",
       "</div>"
      ],
      "text/plain": [
       "            Pclass       Age     SibSp     Parch  Survived\n",
       "Pclass    1.000000 -0.336512  0.081656  0.016824 -0.335549\n",
       "Age      -0.336512  1.000000 -0.232543 -0.171485 -0.069822\n",
       "SibSp     0.081656 -0.232543  1.000000  0.414542 -0.034040\n",
       "Parch     0.016824 -0.171485  0.414542  1.000000  0.083151\n",
       "Survived -0.335549 -0.069822 -0.034040  0.083151  1.000000"
      ]
     },
     "execution_count": 5,
     "metadata": {},
     "output_type": "execute_result"
    }
   ],
   "source": [
    "df.corr()\n",
    "#변수 간 상관관계 확인"
   ]
  },
  {
   "cell_type": "markdown",
   "id": "b78715f4",
   "metadata": {},
   "source": [
    "*SipSp, Parch 변수의 상관관계가 가장 크다(약 0.415)"
   ]
  },
  {
   "cell_type": "code",
   "execution_count": 6,
   "id": "d932c0f9",
   "metadata": {},
   "outputs": [
    {
     "data": {
      "image/png": "[encoded data removed]",
      "text/plain": [
       "<Figure size 432x288 with 2 Axes>"
      ]
     },
     "metadata": {
      "needs_background": "light"
     },
     "output_type": "display_data"
    }
   ],
   "source": [
    "import matplotlib.pyplot as plt\n",
    "#상관 관계 시각화를 위한 import\n",
    "import seaborn as sns\n",
    "\n",
    "sns.heatmap(df.corr())\n",
    "#히트맵 생성\n",
    "plt.show()"
   ]
  },
  {
   "cell_type": "code",
   "execution_count": 7,
   "id": "36fabc13",
   "metadata": {},
   "outputs": [
    {
     "data": {
      "text/plain": [
       "<AxesSubplot:>"
      ]
     },
     "execution_count": 7,
     "metadata": {},
     "output_type": "execute_result"
    },
    {
     "data": {
      "image/png": "[encoded data removed]",
      "text/plain": [
       "<Figure size 432x288 with 2 Axes>"
      ]
     },
     "metadata": {
      "needs_background": "light"
     },
     "output_type": "display_data"
    }
   ],
   "source": [
    "sns.heatmap(df.corr(), cmap = 'coolwarm')"
   ]
  },
  {
   "cell_type": "code",
   "execution_count": 9,
   "id": "bddc4edd",
   "metadata": {},
   "outputs": [
    {
     "data": {
      "image/png": "[encoded data removed]",
      "text/plain": [
       "<Figure size 432x288 with 2 Axes>"
      ]
     },
     "metadata": {
      "needs_background": "light"
     },
     "output_type": "display_data"
    }
   ],
   "source": [
    "sns.heatmap(df.corr(), cmap = 'coolwarm', vmin = -1, vmax = 1, annot = True)\n",
    "plt.show()"
   ]
  },
  {
   "cell_type": "code",
   "execution_count": 10,
   "id": "3790889c",
   "metadata": {},
   "outputs": [
    {
     "name": "stdout",
     "output_type": "stream",
     "text": [
      "889\n",
      "2\n",
      "680\n",
      "3\n"
     ]
    }
   ],
   "source": [
    "print(df.Name.nunique())\n",
    "print(df.Sex.nunique())\n",
    "print(df.Ticket.nunique())\n",
    "print(df.Embarked.nunique())\n",
    "#각 변수 고유값 확인"
   ]
  },
  {
   "cell_type": "code",
   "execution_count": 11,
   "id": "5f88446a",
   "metadata": {},
   "outputs": [
    {
     "data": {
      "text/html": [
       "<div>\n",
       "<style scoped>\n",
       "    .dataframe tbody tr th:only-of-type {\n",
       "        vertical-align: middle;\n",
       "    }\n",
       "\n",
       "    .dataframe tbody tr th {\n",
       "        vertical-align: top;\n",
       "    }\n",
       "\n",
       "    .dataframe thead th {\n",
       "        text-align: right;\n",
       "    }\n",
       "</style>\n",
       "<table border=\"1\" class=\"dataframe\">\n",
       "  <thead>\n",
       "    <tr style=\"text-align: right;\">\n",
       "      <th></th>\n",
       "      <th>Pclass</th>\n",
       "      <th>Sex</th>\n",
       "      <th>Age</th>\n",
       "      <th>SibSp</th>\n",
       "      <th>Parch</th>\n",
       "      <th>Embarked</th>\n",
       "      <th>Survived</th>\n",
       "    </tr>\n",
       "  </thead>\n",
       "  <tbody>\n",
       "    <tr>\n",
       "      <th>0</th>\n",
       "      <td>3</td>\n",
       "      <td>male</td>\n",
       "      <td>22.0</td>\n",
       "      <td>1</td>\n",
       "      <td>0</td>\n",
       "      <td>S</td>\n",
       "      <td>0</td>\n",
       "    </tr>\n",
       "    <tr>\n",
       "      <th>1</th>\n",
       "      <td>1</td>\n",
       "      <td>female</td>\n",
       "      <td>38.0</td>\n",
       "      <td>1</td>\n",
       "      <td>0</td>\n",
       "      <td>C</td>\n",
       "      <td>1</td>\n",
       "    </tr>\n",
       "    <tr>\n",
       "      <th>2</th>\n",
       "      <td>3</td>\n",
       "      <td>female</td>\n",
       "      <td>26.0</td>\n",
       "      <td>0</td>\n",
       "      <td>0</td>\n",
       "      <td>S</td>\n",
       "      <td>1</td>\n",
       "    </tr>\n",
       "    <tr>\n",
       "      <th>3</th>\n",
       "      <td>1</td>\n",
       "      <td>female</td>\n",
       "      <td>35.0</td>\n",
       "      <td>1</td>\n",
       "      <td>0</td>\n",
       "      <td>S</td>\n",
       "      <td>1</td>\n",
       "    </tr>\n",
       "    <tr>\n",
       "      <th>4</th>\n",
       "      <td>3</td>\n",
       "      <td>male</td>\n",
       "      <td>35.0</td>\n",
       "      <td>0</td>\n",
       "      <td>0</td>\n",
       "      <td>S</td>\n",
       "      <td>0</td>\n",
       "    </tr>\n",
       "  </tbody>\n",
       "</table>\n",
       "</div>"
      ],
      "text/plain": [
       "   Pclass     Sex   Age  SibSp  Parch Embarked  Survived\n",
       "0       3    male  22.0      1      0        S         0\n",
       "1       1  female  38.0      1      0        C         1\n",
       "2       3  female  26.0      0      0        S         1\n",
       "3       1  female  35.0      1      0        S         1\n",
       "4       3    male  35.0      0      0        S         0"
      ]
     },
     "execution_count": 11,
     "metadata": {},
     "output_type": "execute_result"
    }
   ],
   "source": [
    "df.drop(['Name', 'Ticket'], axis = 1, inplace = True)\n",
    "#이름 - 이름에 따라 사망 여부가 갈린다고 추론하기 힘듦, 제외\n",
    "#티켓번호 - PClass(티켓 클래스) 변수를 이미 가지고 있으므로 제외\n",
    "df.head()"
   ]
  },
  {
   "cell_type": "code",
   "execution_count": 16,
   "id": "9e539eac",
   "metadata": {},
   "outputs": [
    {
     "data": {
      "text/html": [
       "<div>\n",
       "<style scoped>\n",
       "    .dataframe tbody tr th:only-of-type {\n",
       "        vertical-align: middle;\n",
       "    }\n",
       "\n",
       "    .dataframe tbody tr th {\n",
       "        vertical-align: top;\n",
       "    }\n",
       "\n",
       "    .dataframe thead th {\n",
       "        text-align: right;\n",
       "    }\n",
       "</style>\n",
       "<table border=\"1\" class=\"dataframe\">\n",
       "  <thead>\n",
       "    <tr style=\"text-align: right;\">\n",
       "      <th></th>\n",
       "      <th>Pclass</th>\n",
       "      <th>Age</th>\n",
       "      <th>SibSp</th>\n",
       "      <th>Parch</th>\n",
       "      <th>Survived</th>\n",
       "      <th>Sex_male</th>\n",
       "      <th>Embarked_Q</th>\n",
       "      <th>Embarked_S</th>\n",
       "    </tr>\n",
       "  </thead>\n",
       "  <tbody>\n",
       "    <tr>\n",
       "      <th>0</th>\n",
       "      <td>3</td>\n",
       "      <td>22.0</td>\n",
       "      <td>1</td>\n",
       "      <td>0</td>\n",
       "      <td>0</td>\n",
       "      <td>1</td>\n",
       "      <td>0</td>\n",
       "      <td>1</td>\n",
       "    </tr>\n",
       "    <tr>\n",
       "      <th>1</th>\n",
       "      <td>1</td>\n",
       "      <td>38.0</td>\n",
       "      <td>1</td>\n",
       "      <td>0</td>\n",
       "      <td>1</td>\n",
       "      <td>0</td>\n",
       "      <td>0</td>\n",
       "      <td>0</td>\n",
       "    </tr>\n",
       "    <tr>\n",
       "      <th>2</th>\n",
       "      <td>3</td>\n",
       "      <td>26.0</td>\n",
       "      <td>0</td>\n",
       "      <td>0</td>\n",
       "      <td>1</td>\n",
       "      <td>0</td>\n",
       "      <td>0</td>\n",
       "      <td>1</td>\n",
       "    </tr>\n",
       "    <tr>\n",
       "      <th>3</th>\n",
       "      <td>1</td>\n",
       "      <td>35.0</td>\n",
       "      <td>1</td>\n",
       "      <td>0</td>\n",
       "      <td>1</td>\n",
       "      <td>0</td>\n",
       "      <td>0</td>\n",
       "      <td>1</td>\n",
       "    </tr>\n",
       "    <tr>\n",
       "      <th>4</th>\n",
       "      <td>3</td>\n",
       "      <td>35.0</td>\n",
       "      <td>0</td>\n",
       "      <td>0</td>\n",
       "      <td>0</td>\n",
       "      <td>1</td>\n",
       "      <td>0</td>\n",
       "      <td>1</td>\n",
       "    </tr>\n",
       "  </tbody>\n",
       "</table>\n",
       "</div>"
      ],
      "text/plain": [
       "   Pclass   Age  SibSp  Parch  Survived  Sex_male  Embarked_Q  Embarked_S\n",
       "0       3  22.0      1      0         0         1           0           1\n",
       "1       1  38.0      1      0         1         0           0           0\n",
       "2       3  26.0      0      0         1         0           0           1\n",
       "3       1  35.0      1      0         1         0           0           1\n",
       "4       3  35.0      0      0         0         1           0           1"
      ]
     },
     "execution_count": 16,
     "metadata": {},
     "output_type": "execute_result"
    }
   ],
   "source": [
    "df = pd.get_dummies(df, columns = ['Sex', 'Embarked'], drop_first = True)\n",
    "#성별, 승선 항구 변수 더미 전처리(원핫 인코딩)\n",
    "df.head()"
   ]
  },
  {
   "cell_type": "code",
   "execution_count": 18,
   "id": "e6934582",
   "metadata": {},
   "outputs": [],
   "source": [
    "from sklearn.model_selection import train_test_split\n",
    "#데이터 분할\n",
    "\n",
    "X = df.drop('Survived', axis = 1)\n",
    "#독립 변수\n",
    "y = df.Survived\n",
    "#종속 변수\n",
    "xtr,xt, ytr, yt = train_test_split(X, y, test_size = 0.2, random_state = 100)\n",
    "#훈련, 테스트 데이터 분할(8 : 2)"
   ]
  },
  {
   "cell_type": "code",
   "execution_count": 19,
   "id": "594c3226",
   "metadata": {},
   "outputs": [],
   "source": [
    "from sklearn.linear_model import LogisticRegression\n",
    "#로지스틱 회귀 알고리즘 import\n",
    "\n",
    "lr = LogisticRegression()\n",
    "lr.fit(xtr, ytr)\n",
    "#모델 학습\n",
    "pred = lr.predict(xt)\n",
    "#예측"
   ]
  },
  {
   "cell_type": "code",
   "execution_count": 20,
   "id": "917e2d5d",
   "metadata": {},
   "outputs": [
    {
     "data": {
      "text/plain": [
       "0.7808988764044944"
      ]
     },
     "execution_count": 20,
     "metadata": {},
     "output_type": "execute_result"
    }
   ],
   "source": [
    "from sklearn.metrics import accuracy_score\n",
    "#정확도 라이브러리 import\n",
    "accuracy_score(yt, pred)"
   ]
  },
  {
   "cell_type": "code",
   "execution_count": 22,
   "id": "5d524bd6",
   "metadata": {},
   "outputs": [
    {
     "data": {
      "text/plain": [
       "array([[-1.18227237, -0.03992167, -0.32142332,  0.00785044, -2.56886241,\n",
       "        -0.07890995, -0.23551809]])"
      ]
     },
     "execution_count": 22,
     "metadata": {},
     "output_type": "execute_result"
    }
   ],
   "source": [
    "lr.coef_\n",
    "#로지스틱 회귀 모델(함수) 계수 확인"
   ]
  },
  {
   "cell_type": "code",
   "execution_count": 24,
   "id": "8f31ee59",
   "metadata": {},
   "outputs": [
    {
     "data": {
      "text/plain": [
       "7"
      ]
     },
     "execution_count": 24,
     "metadata": {},
     "output_type": "execute_result"
    }
   ],
   "source": [
    "len(lr.coef_[0])"
   ]
  },
  {
   "cell_type": "code",
   "execution_count": 26,
   "id": "44f69087",
   "metadata": {
    "scrolled": false
   },
   "outputs": [
    {
     "data": {
      "text/plain": [
       "Pclass       -1.182272\n",
       "Age          -0.039922\n",
       "SibSp        -0.321423\n",
       "Parch         0.007850\n",
       "Sex_male     -2.568862\n",
       "Embarked_Q   -0.078910\n",
       "Embarked_S   -0.235518\n",
       "dtype: float64"
      ]
     },
     "execution_count": 26,
     "metadata": {},
     "output_type": "execute_result"
    }
   ],
   "source": [
    "pd.Series(lr.coef_[0], index = X.columns)"
   ]
  },
  {
   "cell_type": "markdown",
   "id": "03f34dfb",
   "metadata": {},
   "source": []
  },
  {
   "cell_type": "markdown",
   "id": "9a6b5b67",
   "metadata": {},
   "source": [
    "*Feature engineering\n",
    "heatmap 에서 SibSp(함께 탑승한 형제 및 배우자 수),\n",
    "Parch(함께 탑승한 부모 및 자녀 수) 변수가 조금 강한 상관관계를 보였으므로,\n",
    "이 둘을 새로운 변수로 조정.\n",
    "\n",
    "부모와 자식, 형제/자매 및 배우자는 결국 모두 가족 구성원이라는 공통점이 있다.\n",
    "두 변수를 family 컬럼을 만들어 새로운 feature 를 추출하겠습니다."
   ]
  },
  {
   "cell_type": "markdown",
   "id": "6b898cfe",
   "metadata": {},
   "source": []
  },
  {
   "cell_type": "code",
   "execution_count": 27,
   "id": "8be81ef4",
   "metadata": {},
   "outputs": [
    {
     "data": {
      "text/html": [
       "<div>\n",
       "<style scoped>\n",
       "    .dataframe tbody tr th:only-of-type {\n",
       "        vertical-align: middle;\n",
       "    }\n",
       "\n",
       "    .dataframe tbody tr th {\n",
       "        vertical-align: top;\n",
       "    }\n",
       "\n",
       "    .dataframe thead th {\n",
       "        text-align: right;\n",
       "    }\n",
       "</style>\n",
       "<table border=\"1\" class=\"dataframe\">\n",
       "  <thead>\n",
       "    <tr style=\"text-align: right;\">\n",
       "      <th></th>\n",
       "      <th>Pclass</th>\n",
       "      <th>Age</th>\n",
       "      <th>Survived</th>\n",
       "      <th>Sex_male</th>\n",
       "      <th>Embarked_Q</th>\n",
       "      <th>Embarked_S</th>\n",
       "      <th>family</th>\n",
       "    </tr>\n",
       "  </thead>\n",
       "  <tbody>\n",
       "    <tr>\n",
       "      <th>0</th>\n",
       "      <td>3</td>\n",
       "      <td>22.0</td>\n",
       "      <td>0</td>\n",
       "      <td>1</td>\n",
       "      <td>0</td>\n",
       "      <td>1</td>\n",
       "      <td>1</td>\n",
       "    </tr>\n",
       "    <tr>\n",
       "      <th>1</th>\n",
       "      <td>1</td>\n",
       "      <td>38.0</td>\n",
       "      <td>1</td>\n",
       "      <td>0</td>\n",
       "      <td>0</td>\n",
       "      <td>0</td>\n",
       "      <td>1</td>\n",
       "    </tr>\n",
       "    <tr>\n",
       "      <th>2</th>\n",
       "      <td>3</td>\n",
       "      <td>26.0</td>\n",
       "      <td>1</td>\n",
       "      <td>0</td>\n",
       "      <td>0</td>\n",
       "      <td>1</td>\n",
       "      <td>0</td>\n",
       "    </tr>\n",
       "    <tr>\n",
       "      <th>3</th>\n",
       "      <td>1</td>\n",
       "      <td>35.0</td>\n",
       "      <td>1</td>\n",
       "      <td>0</td>\n",
       "      <td>0</td>\n",
       "      <td>1</td>\n",
       "      <td>1</td>\n",
       "    </tr>\n",
       "    <tr>\n",
       "      <th>4</th>\n",
       "      <td>3</td>\n",
       "      <td>35.0</td>\n",
       "      <td>0</td>\n",
       "      <td>1</td>\n",
       "      <td>0</td>\n",
       "      <td>1</td>\n",
       "      <td>0</td>\n",
       "    </tr>\n",
       "  </tbody>\n",
       "</table>\n",
       "</div>"
      ],
      "text/plain": [
       "   Pclass   Age  Survived  Sex_male  Embarked_Q  Embarked_S  family\n",
       "0       3  22.0         0         1           0           1       1\n",
       "1       1  38.0         1         0           0           0       1\n",
       "2       3  26.0         1         0           0           1       0\n",
       "3       1  35.0         1         0           0           1       1\n",
       "4       3  35.0         0         1           0           1       0"
      ]
     },
     "execution_count": 27,
     "metadata": {},
     "output_type": "execute_result"
    }
   ],
   "source": [
    "df['family'] = df.SibSp + df.Parch\n",
    "df.drop(['SibSp', 'Parch'], axis = 1, inplace = True)\n",
    "df.head()"
   ]
  },
  {
   "cell_type": "code",
   "execution_count": 28,
   "id": "2f29bba7",
   "metadata": {
    "scrolled": false
   },
   "outputs": [
    {
     "data": {
      "text/plain": [
       "0.7921348314606742"
      ]
     },
     "execution_count": 28,
     "metadata": {},
     "output_type": "execute_result"
    }
   ],
   "source": [
    "#새로운 feature 를 활용한 재작업(모델링)\n",
    "X = df.drop('Survived', axis = 1)\n",
    "y = df.Survived\n",
    "xtr,xt,ytr,yt = train_test_split(X, y, test_size = 0.2, random_state = 100)\n",
    "lr.fit(xtr,ytr)\n",
    "pred = lr.predict(xt)\n",
    "accuracy_score(yt, pred)"
   ]
  },
  {
   "cell_type": "markdown",
   "id": "179982de",
   "metadata": {},
   "source": [
    "모델의 정확도 점수가 0.012 정도 높아진 것을 확인했습니다."
   ]
  },
  {
   "cell_type": "markdown",
   "id": "78e5bcda",
   "metadata": {},
   "source": []
  }
 ],
 "metadata": {
  "kernelspec": {
   "display_name": "Python 3",
   "language": "python",
   "name": "python3"
  },
  "language_info": {
   "codemirror_mode": {
    "name": "ipython",
    "version": 3
   },
   "file_extension": ".py",
   "mimetype": "text/x-python",
   "name": "python",
   "nbconvert_exporter": "python",
   "pygments_lexer": "ipython3",
   "version": "3.8.8"
  }
 },
 "nbformat": 4,
 "nbformat_minor": 5
}
