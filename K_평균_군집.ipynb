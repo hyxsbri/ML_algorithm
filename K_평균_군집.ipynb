{
 "cells": [
  {
   "cell_type": "markdown",
   "id": "24fa4570",
   "metadata": {},
   "source": [
    "K-평균 군집화(K-means clustering) : 비슷한 속성끼리 분류하기"
   ]
  },
  {
   "cell_type": "markdown",
   "id": "4fb1888b",
   "metadata": {},
   "source": [
    "목표: 데이터들을 비슷한 속성끼리 분류"
   ]
  },
  {
   "cell_type": "markdown",
   "id": "1072b88e",
   "metadata": {},
   "source": [
    "via 최효원's Jupyter Notebook"
   ]
  },
  {
   "cell_type": "markdown",
   "id": "e815e90e",
   "metadata": {},
   "source": []
  },
  {
   "cell_type": "markdown",
   "id": "e3bcdd70",
   "metadata": {},
   "source": [
    "첫 번째 데이터는 변수들에 의미가 없는, 단순 학습 목적으로 만들어진 인위적 데이터,\n",
    "두 번째 데이터는 LightGBM 모델링 작업 시 사용한 고객 데이터 중, 일부 변수와 정보를 담은 데이터셋입니다.\n",
    "\n",
    "데이터를 적절한 수의 그룹으로 나누고, 그룹의 특징을 살펴볼 수 있는 K-means cluster 알고리즘을\n",
    "해당 작업에 사용했습니다."
   ]
  },
  {
   "cell_type": "markdown",
   "id": "d33489e7",
   "metadata": {},
   "source": []
  },
  {
   "cell_type": "code",
   "execution_count": 1,
   "id": "3e157cf3",
   "metadata": {},
   "outputs": [],
   "source": [
    "import pandas as pd\n",
    "import numpy as np\n",
    "import matplotlib.pyplot as plt\n",
    "import seaborn as sns\n",
    "\n",
    "#Data 1(단순 학습 데이터)\n",
    "\n",
    "df = pd.read_csv('https://raw.githubusercontent.com/snkn1959/data_source/main/example_cluster.csv')\n",
    "#데이터 출처 : https://raw.githubusercontent.com/snkn1959/data_source"
   ]
  },
  {
   "cell_type": "code",
   "execution_count": 2,
   "id": "8918cb1d",
   "metadata": {},
   "outputs": [
    {
     "data": {
      "text/html": [
       "<div>\n",
       "<style scoped>\n",
       "    .dataframe tbody tr th:only-of-type {\n",
       "        vertical-align: middle;\n",
       "    }\n",
       "\n",
       "    .dataframe tbody tr th {\n",
       "        vertical-align: top;\n",
       "    }\n",
       "\n",
       "    .dataframe thead th {\n",
       "        text-align: right;\n",
       "    }\n",
       "</style>\n",
       "<table border=\"1\" class=\"dataframe\">\n",
       "  <thead>\n",
       "    <tr style=\"text-align: right;\">\n",
       "      <th></th>\n",
       "      <th>var_1</th>\n",
       "      <th>var_2</th>\n",
       "    </tr>\n",
       "  </thead>\n",
       "  <tbody>\n",
       "    <tr>\n",
       "      <th>0</th>\n",
       "      <td>3.264413</td>\n",
       "      <td>6.929164</td>\n",
       "    </tr>\n",
       "    <tr>\n",
       "      <th>1</th>\n",
       "      <td>0.220814</td>\n",
       "      <td>2.251631</td>\n",
       "    </tr>\n",
       "    <tr>\n",
       "      <th>2</th>\n",
       "      <td>-8.786197</td>\n",
       "      <td>-8.333582</td>\n",
       "    </tr>\n",
       "    <tr>\n",
       "      <th>3</th>\n",
       "      <td>-0.008547</td>\n",
       "      <td>2.630791</td>\n",
       "    </tr>\n",
       "    <tr>\n",
       "      <th>4</th>\n",
       "      <td>4.912903</td>\n",
       "      <td>6.888520</td>\n",
       "    </tr>\n",
       "    <tr>\n",
       "      <th>...</th>\n",
       "      <td>...</td>\n",
       "      <td>...</td>\n",
       "    </tr>\n",
       "    <tr>\n",
       "      <th>995</th>\n",
       "      <td>4.678232</td>\n",
       "      <td>7.704404</td>\n",
       "    </tr>\n",
       "    <tr>\n",
       "      <th>996</th>\n",
       "      <td>5.250715</td>\n",
       "      <td>6.930948</td>\n",
       "    </tr>\n",
       "    <tr>\n",
       "      <th>997</th>\n",
       "      <td>-11.818752</td>\n",
       "      <td>-5.609853</td>\n",
       "    </tr>\n",
       "    <tr>\n",
       "      <th>998</th>\n",
       "      <td>0.613725</td>\n",
       "      <td>3.809334</td>\n",
       "    </tr>\n",
       "    <tr>\n",
       "      <th>999</th>\n",
       "      <td>3.516961</td>\n",
       "      <td>8.486305</td>\n",
       "    </tr>\n",
       "  </tbody>\n",
       "</table>\n",
       "<p>1000 rows × 2 columns</p>\n",
       "</div>"
      ],
      "text/plain": [
       "         var_1     var_2\n",
       "0     3.264413  6.929164\n",
       "1     0.220814  2.251631\n",
       "2    -8.786197 -8.333582\n",
       "3    -0.008547  2.630791\n",
       "4     4.912903  6.888520\n",
       "..         ...       ...\n",
       "995   4.678232  7.704404\n",
       "996   5.250715  6.930948\n",
       "997 -11.818752 -5.609853\n",
       "998   0.613725  3.809334\n",
       "999   3.516961  8.486305\n",
       "\n",
       "[1000 rows x 2 columns]"
      ]
     },
     "execution_count": 2,
     "metadata": {},
     "output_type": "execute_result"
    }
   ],
   "source": [
    "df\n",
    "#total : 1000 rows / 2 cols"
   ]
  },
  {
   "cell_type": "code",
   "execution_count": 4,
   "id": "2b16098c",
   "metadata": {
    "scrolled": true
   },
   "outputs": [
    {
     "data": {
      "text/plain": [
       "<AxesSubplot:xlabel='var_1', ylabel='var_2'>"
      ]
     },
     "execution_count": 4,
     "metadata": {},
     "output_type": "execute_result"
    },
    {
     "data": {
      "image/png": "[encoded data removed]",
      "text/plain": [
       "<Figure size 432x288 with 1 Axes>"
      ]
     },
     "metadata": {
      "needs_background": "light"
     },
     "output_type": "display_data"
    }
   ],
   "source": [
    "sns.scatterplot(x = 'var_1', y = 'var_2', data = df)\n",
    "#데이터를 산점도를 활용한 시각화"
   ]
  },
  {
   "cell_type": "markdown",
   "id": "83d1369c",
   "metadata": {},
   "source": []
  },
  {
   "cell_type": "markdown",
   "id": "d5247cd0",
   "metadata": {},
   "source": [
    "*한 눈에 보기에도 데이터가 크게 3가지 그룹으로 나뉘어 있습니다."
   ]
  },
  {
   "cell_type": "markdown",
   "id": "58a9994e",
   "metadata": {},
   "source": [
    "*사람의 눈으로 인지되는대로, K-means clustering 을 이용해 3개 그룹으로 나누는 작업을 진행했습니다."
   ]
  },
  {
   "cell_type": "markdown",
   "id": "e6721825",
   "metadata": {},
   "source": []
  },
  {
   "cell_type": "code",
   "execution_count": 6,
   "id": "7265bcd1",
   "metadata": {},
   "outputs": [
    {
     "data": {
      "text/html": [
       "<style>#sk-container-id-1 {color: black;background-color: white;}#sk-container-id-1 pre{padding: 0;}#sk-container-id-1 div.sk-toggleable {background-color: white;}#sk-container-id-1 label.sk-toggleable__label {cursor: pointer;display: block;width: 100%;margin-bottom: 0;padding: 0.3em;box-sizing: border-box;text-align: center;}#sk-container-id-1 label.sk-toggleable__label-arrow:before {content: \"▸\";float: left;margin-right: 0.25em;color: #696969;}#sk-container-id-1 label.sk-toggleable__label-arrow:hover:before {color: black;}#sk-container-id-1 div.sk-estimator:hover label.sk-toggleable__label-arrow:before {color: black;}#sk-container-id-1 div.sk-toggleable__content {max-height: 0;max-width: 0;overflow: hidden;text-align: left;background-color: #f0f8ff;}#sk-container-id-1 div.sk-toggleable__content pre {margin: 0.2em;color: black;border-radius: 0.25em;background-color: #f0f8ff;}#sk-container-id-1 input.sk-toggleable__control:checked~div.sk-toggleable__content {max-height: 200px;max-width: 100%;overflow: auto;}#sk-container-id-1 input.sk-toggleable__control:checked~label.sk-toggleable__label-arrow:before {content: \"▾\";}#sk-container-id-1 div.sk-estimator input.sk-toggleable__control:checked~label.sk-toggleable__label {background-color: #d4ebff;}#sk-container-id-1 div.sk-label input.sk-toggleable__control:checked~label.sk-toggleable__label {background-color: #d4ebff;}#sk-container-id-1 input.sk-hidden--visually {border: 0;clip: rect(1px 1px 1px 1px);clip: rect(1px, 1px, 1px, 1px);height: 1px;margin: -1px;overflow: hidden;padding: 0;position: absolute;width: 1px;}#sk-container-id-1 div.sk-estimator {font-family: monospace;background-color: #f0f8ff;border: 1px dotted black;border-radius: 0.25em;box-sizing: border-box;margin-bottom: 0.5em;}#sk-container-id-1 div.sk-estimator:hover {background-color: #d4ebff;}#sk-container-id-1 div.sk-parallel-item::after {content: \"\";width: 100%;border-bottom: 1px solid gray;flex-grow: 1;}#sk-container-id-1 div.sk-label:hover label.sk-toggleable__label {background-color: #d4ebff;}#sk-container-id-1 div.sk-serial::before {content: \"\";position: absolute;border-left: 1px solid gray;box-sizing: border-box;top: 0;bottom: 0;left: 50%;z-index: 0;}#sk-container-id-1 div.sk-serial {display: flex;flex-direction: column;align-items: center;background-color: white;padding-right: 0.2em;padding-left: 0.2em;position: relative;}#sk-container-id-1 div.sk-item {position: relative;z-index: 1;}#sk-container-id-1 div.sk-parallel {display: flex;align-items: stretch;justify-content: center;background-color: white;position: relative;}#sk-container-id-1 div.sk-item::before, #sk-container-id-1 div.sk-parallel-item::before {content: \"\";position: absolute;border-left: 1px solid gray;box-sizing: border-box;top: 0;bottom: 0;left: 50%;z-index: -1;}#sk-container-id-1 div.sk-parallel-item {display: flex;flex-direction: column;z-index: 1;position: relative;background-color: white;}#sk-container-id-1 div.sk-parallel-item:first-child::after {align-self: flex-end;width: 50%;}#sk-container-id-1 div.sk-parallel-item:last-child::after {align-self: flex-start;width: 50%;}#sk-container-id-1 div.sk-parallel-item:only-child::after {width: 0;}#sk-container-id-1 div.sk-dashed-wrapped {border: 1px dashed gray;margin: 0 0.4em 0.5em 0.4em;box-sizing: border-box;padding-bottom: 0.4em;background-color: white;}#sk-container-id-1 div.sk-label label {font-family: monospace;font-weight: bold;display: inline-block;line-height: 1.2em;}#sk-container-id-1 div.sk-label-container {text-align: center;}#sk-container-id-1 div.sk-container {/* jupyter's `normalize.less` sets `[hidden] { display: none; }` but bootstrap.min.css set `[hidden] { display: none !important; }` so we also need the `!important` here to be able to override the default hidden behavior on the sphinx rendered scikit-learn.org. See: https://github.com/scikit-learn/scikit-learn/issues/21755 */display: inline-block !important;position: relative;}#sk-container-id-1 div.sk-text-repr-fallback {display: none;}</style><div id=\"sk-container-id-1\" class=\"sk-top-container\"><div class=\"sk-text-repr-fallback\"><pre>KMeans(n_clusters=3, random_state=100)</pre><b>In a Jupyter environment, please rerun this cell to show the HTML representation or trust the notebook. <br />On GitHub, the HTML representation is unable to render, please try loading this page with nbviewer.org.</b></div><div class=\"sk-container\" hidden><div class=\"sk-item\"><div class=\"sk-estimator sk-toggleable\"><input class=\"sk-toggleable__control sk-hidden--visually\" id=\"sk-estimator-id-1\" type=\"checkbox\" checked><label for=\"sk-estimator-id-1\" class=\"sk-toggleable__label sk-toggleable__label-arrow\">KMeans</label><div class=\"sk-toggleable__content\"><pre>KMeans(n_clusters=3, random_state=100)</pre></div></div></div></div></div>"
      ],
      "text/plain": [
       "KMeans(n_clusters=3, random_state=100)"
      ]
     },
     "execution_count": 6,
     "metadata": {},
     "output_type": "execute_result"
    }
   ],
   "source": [
    "from sklearn.cluster import KMeans\n",
    "#import\n",
    "\n",
    "md = KMeans(n_clusters = 3, random_state = 100)\n",
    "#n_clusters = 3 으로 지정\n",
    "md.fit(df)\n",
    "#학습"
   ]
  },
  {
   "cell_type": "code",
   "execution_count": 7,
   "id": "7fe70f00",
   "metadata": {},
   "outputs": [
    {
     "data": {
      "text/plain": [
       "array([1, 2, 0, 2, 1, 2, 1, 0, 1, 1, 1, 1, 2, 1, 0, 2, 0, 1, 1, 0, 2, 0,\n",
       "       0, 0, 2, 1, 2, 0, 2, 2, 2, 0, 2, 1, 1, 0, 0, 1, 1, 1, 2, 2, 1, 2,\n",
       "       0, 1, 1, 2, 0, 2, 1, 0, 1, 2, 1, 0, 0, 0, 2, 2, 2, 1, 2, 1, 0, 1,\n",
       "       2, 0, 1, 0, 2, 1, 2, 2, 2, 2, 1, 2, 2, 2, 1, 2, 0, 2, 1, 1, 2, 1,\n",
       "       0, 2, 1, 2, 0, 2, 0, 0, 0, 1, 2, 2, 2, 0, 0, 2, 0, 1, 0, 0, 0, 1,\n",
       "       0, 2, 1, 2, 2, 2, 0, 2, 0, 0, 1, 1, 2, 0, 2, 0, 2, 0, 1, 1, 0, 1,\n",
       "       2, 1, 0, 1, 2, 2, 2, 1, 2, 1, 0, 0, 2, 1, 0, 2, 2, 1, 1, 2, 2, 1,\n",
       "       1, 1, 2, 0, 1, 0, 1, 2, 1, 0, 0, 1, 2, 1, 0, 1, 2, 1, 0, 1, 1, 0,\n",
       "       2, 1, 0, 2, 2, 0, 2, 2, 1, 1, 1, 2, 1, 0, 2, 2, 2, 0, 1, 2, 2, 2,\n",
       "       1, 1, 1, 2, 2, 2, 1, 0, 2, 2, 2, 0, 0, 1, 2, 1, 2, 0, 0, 1, 2, 0,\n",
       "       2, 2, 0, 1, 0, 0, 1, 0, 1, 2, 0, 1, 1, 0, 0, 0, 1, 1, 1, 0, 2, 0,\n",
       "       1, 0, 0, 1, 2, 0, 1, 1, 0, 1, 2, 0, 1, 2, 0, 0, 2, 0, 1, 0, 1, 2,\n",
       "       2, 2, 0, 1, 2, 1, 1, 1, 1, 0, 1, 0, 2, 2, 1, 0, 2, 0, 1, 0, 2, 2,\n",
       "       2, 2, 2, 0, 2, 1, 2, 1, 2, 1, 0, 2, 0, 2, 2, 0, 0, 0, 1, 0, 0, 2,\n",
       "       0, 0, 0, 2, 0, 0, 0, 0, 1, 0, 0, 1, 2, 1, 0, 0, 1, 0, 2, 2, 0, 0,\n",
       "       1, 2, 0, 0, 2, 2, 1, 1, 1, 1, 2, 1, 1, 2, 1, 2, 1, 0, 2, 1, 1, 0,\n",
       "       1, 1, 1, 1, 1, 1, 0, 0, 0, 0, 0, 0, 2, 0, 0, 2, 0, 1, 1, 0, 1, 0,\n",
       "       0, 2, 1, 1, 1, 2, 2, 1, 1, 2, 0, 2, 1, 0, 2, 1, 2, 2, 0, 1, 1, 1,\n",
       "       0, 1, 0, 0, 2, 1, 0, 0, 1, 2, 1, 0, 2, 1, 1, 0, 2, 2, 2, 1, 0, 0,\n",
       "       1, 0, 0, 1, 0, 2, 0, 2, 0, 2, 2, 1, 1, 1, 1, 1, 1, 1, 0, 0, 2, 1,\n",
       "       1, 1, 0, 0, 0, 0, 2, 2, 2, 1, 0, 2, 0, 2, 0, 1, 2, 2, 1, 2, 0, 0,\n",
       "       0, 0, 0, 0, 0, 2, 0, 2, 0, 0, 1, 1, 0, 1, 2, 1, 0, 1, 2, 1, 1, 2,\n",
       "       1, 0, 2, 0, 1, 2, 2, 2, 2, 1, 2, 1, 0, 1, 1, 1, 0, 2, 0, 2, 2, 2,\n",
       "       0, 0, 0, 1, 2, 2, 0, 2, 1, 0, 0, 1, 1, 1, 0, 2, 0, 1, 1, 0, 1, 0,\n",
       "       1, 2, 0, 1, 0, 2, 0, 2, 0, 1, 0, 0, 1, 2, 1, 0, 2, 0, 1, 2, 0, 0,\n",
       "       0, 0, 0, 0, 1, 0, 1, 1, 2, 2, 1, 2, 0, 2, 0, 1, 0, 0, 0, 2, 0, 1,\n",
       "       0, 0, 0, 2, 1, 0, 1, 0, 2, 1, 0, 1, 2, 2, 0, 0, 0, 2, 0, 0, 0, 1,\n",
       "       0, 1, 1, 1, 2, 2, 0, 0, 2, 0, 0, 1, 2, 1, 1, 0, 2, 2, 0, 1, 0, 1,\n",
       "       0, 1, 0, 1, 2, 2, 2, 0, 0, 0, 0, 2, 2, 1, 1, 2, 2, 2, 0, 2, 0, 0,\n",
       "       0, 1, 1, 0, 0, 2, 1, 1, 1, 1, 2, 0, 1, 1, 1, 2, 0, 2, 0, 0, 0, 1,\n",
       "       1, 0, 1, 0, 0, 1, 1, 0, 2, 2, 1, 0, 0, 2, 2, 2, 1, 0, 2, 2, 1, 1,\n",
       "       2, 0, 0, 2, 2, 2, 2, 2, 1, 0, 2, 0, 0, 1, 1, 1, 2, 2, 2, 1, 0, 1,\n",
       "       1, 0, 2, 0, 2, 0, 0, 0, 2, 1, 2, 0, 1, 0, 2, 0, 2, 0, 2, 0, 0, 2,\n",
       "       2, 2, 1, 0, 0, 2, 1, 1, 0, 1, 2, 2, 2, 2, 1, 0, 1, 0, 2, 0, 0, 1,\n",
       "       1, 1, 2, 2, 0, 2, 1, 1, 2, 2, 0, 1, 2, 2, 0, 2, 2, 2, 2, 0, 0, 0,\n",
       "       2, 2, 2, 1, 1, 2, 2, 2, 0, 2, 2, 2, 2, 0, 2, 0, 2, 2, 1, 0, 2, 2,\n",
       "       1, 2, 0, 2, 2, 2, 1, 2, 2, 2, 2, 0, 0, 0, 2, 1, 1, 2, 2, 2, 1, 2,\n",
       "       0, 1, 1, 1, 2, 0, 2, 1, 2, 2, 1, 2, 2, 2, 0, 1, 0, 2, 0, 2, 0, 2,\n",
       "       1, 2, 1, 0, 2, 2, 1, 2, 2, 2, 1, 0, 2, 2, 1, 2, 1, 1, 0, 0, 0, 0,\n",
       "       1, 2, 0, 0, 2, 2, 1, 2, 0, 0, 2, 1, 2, 0, 0, 1, 1, 0, 0, 2, 1, 2,\n",
       "       1, 1, 0, 2, 1, 2, 2, 0, 1, 0, 1, 1, 2, 1, 2, 2, 2, 0, 1, 1, 0, 0,\n",
       "       1, 2, 2, 2, 1, 0, 2, 0, 1, 2, 0, 0, 0, 2, 2, 0, 1, 0, 1, 1, 2, 0,\n",
       "       2, 2, 0, 1, 0, 2, 1, 1, 1, 1, 2, 1, 1, 1, 1, 1, 2, 1, 2, 1, 2, 0,\n",
       "       1, 1, 1, 0, 2, 1, 0, 1, 1, 1, 2, 0, 1, 2, 1, 0, 1, 1, 0, 1, 0, 2,\n",
       "       1, 1, 1, 1, 0, 2, 0, 2, 1, 1, 2, 1, 0, 0, 1, 2, 0, 0, 0, 1, 0, 1,\n",
       "       1, 1, 1, 2, 1, 1, 1, 0, 2, 1], dtype=int32)"
      ]
     },
     "execution_count": 7,
     "metadata": {},
     "output_type": "execute_result"
    }
   ],
   "source": [
    "md.predict(df)\n",
    "#예측"
   ]
  },
  {
   "cell_type": "code",
   "execution_count": 8,
   "id": "189f21e8",
   "metadata": {},
   "outputs": [],
   "source": [
    "df['label'] = md.predict(df)\n",
    "#예측값을 label 컬럼으로 지정"
   ]
  },
  {
   "cell_type": "code",
   "execution_count": 10,
   "id": "d607b318",
   "metadata": {
    "scrolled": false
   },
   "outputs": [
    {
     "data": {
      "text/plain": [
       "<AxesSubplot:xlabel='var_1', ylabel='var_2'>"
      ]
     },
     "execution_count": 10,
     "metadata": {},
     "output_type": "execute_result"
    },
    {
     "data": {
      "image/png": "[encoded data removed]",
      "text/plain": [
       "<Figure size 432x288 with 1 Axes>"
      ]
     },
     "metadata": {
      "needs_background": "light"
     },
     "output_type": "display_data"
    }
   ],
   "source": [
    "sns.scatterplot(x = 'var_1', y = 'var_2', data = df, hue = 'label',\\\n",
    "               palette = 'rainbow')\n",
    "#hue(범례) 를 label 로 지정 후, 산점도 시각화"
   ]
  },
  {
   "cell_type": "code",
   "execution_count": 11,
   "id": "3f3f19b4",
   "metadata": {
    "scrolled": true
   },
   "outputs": [
    {
     "data": {
      "text/plain": [
       "3090.033237076661"
      ]
     },
     "execution_count": 11,
     "metadata": {},
     "output_type": "execute_result"
    }
   ],
   "source": [
    "md.inertia_"
   ]
  },
  {
   "cell_type": "markdown",
   "id": "b88a6da4",
   "metadata": {},
   "source": []
  },
  {
   "cell_type": "markdown",
   "id": "34e4fdaa",
   "metadata": {},
   "source": [
    "*inertia : 각 그룹에서의 중심과 각 그룹에 해당하는 데이터 간 거리에 대한 합"
   ]
  },
  {
   "cell_type": "markdown",
   "id": "6008082e",
   "metadata": {},
   "source": [
    "*해당 값이 작을수록 그룹별로 더 오밀조밀 잘 모이게 분류됐다고 할 수 있습니다."
   ]
  },
  {
   "cell_type": "markdown",
   "id": "f750c23d",
   "metadata": {},
   "source": [
    "*작을수록 좋다고 할 수 있으나, n_clusters(K) 값이 커지면 거리의 합(inertia) 는 필연적으로 작아지게 됩니다,\n",
    "따라서 적절한 K 값 지정이 필요하다고 할 수 있습니다."
   ]
  },
  {
   "cell_type": "markdown",
   "id": "755aa561",
   "metadata": {},
   "source": []
  },
  {
   "cell_type": "code",
   "execution_count": 12,
   "id": "5bc80138",
   "metadata": {},
   "outputs": [],
   "source": [
    "#solution : elbow method\n",
    "\n",
    "distance = []\n",
    "#빈 리스트 생성\n",
    "for k in range(2,10):\n",
    "    #n_clusters 값 순회\n",
    "    md = KMeans(n_clusters = k)\n",
    "    #객체 생성\n",
    "    md.fit(df)\n",
    "    #학습\n",
    "    distance.append(md.inertia_)\n",
    "    #inertia 를 리스트에 저장"
   ]
  },
  {
   "cell_type": "code",
   "execution_count": 13,
   "id": "2ee81407",
   "metadata": {
    "scrolled": true
   },
   "outputs": [
    {
     "data": {
      "text/plain": [
       "[9908.551424778394,\n",
       " 3090.033237076661,\n",
       " 2719.9541000928593,\n",
       " 2380.3839869988174,\n",
       " 2067.0692306618316,\n",
       " 1810.40461547221,\n",
       " 1583.946785154165,\n",
       " 1371.2149193828936]"
      ]
     },
     "execution_count": 13,
     "metadata": {},
     "output_type": "execute_result"
    }
   ],
   "source": [
    "distance"
   ]
  },
  {
   "cell_type": "code",
   "execution_count": 14,
   "id": "411fa461",
   "metadata": {
    "scrolled": true
   },
   "outputs": [
    {
     "data": {
      "text/plain": [
       "<AxesSubplot:>"
      ]
     },
     "execution_count": 14,
     "metadata": {},
     "output_type": "execute_result"
    },
    {
     "data": {
      "image/png": "[encoded data removed]",
      "text/plain": [
       "<Figure size 432x288 with 1 Axes>"
      ]
     },
     "metadata": {
      "needs_background": "light"
     },
     "output_type": "display_data"
    }
   ],
   "source": [
    "sns.lineplot(x = range(2,10), y = distance)\n",
    "#elbow method 시각화(선형그래프)"
   ]
  },
  {
   "cell_type": "markdown",
   "id": "5fa4e067",
   "metadata": {},
   "source": []
  },
  {
   "cell_type": "markdown",
   "id": "4850eee6",
   "metadata": {},
   "source": [
    "*K 값이 커짐에 따라 distance y 는 점점 작아지는 모양입니다."
   ]
  },
  {
   "cell_type": "markdown",
   "id": "d8466b07",
   "metadata": {},
   "source": [
    "*유독 급격히 각도가 변화하는 지점을 확인할 수 있습니다(K = 3)."
   ]
  },
  {
   "cell_type": "markdown",
   "id": "c9249db1",
   "metadata": {},
   "source": [
    "*이와 같이, elbow method 를 활용하여 distance 가 급격히 줄어드는 K 값을 포착해 최적의 군집 수를 찾을 수 있습니다."
   ]
  },
  {
   "cell_type": "markdown",
   "id": "b00c411e",
   "metadata": {},
   "source": []
  },
  {
   "cell_type": "code",
   "execution_count": 2,
   "id": "a955ef0d",
   "metadata": {},
   "outputs": [
    {
     "data": {
      "text/html": [
       "<div>\n",
       "<style scoped>\n",
       "    .dataframe tbody tr th:only-of-type {\n",
       "        vertical-align: middle;\n",
       "    }\n",
       "\n",
       "    .dataframe tbody tr th {\n",
       "        vertical-align: top;\n",
       "    }\n",
       "\n",
       "    .dataframe thead th {\n",
       "        text-align: right;\n",
       "    }\n",
       "</style>\n",
       "<table border=\"1\" class=\"dataframe\">\n",
       "  <thead>\n",
       "    <tr style=\"text-align: right;\">\n",
       "      <th></th>\n",
       "      <th>cc_num</th>\n",
       "      <th>category</th>\n",
       "      <th>amt</th>\n",
       "    </tr>\n",
       "  </thead>\n",
       "  <tbody>\n",
       "    <tr>\n",
       "      <th>0</th>\n",
       "      <td>2703186189652095</td>\n",
       "      <td>misc</td>\n",
       "      <td>4.97</td>\n",
       "    </tr>\n",
       "    <tr>\n",
       "      <th>1</th>\n",
       "      <td>630423337322</td>\n",
       "      <td>grocery</td>\n",
       "      <td>107.23</td>\n",
       "    </tr>\n",
       "    <tr>\n",
       "      <th>2</th>\n",
       "      <td>38859492057661</td>\n",
       "      <td>entertainment</td>\n",
       "      <td>220.11</td>\n",
       "    </tr>\n",
       "    <tr>\n",
       "      <th>3</th>\n",
       "      <td>3534093764340240</td>\n",
       "      <td>gas_transport</td>\n",
       "      <td>45.00</td>\n",
       "    </tr>\n",
       "    <tr>\n",
       "      <th>4</th>\n",
       "      <td>375534208663984</td>\n",
       "      <td>misc</td>\n",
       "      <td>41.96</td>\n",
       "    </tr>\n",
       "  </tbody>\n",
       "</table>\n",
       "</div>"
      ],
      "text/plain": [
       "             cc_num       category     amt\n",
       "0  2703186189652095           misc    4.97\n",
       "1      630423337322        grocery  107.23\n",
       "2    38859492057661  entertainment  220.11\n",
       "3  3534093764340240  gas_transport   45.00\n",
       "4   375534208663984           misc   41.96"
      ]
     },
     "execution_count": 2,
     "metadata": {},
     "output_type": "execute_result"
    }
   ],
   "source": [
    "#Data 2(고객 구매내역 데이터)\n",
    "\n",
    "customer = pd.read_csv('https://raw.githubusercontent.com/snkn1959/data_source/main/customer.csv')\n",
    "#데이터 출처 : https://raw.githubusercontent.com/snkn1959/data_source\n",
    "customer.head()\n",
    "#카드번호(id) #구매내역 범주 #거래 금액"
   ]
  },
  {
   "cell_type": "code",
   "execution_count": 4,
   "id": "b7fa1f39",
   "metadata": {},
   "outputs": [
    {
     "name": "stdout",
     "output_type": "stream",
     "text": [
      "<class 'pandas.core.frame.DataFrame'>\n",
      "RangeIndex: 240454 entries, 0 to 240453\n",
      "Data columns (total 3 columns):\n",
      " #   Column    Non-Null Count   Dtype  \n",
      "---  ------    --------------   -----  \n",
      " 0   cc_num    240454 non-null  int64  \n",
      " 1   category  240454 non-null  object \n",
      " 2   amt       240454 non-null  float64\n",
      "dtypes: float64(1), int64(1), object(1)\n",
      "memory usage: 5.5+ MB\n"
     ]
    }
   ],
   "source": [
    "customer.info()\n",
    "#total : 240454 rows / 3 cols"
   ]
  },
  {
   "cell_type": "code",
   "execution_count": 17,
   "id": "34bb4c6b",
   "metadata": {},
   "outputs": [
    {
     "data": {
      "text/plain": [
       "100"
      ]
     },
     "execution_count": 17,
     "metadata": {},
     "output_type": "execute_result"
    }
   ],
   "source": [
    "customer['cc_num'].nunique()\n",
    "#카드번호 고윳값 확인"
   ]
  },
  {
   "cell_type": "code",
   "execution_count": 18,
   "id": "9472a3f9",
   "metadata": {},
   "outputs": [
    {
     "data": {
      "text/plain": [
       "11"
      ]
     },
     "execution_count": 18,
     "metadata": {},
     "output_type": "execute_result"
    }
   ],
   "source": [
    "customer['category'].nunique()\n",
    "#구매내역 범주 고윳값 확인"
   ]
  },
  {
   "cell_type": "markdown",
   "id": "f5d27613",
   "metadata": {},
   "source": []
  },
  {
   "cell_type": "markdown",
   "id": "e813cb5d",
   "metadata": {},
   "source": [
    "*각 고객이 어떤 범주에 얼만큼 지불했는지 계산 후, K-means clustering 을 활용해 비슷한 특성을 가진 고객끼리 묶는 작업을 진행했습니다."
   ]
  },
  {
   "cell_type": "markdown",
   "id": "c588800a",
   "metadata": {},
   "source": []
  },
  {
   "cell_type": "markdown",
   "id": "ed90a72a",
   "metadata": {},
   "source": [
    "* 데이터 전처리"
   ]
  },
  {
   "cell_type": "markdown",
   "id": "2de2df63",
   "metadata": {},
   "source": []
  },
  {
   "cell_type": "code",
   "execution_count": 19,
   "id": "45a78c6f",
   "metadata": {
    "scrolled": true
   },
   "outputs": [
    {
     "data": {
      "text/html": [
       "<div>\n",
       "<style scoped>\n",
       "    .dataframe tbody tr th:only-of-type {\n",
       "        vertical-align: middle;\n",
       "    }\n",
       "\n",
       "    .dataframe tbody tr th {\n",
       "        vertical-align: top;\n",
       "    }\n",
       "\n",
       "    .dataframe thead th {\n",
       "        text-align: right;\n",
       "    }\n",
       "</style>\n",
       "<table border=\"1\" class=\"dataframe\">\n",
       "  <thead>\n",
       "    <tr style=\"text-align: right;\">\n",
       "      <th></th>\n",
       "      <th>cc_num</th>\n",
       "      <th>amt</th>\n",
       "      <th>category_entertainment</th>\n",
       "      <th>category_food_dining</th>\n",
       "      <th>category_gas_transport</th>\n",
       "      <th>category_grocery</th>\n",
       "      <th>category_health_fitness</th>\n",
       "      <th>category_home</th>\n",
       "      <th>category_kids_pets</th>\n",
       "      <th>category_misc</th>\n",
       "      <th>category_personal_care</th>\n",
       "      <th>category_shopping</th>\n",
       "      <th>category_travel</th>\n",
       "    </tr>\n",
       "  </thead>\n",
       "  <tbody>\n",
       "    <tr>\n",
       "      <th>0</th>\n",
       "      <td>2703186189652095</td>\n",
       "      <td>4.97</td>\n",
       "      <td>0</td>\n",
       "      <td>0</td>\n",
       "      <td>0</td>\n",
       "      <td>0</td>\n",
       "      <td>0</td>\n",
       "      <td>0</td>\n",
       "      <td>0</td>\n",
       "      <td>1</td>\n",
       "      <td>0</td>\n",
       "      <td>0</td>\n",
       "      <td>0</td>\n",
       "    </tr>\n",
       "    <tr>\n",
       "      <th>1</th>\n",
       "      <td>630423337322</td>\n",
       "      <td>107.23</td>\n",
       "      <td>0</td>\n",
       "      <td>0</td>\n",
       "      <td>0</td>\n",
       "      <td>1</td>\n",
       "      <td>0</td>\n",
       "      <td>0</td>\n",
       "      <td>0</td>\n",
       "      <td>0</td>\n",
       "      <td>0</td>\n",
       "      <td>0</td>\n",
       "      <td>0</td>\n",
       "    </tr>\n",
       "    <tr>\n",
       "      <th>2</th>\n",
       "      <td>38859492057661</td>\n",
       "      <td>220.11</td>\n",
       "      <td>1</td>\n",
       "      <td>0</td>\n",
       "      <td>0</td>\n",
       "      <td>0</td>\n",
       "      <td>0</td>\n",
       "      <td>0</td>\n",
       "      <td>0</td>\n",
       "      <td>0</td>\n",
       "      <td>0</td>\n",
       "      <td>0</td>\n",
       "      <td>0</td>\n",
       "    </tr>\n",
       "    <tr>\n",
       "      <th>3</th>\n",
       "      <td>3534093764340240</td>\n",
       "      <td>45.00</td>\n",
       "      <td>0</td>\n",
       "      <td>0</td>\n",
       "      <td>1</td>\n",
       "      <td>0</td>\n",
       "      <td>0</td>\n",
       "      <td>0</td>\n",
       "      <td>0</td>\n",
       "      <td>0</td>\n",
       "      <td>0</td>\n",
       "      <td>0</td>\n",
       "      <td>0</td>\n",
       "    </tr>\n",
       "    <tr>\n",
       "      <th>4</th>\n",
       "      <td>375534208663984</td>\n",
       "      <td>41.96</td>\n",
       "      <td>0</td>\n",
       "      <td>0</td>\n",
       "      <td>0</td>\n",
       "      <td>0</td>\n",
       "      <td>0</td>\n",
       "      <td>0</td>\n",
       "      <td>0</td>\n",
       "      <td>1</td>\n",
       "      <td>0</td>\n",
       "      <td>0</td>\n",
       "      <td>0</td>\n",
       "    </tr>\n",
       "  </tbody>\n",
       "</table>\n",
       "</div>"
      ],
      "text/plain": [
       "             cc_num     amt  category_entertainment  category_food_dining  \\\n",
       "0  2703186189652095    4.97                       0                     0   \n",
       "1      630423337322  107.23                       0                     0   \n",
       "2    38859492057661  220.11                       1                     0   \n",
       "3  3534093764340240   45.00                       0                     0   \n",
       "4   375534208663984   41.96                       0                     0   \n",
       "\n",
       "   category_gas_transport  category_grocery  category_health_fitness  \\\n",
       "0                       0                 0                        0   \n",
       "1                       0                 1                        0   \n",
       "2                       0                 0                        0   \n",
       "3                       1                 0                        0   \n",
       "4                       0                 0                        0   \n",
       "\n",
       "   category_home  category_kids_pets  category_misc  category_personal_care  \\\n",
       "0              0                   0              1                       0   \n",
       "1              0                   0              0                       0   \n",
       "2              0                   0              0                       0   \n",
       "3              0                   0              0                       0   \n",
       "4              0                   0              1                       0   \n",
       "\n",
       "   category_shopping  category_travel  \n",
       "0                  0                0  \n",
       "1                  0                0  \n",
       "2                  0                0  \n",
       "3                  0                0  \n",
       "4                  0                0  "
      ]
     },
     "execution_count": 19,
     "metadata": {},
     "output_type": "execute_result"
    }
   ],
   "source": [
    "customer_dummy = pd.get_dummies(customer, columns = ['category'])\n",
    "#더미 변수로 변환\n",
    "customer_dummy.head()"
   ]
  },
  {
   "cell_type": "markdown",
   "id": "a77895db",
   "metadata": {},
   "source": []
  },
  {
   "cell_type": "markdown",
   "id": "edc61c92",
   "metadata": {},
   "source": [
    "*범주별로 얼만큼의 금액을 썼는지 계산을 위해, 더미 변수로 변환된 영역에 amt(거래 금액) 변수값을 곱해 계산했습니다."
   ]
  },
  {
   "cell_type": "markdown",
   "id": "6c8832f2",
   "metadata": {},
   "source": []
  },
  {
   "cell_type": "code",
   "execution_count": 20,
   "id": "5f7e9ccc",
   "metadata": {},
   "outputs": [],
   "source": [
    "cat_list = customer_dummy.columns[2:]\n",
    "#구매내역 범주 더미 컬럼 분리\n",
    "\n",
    "for i in cat_list:\n",
    "    #순회\n",
    "    customer_dummy[i] = customer_dummy[i] * customer_dummy['amt']\n",
    "    #더미 컬럼(0 또는 1) 에 거래 금액 곱셈 작업"
   ]
  },
  {
   "cell_type": "code",
   "execution_count": 26,
   "id": "55203792",
   "metadata": {},
   "outputs": [
    {
     "data": {
      "text/plain": [
       "240454"
      ]
     },
     "execution_count": 26,
     "metadata": {},
     "output_type": "execute_result"
    }
   ],
   "source": [
    "len(customer_dummy)"
   ]
  },
  {
   "cell_type": "code",
   "execution_count": 22,
   "id": "a99bc9b3",
   "metadata": {},
   "outputs": [],
   "source": [
    "agg = customer_dummy.groupby('cc_num').sum()\n",
    "#cc_num(카드번호) 별 총 금액"
   ]
  },
  {
   "cell_type": "code",
   "execution_count": 23,
   "id": "45853fa7",
   "metadata": {
    "scrolled": true
   },
   "outputs": [
    {
     "data": {
      "text/html": [
       "<div>\n",
       "<style scoped>\n",
       "    .dataframe tbody tr th:only-of-type {\n",
       "        vertical-align: middle;\n",
       "    }\n",
       "\n",
       "    .dataframe tbody tr th {\n",
       "        vertical-align: top;\n",
       "    }\n",
       "\n",
       "    .dataframe thead th {\n",
       "        text-align: right;\n",
       "    }\n",
       "</style>\n",
       "<table border=\"1\" class=\"dataframe\">\n",
       "  <thead>\n",
       "    <tr style=\"text-align: right;\">\n",
       "      <th></th>\n",
       "      <th>amt</th>\n",
       "      <th>category_entertainment</th>\n",
       "      <th>category_food_dining</th>\n",
       "      <th>category_gas_transport</th>\n",
       "      <th>category_grocery</th>\n",
       "      <th>category_health_fitness</th>\n",
       "      <th>category_home</th>\n",
       "      <th>category_kids_pets</th>\n",
       "      <th>category_misc</th>\n",
       "      <th>category_personal_care</th>\n",
       "      <th>category_shopping</th>\n",
       "      <th>category_travel</th>\n",
       "    </tr>\n",
       "    <tr>\n",
       "      <th>cc_num</th>\n",
       "      <th></th>\n",
       "      <th></th>\n",
       "      <th></th>\n",
       "      <th></th>\n",
       "      <th></th>\n",
       "      <th></th>\n",
       "      <th></th>\n",
       "      <th></th>\n",
       "      <th></th>\n",
       "      <th></th>\n",
       "      <th></th>\n",
       "      <th></th>\n",
       "    </tr>\n",
       "  </thead>\n",
       "  <tbody>\n",
       "    <tr>\n",
       "      <th>60495593109</th>\n",
       "      <td>48149.62</td>\n",
       "      <td>3169.74</td>\n",
       "      <td>4043.46</td>\n",
       "      <td>5076.36</td>\n",
       "      <td>7576.58</td>\n",
       "      <td>1631.22</td>\n",
       "      <td>5458.58</td>\n",
       "      <td>4924.97</td>\n",
       "      <td>4889.57</td>\n",
       "      <td>3135.25</td>\n",
       "      <td>8106.36</td>\n",
       "      <td>137.53</td>\n",
       "    </tr>\n",
       "    <tr>\n",
       "      <th>571365235126</th>\n",
       "      <td>259784.87</td>\n",
       "      <td>13864.51</td>\n",
       "      <td>9055.51</td>\n",
       "      <td>36525.79</td>\n",
       "      <td>48812.73</td>\n",
       "      <td>13685.60</td>\n",
       "      <td>19342.79</td>\n",
       "      <td>17726.82</td>\n",
       "      <td>32542.61</td>\n",
       "      <td>16672.08</td>\n",
       "      <td>45994.60</td>\n",
       "      <td>5561.83</td>\n",
       "    </tr>\n",
       "    <tr>\n",
       "      <th>571465035400</th>\n",
       "      <td>270081.63</td>\n",
       "      <td>16162.98</td>\n",
       "      <td>15448.75</td>\n",
       "      <td>9081.62</td>\n",
       "      <td>41643.82</td>\n",
       "      <td>15244.03</td>\n",
       "      <td>28282.98</td>\n",
       "      <td>13737.95</td>\n",
       "      <td>15880.82</td>\n",
       "      <td>8771.27</td>\n",
       "      <td>59454.96</td>\n",
       "      <td>46372.45</td>\n",
       "    </tr>\n",
       "    <tr>\n",
       "      <th>630412733309</th>\n",
       "      <td>41959.52</td>\n",
       "      <td>3212.46</td>\n",
       "      <td>1543.16</td>\n",
       "      <td>5786.98</td>\n",
       "      <td>8416.70</td>\n",
       "      <td>3201.04</td>\n",
       "      <td>2474.68</td>\n",
       "      <td>3648.97</td>\n",
       "      <td>3109.83</td>\n",
       "      <td>2592.17</td>\n",
       "      <td>7586.79</td>\n",
       "      <td>386.74</td>\n",
       "    </tr>\n",
       "    <tr>\n",
       "      <th>630423337322</th>\n",
       "      <td>244612.73</td>\n",
       "      <td>12786.75</td>\n",
       "      <td>6905.07</td>\n",
       "      <td>36460.40</td>\n",
       "      <td>43854.26</td>\n",
       "      <td>12136.74</td>\n",
       "      <td>21106.87</td>\n",
       "      <td>16807.24</td>\n",
       "      <td>32400.76</td>\n",
       "      <td>15885.32</td>\n",
       "      <td>44287.02</td>\n",
       "      <td>1982.30</td>\n",
       "    </tr>\n",
       "  </tbody>\n",
       "</table>\n",
       "</div>"
      ],
      "text/plain": [
       "                    amt  category_entertainment  category_food_dining  \\\n",
       "cc_num                                                                  \n",
       "60495593109    48149.62                 3169.74               4043.46   \n",
       "571365235126  259784.87                13864.51               9055.51   \n",
       "571465035400  270081.63                16162.98              15448.75   \n",
       "630412733309   41959.52                 3212.46               1543.16   \n",
       "630423337322  244612.73                12786.75               6905.07   \n",
       "\n",
       "              category_gas_transport  category_grocery  \\\n",
       "cc_num                                                   \n",
       "60495593109                  5076.36           7576.58   \n",
       "571365235126                36525.79          48812.73   \n",
       "571465035400                 9081.62          41643.82   \n",
       "630412733309                 5786.98           8416.70   \n",
       "630423337322                36460.40          43854.26   \n",
       "\n",
       "              category_health_fitness  category_home  category_kids_pets  \\\n",
       "cc_num                                                                     \n",
       "60495593109                   1631.22        5458.58             4924.97   \n",
       "571365235126                 13685.60       19342.79            17726.82   \n",
       "571465035400                 15244.03       28282.98            13737.95   \n",
       "630412733309                  3201.04        2474.68             3648.97   \n",
       "630423337322                 12136.74       21106.87            16807.24   \n",
       "\n",
       "              category_misc  category_personal_care  category_shopping  \\\n",
       "cc_num                                                                   \n",
       "60495593109         4889.57                 3135.25            8106.36   \n",
       "571365235126       32542.61                16672.08           45994.60   \n",
       "571465035400       15880.82                 8771.27           59454.96   \n",
       "630412733309        3109.83                 2592.17            7586.79   \n",
       "630423337322       32400.76                15885.32           44287.02   \n",
       "\n",
       "              category_travel  \n",
       "cc_num                         \n",
       "60495593109            137.53  \n",
       "571365235126          5561.83  \n",
       "571465035400         46372.45  \n",
       "630412733309           386.74  \n",
       "630423337322          1982.30  "
      ]
     },
     "execution_count": 23,
     "metadata": {},
     "output_type": "execute_result"
    }
   ],
   "source": [
    "agg.head()\n",
    "#상위 5행 확인"
   ]
  },
  {
   "cell_type": "markdown",
   "id": "f083c047",
   "metadata": {},
   "source": []
  },
  {
   "cell_type": "markdown",
   "id": "9bce7782",
   "metadata": {},
   "source": [
    "*KNN, K-means clustering -> 거리 기반 알고리즘이기 때문에, 데이터 스케일의 영향을 받습니다."
   ]
  },
  {
   "cell_type": "markdown",
   "id": "4cdd35ce",
   "metadata": {},
   "source": [
    "*StandardScaler 를 사용해 스케일링 작업을 진행했습니다."
   ]
  },
  {
   "cell_type": "markdown",
   "id": "517f3ae4",
   "metadata": {},
   "source": []
  },
  {
   "cell_type": "code",
   "execution_count": 28,
   "id": "a8a11476",
   "metadata": {},
   "outputs": [],
   "source": [
    "from sklearn.preprocessing import StandardScaler\n",
    "#import\n",
    "sc = StandardScaler()\n",
    "#스케일러 객체 생성\n",
    "scaled = pd.DataFrame(sc.fit_transform(agg), columns = agg.columns,\\\n",
    "                     index = agg.index)\n",
    "#스케일링 후 데이터프레임으로 변환"
   ]
  },
  {
   "cell_type": "code",
   "execution_count": 29,
   "id": "51e59816",
   "metadata": {},
   "outputs": [
    {
     "data": {
      "text/html": [
       "<div>\n",
       "<style scoped>\n",
       "    .dataframe tbody tr th:only-of-type {\n",
       "        vertical-align: middle;\n",
       "    }\n",
       "\n",
       "    .dataframe tbody tr th {\n",
       "        vertical-align: top;\n",
       "    }\n",
       "\n",
       "    .dataframe thead th {\n",
       "        text-align: right;\n",
       "    }\n",
       "</style>\n",
       "<table border=\"1\" class=\"dataframe\">\n",
       "  <thead>\n",
       "    <tr style=\"text-align: right;\">\n",
       "      <th></th>\n",
       "      <th>amt</th>\n",
       "      <th>category_entertainment</th>\n",
       "      <th>category_food_dining</th>\n",
       "      <th>category_gas_transport</th>\n",
       "      <th>category_grocery</th>\n",
       "      <th>category_health_fitness</th>\n",
       "      <th>category_home</th>\n",
       "      <th>category_kids_pets</th>\n",
       "      <th>category_misc</th>\n",
       "      <th>category_personal_care</th>\n",
       "      <th>category_shopping</th>\n",
       "      <th>category_travel</th>\n",
       "    </tr>\n",
       "    <tr>\n",
       "      <th>cc_num</th>\n",
       "      <th></th>\n",
       "      <th></th>\n",
       "      <th></th>\n",
       "      <th></th>\n",
       "      <th></th>\n",
       "      <th></th>\n",
       "      <th></th>\n",
       "      <th></th>\n",
       "      <th></th>\n",
       "      <th></th>\n",
       "      <th></th>\n",
       "      <th></th>\n",
       "    </tr>\n",
       "  </thead>\n",
       "  <tbody>\n",
       "    <tr>\n",
       "      <th>60495593109</th>\n",
       "      <td>-1.402327</td>\n",
       "      <td>-1.135617</td>\n",
       "      <td>-0.971069</td>\n",
       "      <td>-1.000180</td>\n",
       "      <td>-1.118217</td>\n",
       "      <td>-1.561756</td>\n",
       "      <td>-1.145051</td>\n",
       "      <td>-1.276913</td>\n",
       "      <td>-1.124693</td>\n",
       "      <td>-1.070260</td>\n",
       "      <td>-1.141424</td>\n",
       "      <td>-0.619930</td>\n",
       "    </tr>\n",
       "    <tr>\n",
       "      <th>571365235126</th>\n",
       "      <td>1.079407</td>\n",
       "      <td>0.414075</td>\n",
       "      <td>0.168880</td>\n",
       "      <td>2.090013</td>\n",
       "      <td>0.767268</td>\n",
       "      <td>1.040236</td>\n",
       "      <td>0.844969</td>\n",
       "      <td>1.127922</td>\n",
       "      <td>1.210503</td>\n",
       "      <td>1.807350</td>\n",
       "      <td>0.659967</td>\n",
       "      <td>-0.222587</td>\n",
       "    </tr>\n",
       "    <tr>\n",
       "      <th>571465035400</th>\n",
       "      <td>1.200151</td>\n",
       "      <td>0.747127</td>\n",
       "      <td>1.622968</td>\n",
       "      <td>-0.606627</td>\n",
       "      <td>0.439476</td>\n",
       "      <td>1.376630</td>\n",
       "      <td>2.126364</td>\n",
       "      <td>0.378610</td>\n",
       "      <td>-0.196523</td>\n",
       "      <td>0.127825</td>\n",
       "      <td>1.299938</td>\n",
       "      <td>2.766891</td>\n",
       "    </tr>\n",
       "    <tr>\n",
       "      <th>630412733309</th>\n",
       "      <td>-1.474915</td>\n",
       "      <td>-1.129427</td>\n",
       "      <td>-1.539741</td>\n",
       "      <td>-0.930355</td>\n",
       "      <td>-1.079803</td>\n",
       "      <td>-1.222903</td>\n",
       "      <td>-1.572733</td>\n",
       "      <td>-1.516610</td>\n",
       "      <td>-1.274986</td>\n",
       "      <td>-1.185705</td>\n",
       "      <td>-1.166127</td>\n",
       "      <td>-0.601675</td>\n",
       "    </tr>\n",
       "    <tr>\n",
       "      <th>630423337322</th>\n",
       "      <td>0.901491</td>\n",
       "      <td>0.257905</td>\n",
       "      <td>-0.320220</td>\n",
       "      <td>2.083588</td>\n",
       "      <td>0.540547</td>\n",
       "      <td>0.705908</td>\n",
       "      <td>1.097814</td>\n",
       "      <td>0.955178</td>\n",
       "      <td>1.198524</td>\n",
       "      <td>1.640103</td>\n",
       "      <td>0.578781</td>\n",
       "      <td>-0.484796</td>\n",
       "    </tr>\n",
       "  </tbody>\n",
       "</table>\n",
       "</div>"
      ],
      "text/plain": [
       "                   amt  category_entertainment  category_food_dining  \\\n",
       "cc_num                                                                 \n",
       "60495593109  -1.402327               -1.135617             -0.971069   \n",
       "571365235126  1.079407                0.414075              0.168880   \n",
       "571465035400  1.200151                0.747127              1.622968   \n",
       "630412733309 -1.474915               -1.129427             -1.539741   \n",
       "630423337322  0.901491                0.257905             -0.320220   \n",
       "\n",
       "              category_gas_transport  category_grocery  \\\n",
       "cc_num                                                   \n",
       "60495593109                -1.000180         -1.118217   \n",
       "571365235126                2.090013          0.767268   \n",
       "571465035400               -0.606627          0.439476   \n",
       "630412733309               -0.930355         -1.079803   \n",
       "630423337322                2.083588          0.540547   \n",
       "\n",
       "              category_health_fitness  category_home  category_kids_pets  \\\n",
       "cc_num                                                                     \n",
       "60495593109                 -1.561756      -1.145051           -1.276913   \n",
       "571365235126                 1.040236       0.844969            1.127922   \n",
       "571465035400                 1.376630       2.126364            0.378610   \n",
       "630412733309                -1.222903      -1.572733           -1.516610   \n",
       "630423337322                 0.705908       1.097814            0.955178   \n",
       "\n",
       "              category_misc  category_personal_care  category_shopping  \\\n",
       "cc_num                                                                   \n",
       "60495593109       -1.124693               -1.070260          -1.141424   \n",
       "571365235126       1.210503                1.807350           0.659967   \n",
       "571465035400      -0.196523                0.127825           1.299938   \n",
       "630412733309      -1.274986               -1.185705          -1.166127   \n",
       "630423337322       1.198524                1.640103           0.578781   \n",
       "\n",
       "              category_travel  \n",
       "cc_num                         \n",
       "60495593109         -0.619930  \n",
       "571365235126        -0.222587  \n",
       "571465035400         2.766891  \n",
       "630412733309        -0.601675  \n",
       "630423337322        -0.484796  "
      ]
     },
     "execution_count": 29,
     "metadata": {},
     "output_type": "execute_result"
    }
   ],
   "source": [
    "scaled.head()"
   ]
  },
  {
   "cell_type": "code",
   "execution_count": 30,
   "id": "3c3d6fee",
   "metadata": {
    "scrolled": false
   },
   "outputs": [
    {
     "data": {
      "text/plain": [
       "<AxesSubplot:>"
      ]
     },
     "execution_count": 30,
     "metadata": {},
     "output_type": "execute_result"
    },
    {
     "data": {
      "image/png": "[encoded data removed]",
      "text/plain": [
       "<Figure size 432x288 with 1 Axes>"
      ]
     },
     "metadata": {
      "needs_background": "light"
     },
     "output_type": "display_data"
    }
   ],
   "source": [
    "#elbow method 활용\n",
    "\n",
    "distance = []\n",
    "for k in range(2,10):\n",
    "    md = KMeans(n_clusters = k)\n",
    "    md.fit(scaled)\n",
    "    labels = md.predict(scaled)\n",
    "    distance.append(md.inertia_)\n",
    "\n",
    "sns.lineplot(x = range(2,10), y = distance)"
   ]
  },
  {
   "cell_type": "markdown",
   "id": "7591cede",
   "metadata": {},
   "source": []
  },
  {
   "cell_type": "markdown",
   "id": "a0cd0e51",
   "metadata": {},
   "source": [
    "*어느 한 지점에서 크게 떨어지지 않고 비교적 완만하게 그래프가 내려가고 있습니다(K 값을 결정하기 어렵습니다)."
   ]
  },
  {
   "cell_type": "markdown",
   "id": "ce674f6c",
   "metadata": {},
   "source": [
    "*solution : 실루엣 계수(silhouette coefficient)"
   ]
  },
  {
   "cell_type": "markdown",
   "id": "341cf8f2",
   "metadata": {},
   "source": [
    "클러스터 내부에서의 평균 거리, 최근접한 다른 클러스터 데이터와의 평균 거리를 점수에 반영"
   ]
  },
  {
   "cell_type": "markdown",
   "id": "b0cd27dc",
   "metadata": {},
   "source": [
    "최적 군집 수를 찾는 또다른 방법으로, elbow method 의 대안이 될 수 있습니다."
   ]
  },
  {
   "cell_type": "markdown",
   "id": "dacdb863",
   "metadata": {},
   "source": []
  },
  {
   "cell_type": "code",
   "execution_count": 31,
   "id": "072ae7ea",
   "metadata": {},
   "outputs": [],
   "source": [
    "from sklearn.metrics import silhouette_score\n",
    "#import\n",
    "\n",
    "s = []\n",
    "#실루엣 계수를 담을 리스트 생성\n",
    "for k in range(2,10):\n",
    "    #순회\n",
    "    md = KMeans(n_clusters = k)\n",
    "    md.fit(scaled)\n",
    "    #학습\n",
    "    labels = md.predict(scaled)\n",
    "    #예측\n",
    "    s.append(silhouette_score(scaled, labels))\n",
    "    #실루엣 계수를 리스트에 추가"
   ]
  },
  {
   "cell_type": "code",
   "execution_count": 32,
   "id": "7d3a7175",
   "metadata": {
    "scrolled": true
   },
   "outputs": [
    {
     "data": {
      "text/plain": [
       "<AxesSubplot:>"
      ]
     },
     "execution_count": 32,
     "metadata": {},
     "output_type": "execute_result"
    },
    {
     "data": {
      "image/png": "[encoded data removed]",
      "text/plain": [
       "<Figure size 432x288 with 1 Axes>"
      ]
     },
     "metadata": {
      "needs_background": "light"
     },
     "output_type": "display_data"
    }
   ],
   "source": [
    "sns.lineplot(x = range(2,10), y = s)"
   ]
  },
  {
   "cell_type": "markdown",
   "id": "09b59030",
   "metadata": {},
   "source": []
  },
  {
   "cell_type": "markdown",
   "id": "c5bd8f5a",
   "metadata": {},
   "source": [
    "*점수가 높을수록 더 좋은 분류를 의미한다고 할 수 있습니다. n_clusters = 4 일때, 모델이 가장 좋은 분류 성능을 냅니다."
   ]
  },
  {
   "cell_type": "markdown",
   "id": "87673820",
   "metadata": {},
   "source": []
  },
  {
   "cell_type": "code",
   "execution_count": 33,
   "id": "ff24791f",
   "metadata": {},
   "outputs": [
    {
     "data": {
      "text/plain": [
       "array([0, 1, 3, 0, 1, 1, 0, 1, 1, 0, 1, 0, 0, 0, 2, 2, 0, 0, 1, 0, 1, 2,\n",
       "       1, 0, 1, 0, 2, 3, 3, 0, 1, 3, 1, 1, 3, 3, 1, 0, 1, 1, 1, 0, 1, 0,\n",
       "       2, 2, 1, 0, 1, 1, 0, 1, 2, 0, 0, 0, 0, 0, 1, 0, 0, 3, 2, 1, 0, 2,\n",
       "       3, 0, 1, 1, 0, 0, 1, 1, 0, 0, 1, 0, 0, 0, 0, 1, 0, 0, 0, 1, 2, 1,\n",
       "       0, 1, 1, 0, 0, 0, 1, 1, 0, 0, 0, 1], dtype=int32)"
      ]
     },
     "execution_count": 33,
     "metadata": {},
     "output_type": "execute_result"
    }
   ],
   "source": [
    "#n_clusters = 4 적용\n",
    "md = KMeans(n_clusters = 4)\n",
    "md.fit(scaled)\n",
    "labels = md.predict(scaled)\n",
    "labels"
   ]
  },
  {
   "cell_type": "code",
   "execution_count": 34,
   "id": "96ed8174",
   "metadata": {},
   "outputs": [],
   "source": [
    "scaled['label'] = labels\n",
    "#label 을 데이터셋에서 별도의 컬럼으로 생성"
   ]
  },
  {
   "cell_type": "code",
   "execution_count": 35,
   "id": "a25683f1",
   "metadata": {},
   "outputs": [],
   "source": [
    "scaled_mean = scaled.groupby('label').mean()\n",
    "#label 별 평균값\n",
    "scaled_count = scaled.groupby('label').count()['category_travel']\n",
    "#label 별 등장 횟수"
   ]
  },
  {
   "cell_type": "code",
   "execution_count": 37,
   "id": "f0f23b58",
   "metadata": {},
   "outputs": [],
   "source": [
    "scaled_count = scaled_count.rename('count')"
   ]
  },
  {
   "cell_type": "code",
   "execution_count": 38,
   "id": "b55fe3c1",
   "metadata": {
    "scrolled": true
   },
   "outputs": [
    {
     "data": {
      "text/html": [
       "<div>\n",
       "<style scoped>\n",
       "    .dataframe tbody tr th:only-of-type {\n",
       "        vertical-align: middle;\n",
       "    }\n",
       "\n",
       "    .dataframe tbody tr th {\n",
       "        vertical-align: top;\n",
       "    }\n",
       "\n",
       "    .dataframe thead th {\n",
       "        text-align: right;\n",
       "    }\n",
       "</style>\n",
       "<table border=\"1\" class=\"dataframe\">\n",
       "  <thead>\n",
       "    <tr style=\"text-align: right;\">\n",
       "      <th></th>\n",
       "      <th>amt</th>\n",
       "      <th>category_entertainment</th>\n",
       "      <th>category_food_dining</th>\n",
       "      <th>category_gas_transport</th>\n",
       "      <th>category_grocery</th>\n",
       "      <th>category_health_fitness</th>\n",
       "      <th>category_home</th>\n",
       "      <th>category_kids_pets</th>\n",
       "      <th>category_misc</th>\n",
       "      <th>category_personal_care</th>\n",
       "      <th>category_shopping</th>\n",
       "      <th>category_travel</th>\n",
       "      <th>count</th>\n",
       "    </tr>\n",
       "    <tr>\n",
       "      <th>label</th>\n",
       "      <th></th>\n",
       "      <th></th>\n",
       "      <th></th>\n",
       "      <th></th>\n",
       "      <th></th>\n",
       "      <th></th>\n",
       "      <th></th>\n",
       "      <th></th>\n",
       "      <th></th>\n",
       "      <th></th>\n",
       "      <th></th>\n",
       "      <th></th>\n",
       "      <th></th>\n",
       "    </tr>\n",
       "  </thead>\n",
       "  <tbody>\n",
       "    <tr>\n",
       "      <th>0</th>\n",
       "      <td>-0.858082</td>\n",
       "      <td>-0.739555</td>\n",
       "      <td>-0.758078</td>\n",
       "      <td>-0.601061</td>\n",
       "      <td>-0.653905</td>\n",
       "      <td>-0.837854</td>\n",
       "      <td>-0.832432</td>\n",
       "      <td>-0.866100</td>\n",
       "      <td>-0.701383</td>\n",
       "      <td>-0.760106</td>\n",
       "      <td>-0.689347</td>\n",
       "      <td>-0.266604</td>\n",
       "      <td>45</td>\n",
       "    </tr>\n",
       "    <tr>\n",
       "      <th>1</th>\n",
       "      <td>0.311574</td>\n",
       "      <td>0.149105</td>\n",
       "      <td>0.212407</td>\n",
       "      <td>1.025558</td>\n",
       "      <td>0.109070</td>\n",
       "      <td>0.452339</td>\n",
       "      <td>0.369237</td>\n",
       "      <td>0.716395</td>\n",
       "      <td>0.378376</td>\n",
       "      <td>0.470040</td>\n",
       "      <td>0.010316</td>\n",
       "      <td>-0.264410</td>\n",
       "      <td>37</td>\n",
       "    </tr>\n",
       "    <tr>\n",
       "      <th>2</th>\n",
       "      <td>1.908120</td>\n",
       "      <td>2.155375</td>\n",
       "      <td>1.796299</td>\n",
       "      <td>-0.490418</td>\n",
       "      <td>2.290553</td>\n",
       "      <td>1.155923</td>\n",
       "      <td>0.943950</td>\n",
       "      <td>1.255997</td>\n",
       "      <td>2.005393</td>\n",
       "      <td>1.756210</td>\n",
       "      <td>2.272314</td>\n",
       "      <td>-0.262740</td>\n",
       "      <td>10</td>\n",
       "    </tr>\n",
       "    <tr>\n",
       "      <th>3</th>\n",
       "      <td>1.000533</td>\n",
       "      <td>0.776166</td>\n",
       "      <td>1.036432</td>\n",
       "      <td>-0.749213</td>\n",
       "      <td>0.310577</td>\n",
       "      <td>1.175961</td>\n",
       "      <td>1.794775</td>\n",
       "      <td>-0.011510</td>\n",
       "      <td>-0.311453</td>\n",
       "      <td>-0.093603</td>\n",
       "      <td>0.989477</td>\n",
       "      <td>3.050970</td>\n",
       "      <td>8</td>\n",
       "    </tr>\n",
       "  </tbody>\n",
       "</table>\n",
       "</div>"
      ],
      "text/plain": [
       "            amt  category_entertainment  category_food_dining  \\\n",
       "label                                                           \n",
       "0     -0.858082               -0.739555             -0.758078   \n",
       "1      0.311574                0.149105              0.212407   \n",
       "2      1.908120                2.155375              1.796299   \n",
       "3      1.000533                0.776166              1.036432   \n",
       "\n",
       "       category_gas_transport  category_grocery  category_health_fitness  \\\n",
       "label                                                                      \n",
       "0                   -0.601061         -0.653905                -0.837854   \n",
       "1                    1.025558          0.109070                 0.452339   \n",
       "2                   -0.490418          2.290553                 1.155923   \n",
       "3                   -0.749213          0.310577                 1.175961   \n",
       "\n",
       "       category_home  category_kids_pets  category_misc  \\\n",
       "label                                                     \n",
       "0          -0.832432           -0.866100      -0.701383   \n",
       "1           0.369237            0.716395       0.378376   \n",
       "2           0.943950            1.255997       2.005393   \n",
       "3           1.794775           -0.011510      -0.311453   \n",
       "\n",
       "       category_personal_care  category_shopping  category_travel  count  \n",
       "label                                                                     \n",
       "0                   -0.760106          -0.689347        -0.266604     45  \n",
       "1                    0.470040           0.010316        -0.264410     37  \n",
       "2                    1.756210           2.272314        -0.262740     10  \n",
       "3                   -0.093603           0.989477         3.050970      8  "
      ]
     },
     "execution_count": 38,
     "metadata": {},
     "output_type": "execute_result"
    }
   ],
   "source": [
    "scaled = scaled_mean.join(scaled_count)\n",
    "#join\n",
    "scaled"
   ]
  },
  {
   "cell_type": "markdown",
   "id": "4f8e5a97",
   "metadata": {},
   "source": []
  },
  {
   "cell_type": "markdown",
   "id": "dd63d4b4",
   "metadata": {},
   "source": [
    "*군집0, 45명 - 전체 지출액, 각 범주 금액까지 모두 다른 군집에 비해 낮은 고객군"
   ]
  },
  {
   "cell_type": "markdown",
   "id": "a4bf7a92",
   "metadata": {},
   "source": [
    "*군집1, 37명 - gas_transport 에서 상대적으로 높은 지출을 보이지만, 딱히 특징이 없는 일반 고객군"
   ]
  },
  {
   "cell_type": "markdown",
   "id": "3968d174",
   "metadata": {},
   "source": [
    "*군집2, 10명 - 전체 지출금액, 대다수의 범주에서 높은 지출을 보이는 상위 10% VIP 고객군"
   ]
  },
  {
   "cell_type": "markdown",
   "id": "d2fb6e10",
   "metadata": {},
   "source": [
    "*군집3, 8명 - health, home, travel 에 비교적 지출이 높고, 특히 travel 에서 압도적으로 높은 지출을 보임(여행에 관심이 많은 고객군)"
   ]
  }
 ],
 "metadata": {
  "kernelspec": {
   "display_name": "Python 3",
   "language": "python",
   "name": "python3"
  },
  "language_info": {
   "codemirror_mode": {
    "name": "ipython",
    "version": 3
   },
   "file_extension": ".py",
   "mimetype": "text/x-python",
   "name": "python",
   "nbconvert_exporter": "python",
   "pygments_lexer": "ipython3",
   "version": "3.8.8"
  }
 },
 "nbformat": 4,
 "nbformat_minor": 5
}
